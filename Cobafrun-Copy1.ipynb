{
 "cells": [
  {
   "cell_type": "code",
   "execution_count": 67,
   "id": "6a472bc7",
   "metadata": {},
   "outputs": [
    {
     "data": {
      "text/html": [
       "<div>\n",
       "<style scoped>\n",
       "    .dataframe tbody tr th:only-of-type {\n",
       "        vertical-align: middle;\n",
       "    }\n",
       "\n",
       "    .dataframe tbody tr th {\n",
       "        vertical-align: top;\n",
       "    }\n",
       "\n",
       "    .dataframe thead th {\n",
       "        text-align: right;\n",
       "    }\n",
       "</style>\n",
       "<table border=\"1\" class=\"dataframe\">\n",
       "  <thead>\n",
       "    <tr style=\"text-align: right;\">\n",
       "      <th></th>\n",
       "      <th>CobafRunId</th>\n",
       "      <th>CustomerJourneyId</th>\n",
       "      <th>Url</th>\n",
       "      <th>EnvironmentId</th>\n",
       "      <th>BrowserIds</th>\n",
       "      <th>Accessibility</th>\n",
       "      <th>Compatibility</th>\n",
       "      <th>Functional</th>\n",
       "      <th>Visual</th>\n",
       "      <th>Performance</th>\n",
       "      <th>...</th>\n",
       "      <th>UserPassword</th>\n",
       "      <th>AppPerformance</th>\n",
       "      <th>OmnichannelCompatibility</th>\n",
       "      <th>BrowserOnDeviceIds</th>\n",
       "      <th>DeviceId</th>\n",
       "      <th>OmniChannelTest</th>\n",
       "      <th>Securitytesting</th>\n",
       "      <th>RunReference</th>\n",
       "      <th>Responsiveness</th>\n",
       "      <th>Resolution_Category_Id</th>\n",
       "    </tr>\n",
       "  </thead>\n",
       "  <tbody>\n",
       "    <tr>\n",
       "      <th>0</th>\n",
       "      <td>144</td>\n",
       "      <td>1</td>\n",
       "      <td>https://tonikbank.com/</td>\n",
       "      <td>1</td>\n",
       "      <td>1,2</td>\n",
       "      <td>1.0</td>\n",
       "      <td>1</td>\n",
       "      <td>1</td>\n",
       "      <td>1</td>\n",
       "      <td>1</td>\n",
       "      <td>...</td>\n",
       "      <td>nn</td>\n",
       "      <td>0.0</td>\n",
       "      <td>0.0</td>\n",
       "      <td>1</td>\n",
       "      <td>1</td>\n",
       "      <td>0.0</td>\n",
       "      <td>NaN</td>\n",
       "      <td>Test1</td>\n",
       "      <td>NaN</td>\n",
       "      <td>NaN</td>\n",
       "    </tr>\n",
       "    <tr>\n",
       "      <th>1</th>\n",
       "      <td>145</td>\n",
       "      <td>1</td>\n",
       "      <td>https://future-qa-cb.kiteaai.org</td>\n",
       "      <td>1</td>\n",
       "      <td>1</td>\n",
       "      <td>0.0</td>\n",
       "      <td>0</td>\n",
       "      <td>1</td>\n",
       "      <td>0</td>\n",
       "      <td>0</td>\n",
       "      <td>...</td>\n",
       "      <td>ba</td>\n",
       "      <td>0.0</td>\n",
       "      <td>0.0</td>\n",
       "      <td>1</td>\n",
       "      <td>1</td>\n",
       "      <td>0.0</td>\n",
       "      <td>NaN</td>\n",
       "      <td>Test2</td>\n",
       "      <td>NaN</td>\n",
       "      <td>NaN</td>\n",
       "    </tr>\n",
       "    <tr>\n",
       "      <th>2</th>\n",
       "      <td>146</td>\n",
       "      <td>1</td>\n",
       "      <td>https://tonikbank.com/</td>\n",
       "      <td>1</td>\n",
       "      <td>1</td>\n",
       "      <td>1.0</td>\n",
       "      <td>1</td>\n",
       "      <td>1</td>\n",
       "      <td>1</td>\n",
       "      <td>1</td>\n",
       "      <td>...</td>\n",
       "      <td>nn</td>\n",
       "      <td>0.0</td>\n",
       "      <td>0.0</td>\n",
       "      <td>1</td>\n",
       "      <td>1</td>\n",
       "      <td>0.0</td>\n",
       "      <td>NaN</td>\n",
       "      <td>Test3</td>\n",
       "      <td>NaN</td>\n",
       "      <td>NaN</td>\n",
       "    </tr>\n",
       "    <tr>\n",
       "      <th>3</th>\n",
       "      <td>147</td>\n",
       "      <td>1</td>\n",
       "      <td>https://tonikbank.com/</td>\n",
       "      <td>1</td>\n",
       "      <td>1,2</td>\n",
       "      <td>1.0</td>\n",
       "      <td>1</td>\n",
       "      <td>1</td>\n",
       "      <td>1</td>\n",
       "      <td>1</td>\n",
       "      <td>...</td>\n",
       "      <td>nn</td>\n",
       "      <td>0.0</td>\n",
       "      <td>0.0</td>\n",
       "      <td>1</td>\n",
       "      <td>1</td>\n",
       "      <td>0.0</td>\n",
       "      <td>NaN</td>\n",
       "      <td>Test4</td>\n",
       "      <td>NaN</td>\n",
       "      <td>NaN</td>\n",
       "    </tr>\n",
       "    <tr>\n",
       "      <th>4</th>\n",
       "      <td>148</td>\n",
       "      <td>1</td>\n",
       "      <td>https://tonikbank.com/</td>\n",
       "      <td>1</td>\n",
       "      <td>1,2</td>\n",
       "      <td>1.0</td>\n",
       "      <td>1</td>\n",
       "      <td>1</td>\n",
       "      <td>1</td>\n",
       "      <td>1</td>\n",
       "      <td>...</td>\n",
       "      <td>nn</td>\n",
       "      <td>0.0</td>\n",
       "      <td>0.0</td>\n",
       "      <td>1</td>\n",
       "      <td>1</td>\n",
       "      <td>0.0</td>\n",
       "      <td>NaN</td>\n",
       "      <td>Test5</td>\n",
       "      <td>NaN</td>\n",
       "      <td>NaN</td>\n",
       "    </tr>\n",
       "  </tbody>\n",
       "</table>\n",
       "<p>5 rows × 21 columns</p>\n",
       "</div>"
      ],
      "text/plain": [
       "   CobafRunId  CustomerJourneyId                               Url  \\\n",
       "0         144                  1            https://tonikbank.com/   \n",
       "1         145                  1  https://future-qa-cb.kiteaai.org   \n",
       "2         146                  1            https://tonikbank.com/   \n",
       "3         147                  1            https://tonikbank.com/   \n",
       "4         148                  1            https://tonikbank.com/   \n",
       "\n",
       "   EnvironmentId BrowserIds  Accessibility  Compatibility  Functional  Visual  \\\n",
       "0              1        1,2            1.0              1           1       1   \n",
       "1              1          1            0.0              0           1       0   \n",
       "2              1          1            1.0              1           1       1   \n",
       "3              1        1,2            1.0              1           1       1   \n",
       "4              1        1,2            1.0              1           1       1   \n",
       "\n",
       "   Performance  ... UserPassword AppPerformance  OmnichannelCompatibility  \\\n",
       "0            1  ...           nn            0.0                       0.0   \n",
       "1            0  ...           ba            0.0                       0.0   \n",
       "2            1  ...           nn            0.0                       0.0   \n",
       "3            1  ...           nn            0.0                       0.0   \n",
       "4            1  ...           nn            0.0                       0.0   \n",
       "\n",
       "   BrowserOnDeviceIds DeviceId OmniChannelTest  Securitytesting  RunReference  \\\n",
       "0                   1        1             0.0              NaN         Test1   \n",
       "1                   1        1             0.0              NaN         Test2   \n",
       "2                   1        1             0.0              NaN         Test3   \n",
       "3                   1        1             0.0              NaN         Test4   \n",
       "4                   1        1             0.0              NaN         Test5   \n",
       "\n",
       "  Responsiveness  Resolution_Category_Id  \n",
       "0            NaN                     NaN  \n",
       "1            NaN                     NaN  \n",
       "2            NaN                     NaN  \n",
       "3            NaN                     NaN  \n",
       "4            NaN                     NaN  \n",
       "\n",
       "[5 rows x 21 columns]"
      ]
     },
     "execution_count": 67,
     "metadata": {},
     "output_type": "execute_result"
    }
   ],
   "source": [
    "import pandas as pd \n",
    "import sqlite3\n",
    "con = sqlite3.connect(r\"C:\\Users\\kaviarasu.gm\\Downloads\\cobaf_dev.db\")\n",
    "\n",
    "query = \"SELECT * from CobafRun\"\n",
    "\n",
    "df = pd.read_sql(query, con)\n",
    "\n",
    "df.head()"
   ]
  },
  {
   "cell_type": "code",
   "execution_count": 68,
   "id": "4b81e254",
   "metadata": {},
   "outputs": [
    {
     "data": {
      "text/html": [
       "<div>\n",
       "<style scoped>\n",
       "    .dataframe tbody tr th:only-of-type {\n",
       "        vertical-align: middle;\n",
       "    }\n",
       "\n",
       "    .dataframe tbody tr th {\n",
       "        vertical-align: top;\n",
       "    }\n",
       "\n",
       "    .dataframe thead th {\n",
       "        text-align: right;\n",
       "    }\n",
       "</style>\n",
       "<table border=\"1\" class=\"dataframe\">\n",
       "  <thead>\n",
       "    <tr style=\"text-align: right;\">\n",
       "      <th></th>\n",
       "      <th>CobafRunId</th>\n",
       "      <th>CustomerJourneyId</th>\n",
       "      <th>Url</th>\n",
       "      <th>EnvironmentId</th>\n",
       "      <th>BrowserIds</th>\n",
       "      <th>Accessibility</th>\n",
       "      <th>Compatibility</th>\n",
       "      <th>Functional</th>\n",
       "      <th>Visual</th>\n",
       "      <th>Performance</th>\n",
       "      <th>...</th>\n",
       "      <th>UserPassword</th>\n",
       "      <th>AppPerformance</th>\n",
       "      <th>OmnichannelCompatibility</th>\n",
       "      <th>BrowserOnDeviceIds</th>\n",
       "      <th>DeviceId</th>\n",
       "      <th>OmniChannelTest</th>\n",
       "      <th>Securitytesting</th>\n",
       "      <th>RunReference</th>\n",
       "      <th>Responsiveness</th>\n",
       "      <th>Resolution_Category_Id</th>\n",
       "    </tr>\n",
       "  </thead>\n",
       "  <tbody>\n",
       "    <tr>\n",
       "      <th>0</th>\n",
       "      <td>144</td>\n",
       "      <td>1</td>\n",
       "      <td>https://tonikbank.com/</td>\n",
       "      <td>1</td>\n",
       "      <td>1,2</td>\n",
       "      <td>1.0</td>\n",
       "      <td>1</td>\n",
       "      <td>1</td>\n",
       "      <td>1</td>\n",
       "      <td>1</td>\n",
       "      <td>...</td>\n",
       "      <td>nn</td>\n",
       "      <td>0.0</td>\n",
       "      <td>0.0</td>\n",
       "      <td>1</td>\n",
       "      <td>1</td>\n",
       "      <td>0.0</td>\n",
       "      <td>NaN</td>\n",
       "      <td>Test1</td>\n",
       "      <td>NaN</td>\n",
       "      <td>NaN</td>\n",
       "    </tr>\n",
       "    <tr>\n",
       "      <th>1</th>\n",
       "      <td>145</td>\n",
       "      <td>1</td>\n",
       "      <td>https://future-qa-cb.kiteaai.org</td>\n",
       "      <td>1</td>\n",
       "      <td>1</td>\n",
       "      <td>0.0</td>\n",
       "      <td>0</td>\n",
       "      <td>1</td>\n",
       "      <td>0</td>\n",
       "      <td>0</td>\n",
       "      <td>...</td>\n",
       "      <td>ba</td>\n",
       "      <td>0.0</td>\n",
       "      <td>0.0</td>\n",
       "      <td>1</td>\n",
       "      <td>1</td>\n",
       "      <td>0.0</td>\n",
       "      <td>NaN</td>\n",
       "      <td>Test2</td>\n",
       "      <td>NaN</td>\n",
       "      <td>NaN</td>\n",
       "    </tr>\n",
       "    <tr>\n",
       "      <th>2</th>\n",
       "      <td>146</td>\n",
       "      <td>1</td>\n",
       "      <td>https://tonikbank.com/</td>\n",
       "      <td>1</td>\n",
       "      <td>1</td>\n",
       "      <td>1.0</td>\n",
       "      <td>1</td>\n",
       "      <td>1</td>\n",
       "      <td>1</td>\n",
       "      <td>1</td>\n",
       "      <td>...</td>\n",
       "      <td>nn</td>\n",
       "      <td>0.0</td>\n",
       "      <td>0.0</td>\n",
       "      <td>1</td>\n",
       "      <td>1</td>\n",
       "      <td>0.0</td>\n",
       "      <td>NaN</td>\n",
       "      <td>Test3</td>\n",
       "      <td>NaN</td>\n",
       "      <td>NaN</td>\n",
       "    </tr>\n",
       "    <tr>\n",
       "      <th>3</th>\n",
       "      <td>147</td>\n",
       "      <td>1</td>\n",
       "      <td>https://tonikbank.com/</td>\n",
       "      <td>1</td>\n",
       "      <td>1,2</td>\n",
       "      <td>1.0</td>\n",
       "      <td>1</td>\n",
       "      <td>1</td>\n",
       "      <td>1</td>\n",
       "      <td>1</td>\n",
       "      <td>...</td>\n",
       "      <td>nn</td>\n",
       "      <td>0.0</td>\n",
       "      <td>0.0</td>\n",
       "      <td>1</td>\n",
       "      <td>1</td>\n",
       "      <td>0.0</td>\n",
       "      <td>NaN</td>\n",
       "      <td>Test4</td>\n",
       "      <td>NaN</td>\n",
       "      <td>NaN</td>\n",
       "    </tr>\n",
       "    <tr>\n",
       "      <th>4</th>\n",
       "      <td>148</td>\n",
       "      <td>1</td>\n",
       "      <td>https://tonikbank.com/</td>\n",
       "      <td>1</td>\n",
       "      <td>1,2</td>\n",
       "      <td>1.0</td>\n",
       "      <td>1</td>\n",
       "      <td>1</td>\n",
       "      <td>1</td>\n",
       "      <td>1</td>\n",
       "      <td>...</td>\n",
       "      <td>nn</td>\n",
       "      <td>0.0</td>\n",
       "      <td>0.0</td>\n",
       "      <td>1</td>\n",
       "      <td>1</td>\n",
       "      <td>0.0</td>\n",
       "      <td>NaN</td>\n",
       "      <td>Test5</td>\n",
       "      <td>NaN</td>\n",
       "      <td>NaN</td>\n",
       "    </tr>\n",
       "    <tr>\n",
       "      <th>...</th>\n",
       "      <td>...</td>\n",
       "      <td>...</td>\n",
       "      <td>...</td>\n",
       "      <td>...</td>\n",
       "      <td>...</td>\n",
       "      <td>...</td>\n",
       "      <td>...</td>\n",
       "      <td>...</td>\n",
       "      <td>...</td>\n",
       "      <td>...</td>\n",
       "      <td>...</td>\n",
       "      <td>...</td>\n",
       "      <td>...</td>\n",
       "      <td>...</td>\n",
       "      <td>...</td>\n",
       "      <td>...</td>\n",
       "      <td>...</td>\n",
       "      <td>...</td>\n",
       "      <td>...</td>\n",
       "      <td>...</td>\n",
       "      <td>...</td>\n",
       "    </tr>\n",
       "    <tr>\n",
       "      <th>473</th>\n",
       "      <td>758</td>\n",
       "      <td>2</td>\n",
       "      <td>https://moneybhai.moneycontrol.com/myspace</td>\n",
       "      <td>1</td>\n",
       "      <td>1</td>\n",
       "      <td>1.0</td>\n",
       "      <td>1</td>\n",
       "      <td>1</td>\n",
       "      <td>1</td>\n",
       "      <td>1</td>\n",
       "      <td>...</td>\n",
       "      <td>Test@1234</td>\n",
       "      <td>1.0</td>\n",
       "      <td>0.0</td>\n",
       "      <td>1</td>\n",
       "      <td>1</td>\n",
       "      <td>0.0</td>\n",
       "      <td>1.0</td>\n",
       "      <td>TC_001</td>\n",
       "      <td>NaN</td>\n",
       "      <td>2.0</td>\n",
       "    </tr>\n",
       "    <tr>\n",
       "      <th>474</th>\n",
       "      <td>759</td>\n",
       "      <td>2</td>\n",
       "      <td>https://moneybhai.moneycontrol.com/myspace</td>\n",
       "      <td>1</td>\n",
       "      <td>1</td>\n",
       "      <td>1.0</td>\n",
       "      <td>1</td>\n",
       "      <td>1</td>\n",
       "      <td>1</td>\n",
       "      <td>1</td>\n",
       "      <td>...</td>\n",
       "      <td>Test@1234</td>\n",
       "      <td>1.0</td>\n",
       "      <td>0.0</td>\n",
       "      <td>1</td>\n",
       "      <td>1</td>\n",
       "      <td>0.0</td>\n",
       "      <td>1.0</td>\n",
       "      <td>TC_001</td>\n",
       "      <td>NaN</td>\n",
       "      <td>2.0</td>\n",
       "    </tr>\n",
       "    <tr>\n",
       "      <th>475</th>\n",
       "      <td>760</td>\n",
       "      <td>2</td>\n",
       "      <td>https://moneybhai.moneycontrol.com/myspace</td>\n",
       "      <td>1</td>\n",
       "      <td>1</td>\n",
       "      <td>1.0</td>\n",
       "      <td>1</td>\n",
       "      <td>1</td>\n",
       "      <td>1</td>\n",
       "      <td>1</td>\n",
       "      <td>...</td>\n",
       "      <td>Test@1234</td>\n",
       "      <td>1.0</td>\n",
       "      <td>0.0</td>\n",
       "      <td>1</td>\n",
       "      <td>1</td>\n",
       "      <td>0.0</td>\n",
       "      <td>1.0</td>\n",
       "      <td>CP_001</td>\n",
       "      <td>NaN</td>\n",
       "      <td>2.0</td>\n",
       "    </tr>\n",
       "    <tr>\n",
       "      <th>476</th>\n",
       "      <td>761</td>\n",
       "      <td>2</td>\n",
       "      <td>https://moneybhai.moneycontrol.com/myspace</td>\n",
       "      <td>1</td>\n",
       "      <td>1</td>\n",
       "      <td>1.0</td>\n",
       "      <td>1</td>\n",
       "      <td>1</td>\n",
       "      <td>1</td>\n",
       "      <td>1</td>\n",
       "      <td>...</td>\n",
       "      <td>Test@1234</td>\n",
       "      <td>1.0</td>\n",
       "      <td>0.0</td>\n",
       "      <td>1</td>\n",
       "      <td>1</td>\n",
       "      <td>0.0</td>\n",
       "      <td>1.0</td>\n",
       "      <td>CP_002</td>\n",
       "      <td>NaN</td>\n",
       "      <td>2.0</td>\n",
       "    </tr>\n",
       "    <tr>\n",
       "      <th>477</th>\n",
       "      <td>762</td>\n",
       "      <td>2</td>\n",
       "      <td>https://moneybhai.moneycontrol.com/myspace</td>\n",
       "      <td>1</td>\n",
       "      <td>1</td>\n",
       "      <td>1.0</td>\n",
       "      <td>0</td>\n",
       "      <td>1</td>\n",
       "      <td>1</td>\n",
       "      <td>1</td>\n",
       "      <td>...</td>\n",
       "      <td>Test@1234</td>\n",
       "      <td>1.0</td>\n",
       "      <td>0.0</td>\n",
       "      <td>1</td>\n",
       "      <td>1</td>\n",
       "      <td>0.0</td>\n",
       "      <td>1.0</td>\n",
       "      <td>CP_004</td>\n",
       "      <td>NaN</td>\n",
       "      <td>1.0</td>\n",
       "    </tr>\n",
       "  </tbody>\n",
       "</table>\n",
       "<p>593 rows × 21 columns</p>\n",
       "</div>"
      ],
      "text/plain": [
       "     CobafRunId  CustomerJourneyId  \\\n",
       "0           144                  1   \n",
       "1           145                  1   \n",
       "2           146                  1   \n",
       "3           147                  1   \n",
       "4           148                  1   \n",
       "..          ...                ...   \n",
       "473         758                  2   \n",
       "474         759                  2   \n",
       "475         760                  2   \n",
       "476         761                  2   \n",
       "477         762                  2   \n",
       "\n",
       "                                            Url  EnvironmentId BrowserIds  \\\n",
       "0                        https://tonikbank.com/              1        1,2   \n",
       "1              https://future-qa-cb.kiteaai.org              1          1   \n",
       "2                        https://tonikbank.com/              1          1   \n",
       "3                        https://tonikbank.com/              1        1,2   \n",
       "4                        https://tonikbank.com/              1        1,2   \n",
       "..                                          ...            ...        ...   \n",
       "473  https://moneybhai.moneycontrol.com/myspace              1          1   \n",
       "474  https://moneybhai.moneycontrol.com/myspace              1          1   \n",
       "475  https://moneybhai.moneycontrol.com/myspace              1          1   \n",
       "476  https://moneybhai.moneycontrol.com/myspace              1          1   \n",
       "477  https://moneybhai.moneycontrol.com/myspace              1          1   \n",
       "\n",
       "     Accessibility  Compatibility  Functional  Visual  Performance  ...  \\\n",
       "0              1.0              1           1       1            1  ...   \n",
       "1              0.0              0           1       0            0  ...   \n",
       "2              1.0              1           1       1            1  ...   \n",
       "3              1.0              1           1       1            1  ...   \n",
       "4              1.0              1           1       1            1  ...   \n",
       "..             ...            ...         ...     ...          ...  ...   \n",
       "473            1.0              1           1       1            1  ...   \n",
       "474            1.0              1           1       1            1  ...   \n",
       "475            1.0              1           1       1            1  ...   \n",
       "476            1.0              1           1       1            1  ...   \n",
       "477            1.0              0           1       1            1  ...   \n",
       "\n",
       "    UserPassword AppPerformance  OmnichannelCompatibility  BrowserOnDeviceIds  \\\n",
       "0             nn            0.0                       0.0                   1   \n",
       "1             ba            0.0                       0.0                   1   \n",
       "2             nn            0.0                       0.0                   1   \n",
       "3             nn            0.0                       0.0                   1   \n",
       "4             nn            0.0                       0.0                   1   \n",
       "..           ...            ...                       ...                 ...   \n",
       "473    Test@1234            1.0                       0.0                   1   \n",
       "474    Test@1234            1.0                       0.0                   1   \n",
       "475    Test@1234            1.0                       0.0                   1   \n",
       "476    Test@1234            1.0                       0.0                   1   \n",
       "477    Test@1234            1.0                       0.0                   1   \n",
       "\n",
       "    DeviceId OmniChannelTest  Securitytesting  RunReference Responsiveness  \\\n",
       "0          1             0.0              NaN         Test1            NaN   \n",
       "1          1             0.0              NaN         Test2            NaN   \n",
       "2          1             0.0              NaN         Test3            NaN   \n",
       "3          1             0.0              NaN         Test4            NaN   \n",
       "4          1             0.0              NaN         Test5            NaN   \n",
       "..       ...             ...              ...           ...            ...   \n",
       "473        1             0.0              1.0        TC_001            NaN   \n",
       "474        1             0.0              1.0        TC_001            NaN   \n",
       "475        1             0.0              1.0        CP_001            NaN   \n",
       "476        1             0.0              1.0        CP_002            NaN   \n",
       "477        1             0.0              1.0        CP_004            NaN   \n",
       "\n",
       "     Resolution_Category_Id  \n",
       "0                       NaN  \n",
       "1                       NaN  \n",
       "2                       NaN  \n",
       "3                       NaN  \n",
       "4                       NaN  \n",
       "..                      ...  \n",
       "473                     2.0  \n",
       "474                     2.0  \n",
       "475                     2.0  \n",
       "476                     2.0  \n",
       "477                     1.0  \n",
       "\n",
       "[593 rows x 21 columns]"
      ]
     },
     "execution_count": 68,
     "metadata": {},
     "output_type": "execute_result"
    }
   ],
   "source": [
    "df=df.assign(BrowserOnDeviceIds=df.BrowserOnDeviceIds.str.split(','))\n",
    "df=df.explode('BrowserOnDeviceIds')\n",
    "df"
   ]
  },
  {
   "cell_type": "code",
   "execution_count": 69,
   "id": "d37ecc6e",
   "metadata": {},
   "outputs": [
    {
     "data": {
      "text/html": [
       "<div>\n",
       "<style scoped>\n",
       "    .dataframe tbody tr th:only-of-type {\n",
       "        vertical-align: middle;\n",
       "    }\n",
       "\n",
       "    .dataframe tbody tr th {\n",
       "        vertical-align: top;\n",
       "    }\n",
       "\n",
       "    .dataframe thead th {\n",
       "        text-align: right;\n",
       "    }\n",
       "</style>\n",
       "<table border=\"1\" class=\"dataframe\">\n",
       "  <thead>\n",
       "    <tr style=\"text-align: right;\">\n",
       "      <th></th>\n",
       "      <th>CobafRunId</th>\n",
       "      <th>CustomerJourneyId</th>\n",
       "      <th>Url</th>\n",
       "      <th>EnvironmentId</th>\n",
       "      <th>BrowserIds</th>\n",
       "      <th>Accessibility</th>\n",
       "      <th>Compatibility</th>\n",
       "      <th>Functional</th>\n",
       "      <th>Visual</th>\n",
       "      <th>Performance</th>\n",
       "      <th>...</th>\n",
       "      <th>UserPassword</th>\n",
       "      <th>AppPerformance</th>\n",
       "      <th>OmnichannelCompatibility</th>\n",
       "      <th>BrowserOnDeviceIds</th>\n",
       "      <th>DeviceId</th>\n",
       "      <th>OmniChannelTest</th>\n",
       "      <th>Securitytesting</th>\n",
       "      <th>RunReference</th>\n",
       "      <th>Responsiveness</th>\n",
       "      <th>Resolution_Category_Id</th>\n",
       "    </tr>\n",
       "  </thead>\n",
       "  <tbody>\n",
       "    <tr>\n",
       "      <th>0</th>\n",
       "      <td>144</td>\n",
       "      <td>1</td>\n",
       "      <td>https://tonikbank.com/</td>\n",
       "      <td>1</td>\n",
       "      <td>1</td>\n",
       "      <td>1.0</td>\n",
       "      <td>1</td>\n",
       "      <td>1</td>\n",
       "      <td>1</td>\n",
       "      <td>1</td>\n",
       "      <td>...</td>\n",
       "      <td>nn</td>\n",
       "      <td>0.0</td>\n",
       "      <td>0.0</td>\n",
       "      <td>1</td>\n",
       "      <td>1</td>\n",
       "      <td>0.0</td>\n",
       "      <td>NaN</td>\n",
       "      <td>Test1</td>\n",
       "      <td>NaN</td>\n",
       "      <td>NaN</td>\n",
       "    </tr>\n",
       "    <tr>\n",
       "      <th>0</th>\n",
       "      <td>144</td>\n",
       "      <td>1</td>\n",
       "      <td>https://tonikbank.com/</td>\n",
       "      <td>1</td>\n",
       "      <td>2</td>\n",
       "      <td>1.0</td>\n",
       "      <td>1</td>\n",
       "      <td>1</td>\n",
       "      <td>1</td>\n",
       "      <td>1</td>\n",
       "      <td>...</td>\n",
       "      <td>nn</td>\n",
       "      <td>0.0</td>\n",
       "      <td>0.0</td>\n",
       "      <td>1</td>\n",
       "      <td>1</td>\n",
       "      <td>0.0</td>\n",
       "      <td>NaN</td>\n",
       "      <td>Test1</td>\n",
       "      <td>NaN</td>\n",
       "      <td>NaN</td>\n",
       "    </tr>\n",
       "    <tr>\n",
       "      <th>1</th>\n",
       "      <td>145</td>\n",
       "      <td>1</td>\n",
       "      <td>https://future-qa-cb.kiteaai.org</td>\n",
       "      <td>1</td>\n",
       "      <td>1</td>\n",
       "      <td>0.0</td>\n",
       "      <td>0</td>\n",
       "      <td>1</td>\n",
       "      <td>0</td>\n",
       "      <td>0</td>\n",
       "      <td>...</td>\n",
       "      <td>ba</td>\n",
       "      <td>0.0</td>\n",
       "      <td>0.0</td>\n",
       "      <td>1</td>\n",
       "      <td>1</td>\n",
       "      <td>0.0</td>\n",
       "      <td>NaN</td>\n",
       "      <td>Test2</td>\n",
       "      <td>NaN</td>\n",
       "      <td>NaN</td>\n",
       "    </tr>\n",
       "    <tr>\n",
       "      <th>2</th>\n",
       "      <td>146</td>\n",
       "      <td>1</td>\n",
       "      <td>https://tonikbank.com/</td>\n",
       "      <td>1</td>\n",
       "      <td>1</td>\n",
       "      <td>1.0</td>\n",
       "      <td>1</td>\n",
       "      <td>1</td>\n",
       "      <td>1</td>\n",
       "      <td>1</td>\n",
       "      <td>...</td>\n",
       "      <td>nn</td>\n",
       "      <td>0.0</td>\n",
       "      <td>0.0</td>\n",
       "      <td>1</td>\n",
       "      <td>1</td>\n",
       "      <td>0.0</td>\n",
       "      <td>NaN</td>\n",
       "      <td>Test3</td>\n",
       "      <td>NaN</td>\n",
       "      <td>NaN</td>\n",
       "    </tr>\n",
       "    <tr>\n",
       "      <th>3</th>\n",
       "      <td>147</td>\n",
       "      <td>1</td>\n",
       "      <td>https://tonikbank.com/</td>\n",
       "      <td>1</td>\n",
       "      <td>1</td>\n",
       "      <td>1.0</td>\n",
       "      <td>1</td>\n",
       "      <td>1</td>\n",
       "      <td>1</td>\n",
       "      <td>1</td>\n",
       "      <td>...</td>\n",
       "      <td>nn</td>\n",
       "      <td>0.0</td>\n",
       "      <td>0.0</td>\n",
       "      <td>1</td>\n",
       "      <td>1</td>\n",
       "      <td>0.0</td>\n",
       "      <td>NaN</td>\n",
       "      <td>Test4</td>\n",
       "      <td>NaN</td>\n",
       "      <td>NaN</td>\n",
       "    </tr>\n",
       "    <tr>\n",
       "      <th>...</th>\n",
       "      <td>...</td>\n",
       "      <td>...</td>\n",
       "      <td>...</td>\n",
       "      <td>...</td>\n",
       "      <td>...</td>\n",
       "      <td>...</td>\n",
       "      <td>...</td>\n",
       "      <td>...</td>\n",
       "      <td>...</td>\n",
       "      <td>...</td>\n",
       "      <td>...</td>\n",
       "      <td>...</td>\n",
       "      <td>...</td>\n",
       "      <td>...</td>\n",
       "      <td>...</td>\n",
       "      <td>...</td>\n",
       "      <td>...</td>\n",
       "      <td>...</td>\n",
       "      <td>...</td>\n",
       "      <td>...</td>\n",
       "      <td>...</td>\n",
       "    </tr>\n",
       "    <tr>\n",
       "      <th>473</th>\n",
       "      <td>758</td>\n",
       "      <td>2</td>\n",
       "      <td>https://moneybhai.moneycontrol.com/myspace</td>\n",
       "      <td>1</td>\n",
       "      <td>1</td>\n",
       "      <td>1.0</td>\n",
       "      <td>1</td>\n",
       "      <td>1</td>\n",
       "      <td>1</td>\n",
       "      <td>1</td>\n",
       "      <td>...</td>\n",
       "      <td>Test@1234</td>\n",
       "      <td>1.0</td>\n",
       "      <td>0.0</td>\n",
       "      <td>1</td>\n",
       "      <td>1</td>\n",
       "      <td>0.0</td>\n",
       "      <td>1.0</td>\n",
       "      <td>TC_001</td>\n",
       "      <td>NaN</td>\n",
       "      <td>2.0</td>\n",
       "    </tr>\n",
       "    <tr>\n",
       "      <th>474</th>\n",
       "      <td>759</td>\n",
       "      <td>2</td>\n",
       "      <td>https://moneybhai.moneycontrol.com/myspace</td>\n",
       "      <td>1</td>\n",
       "      <td>1</td>\n",
       "      <td>1.0</td>\n",
       "      <td>1</td>\n",
       "      <td>1</td>\n",
       "      <td>1</td>\n",
       "      <td>1</td>\n",
       "      <td>...</td>\n",
       "      <td>Test@1234</td>\n",
       "      <td>1.0</td>\n",
       "      <td>0.0</td>\n",
       "      <td>1</td>\n",
       "      <td>1</td>\n",
       "      <td>0.0</td>\n",
       "      <td>1.0</td>\n",
       "      <td>TC_001</td>\n",
       "      <td>NaN</td>\n",
       "      <td>2.0</td>\n",
       "    </tr>\n",
       "    <tr>\n",
       "      <th>475</th>\n",
       "      <td>760</td>\n",
       "      <td>2</td>\n",
       "      <td>https://moneybhai.moneycontrol.com/myspace</td>\n",
       "      <td>1</td>\n",
       "      <td>1</td>\n",
       "      <td>1.0</td>\n",
       "      <td>1</td>\n",
       "      <td>1</td>\n",
       "      <td>1</td>\n",
       "      <td>1</td>\n",
       "      <td>...</td>\n",
       "      <td>Test@1234</td>\n",
       "      <td>1.0</td>\n",
       "      <td>0.0</td>\n",
       "      <td>1</td>\n",
       "      <td>1</td>\n",
       "      <td>0.0</td>\n",
       "      <td>1.0</td>\n",
       "      <td>CP_001</td>\n",
       "      <td>NaN</td>\n",
       "      <td>2.0</td>\n",
       "    </tr>\n",
       "    <tr>\n",
       "      <th>476</th>\n",
       "      <td>761</td>\n",
       "      <td>2</td>\n",
       "      <td>https://moneybhai.moneycontrol.com/myspace</td>\n",
       "      <td>1</td>\n",
       "      <td>1</td>\n",
       "      <td>1.0</td>\n",
       "      <td>1</td>\n",
       "      <td>1</td>\n",
       "      <td>1</td>\n",
       "      <td>1</td>\n",
       "      <td>...</td>\n",
       "      <td>Test@1234</td>\n",
       "      <td>1.0</td>\n",
       "      <td>0.0</td>\n",
       "      <td>1</td>\n",
       "      <td>1</td>\n",
       "      <td>0.0</td>\n",
       "      <td>1.0</td>\n",
       "      <td>CP_002</td>\n",
       "      <td>NaN</td>\n",
       "      <td>2.0</td>\n",
       "    </tr>\n",
       "    <tr>\n",
       "      <th>477</th>\n",
       "      <td>762</td>\n",
       "      <td>2</td>\n",
       "      <td>https://moneybhai.moneycontrol.com/myspace</td>\n",
       "      <td>1</td>\n",
       "      <td>1</td>\n",
       "      <td>1.0</td>\n",
       "      <td>0</td>\n",
       "      <td>1</td>\n",
       "      <td>1</td>\n",
       "      <td>1</td>\n",
       "      <td>...</td>\n",
       "      <td>Test@1234</td>\n",
       "      <td>1.0</td>\n",
       "      <td>0.0</td>\n",
       "      <td>1</td>\n",
       "      <td>1</td>\n",
       "      <td>0.0</td>\n",
       "      <td>1.0</td>\n",
       "      <td>CP_004</td>\n",
       "      <td>NaN</td>\n",
       "      <td>1.0</td>\n",
       "    </tr>\n",
       "  </tbody>\n",
       "</table>\n",
       "<p>915 rows × 21 columns</p>\n",
       "</div>"
      ],
      "text/plain": [
       "     CobafRunId  CustomerJourneyId  \\\n",
       "0           144                  1   \n",
       "0           144                  1   \n",
       "1           145                  1   \n",
       "2           146                  1   \n",
       "3           147                  1   \n",
       "..          ...                ...   \n",
       "473         758                  2   \n",
       "474         759                  2   \n",
       "475         760                  2   \n",
       "476         761                  2   \n",
       "477         762                  2   \n",
       "\n",
       "                                            Url  EnvironmentId BrowserIds  \\\n",
       "0                        https://tonikbank.com/              1          1   \n",
       "0                        https://tonikbank.com/              1          2   \n",
       "1              https://future-qa-cb.kiteaai.org              1          1   \n",
       "2                        https://tonikbank.com/              1          1   \n",
       "3                        https://tonikbank.com/              1          1   \n",
       "..                                          ...            ...        ...   \n",
       "473  https://moneybhai.moneycontrol.com/myspace              1          1   \n",
       "474  https://moneybhai.moneycontrol.com/myspace              1          1   \n",
       "475  https://moneybhai.moneycontrol.com/myspace              1          1   \n",
       "476  https://moneybhai.moneycontrol.com/myspace              1          1   \n",
       "477  https://moneybhai.moneycontrol.com/myspace              1          1   \n",
       "\n",
       "     Accessibility  Compatibility  Functional  Visual  Performance  ...  \\\n",
       "0              1.0              1           1       1            1  ...   \n",
       "0              1.0              1           1       1            1  ...   \n",
       "1              0.0              0           1       0            0  ...   \n",
       "2              1.0              1           1       1            1  ...   \n",
       "3              1.0              1           1       1            1  ...   \n",
       "..             ...            ...         ...     ...          ...  ...   \n",
       "473            1.0              1           1       1            1  ...   \n",
       "474            1.0              1           1       1            1  ...   \n",
       "475            1.0              1           1       1            1  ...   \n",
       "476            1.0              1           1       1            1  ...   \n",
       "477            1.0              0           1       1            1  ...   \n",
       "\n",
       "    UserPassword AppPerformance  OmnichannelCompatibility  BrowserOnDeviceIds  \\\n",
       "0             nn            0.0                       0.0                   1   \n",
       "0             nn            0.0                       0.0                   1   \n",
       "1             ba            0.0                       0.0                   1   \n",
       "2             nn            0.0                       0.0                   1   \n",
       "3             nn            0.0                       0.0                   1   \n",
       "..           ...            ...                       ...                 ...   \n",
       "473    Test@1234            1.0                       0.0                   1   \n",
       "474    Test@1234            1.0                       0.0                   1   \n",
       "475    Test@1234            1.0                       0.0                   1   \n",
       "476    Test@1234            1.0                       0.0                   1   \n",
       "477    Test@1234            1.0                       0.0                   1   \n",
       "\n",
       "    DeviceId OmniChannelTest  Securitytesting  RunReference Responsiveness  \\\n",
       "0          1             0.0              NaN         Test1            NaN   \n",
       "0          1             0.0              NaN         Test1            NaN   \n",
       "1          1             0.0              NaN         Test2            NaN   \n",
       "2          1             0.0              NaN         Test3            NaN   \n",
       "3          1             0.0              NaN         Test4            NaN   \n",
       "..       ...             ...              ...           ...            ...   \n",
       "473        1             0.0              1.0        TC_001            NaN   \n",
       "474        1             0.0              1.0        TC_001            NaN   \n",
       "475        1             0.0              1.0        CP_001            NaN   \n",
       "476        1             0.0              1.0        CP_002            NaN   \n",
       "477        1             0.0              1.0        CP_004            NaN   \n",
       "\n",
       "     Resolution_Category_Id  \n",
       "0                       NaN  \n",
       "0                       NaN  \n",
       "1                       NaN  \n",
       "2                       NaN  \n",
       "3                       NaN  \n",
       "..                      ...  \n",
       "473                     2.0  \n",
       "474                     2.0  \n",
       "475                     2.0  \n",
       "476                     2.0  \n",
       "477                     1.0  \n",
       "\n",
       "[915 rows x 21 columns]"
      ]
     },
     "execution_count": 69,
     "metadata": {},
     "output_type": "execute_result"
    }
   ],
   "source": [
    "df=df.assign(BrowserIds=df.BrowserIds.str.split(','))\n",
    "df=df.explode('BrowserIds')\n",
    "df"
   ]
  },
  {
   "cell_type": "code",
   "execution_count": 70,
   "id": "e0378799",
   "metadata": {},
   "outputs": [],
   "source": [
    "df=df.assign(DeviceId=df.DeviceId.str.split(','))\n",
    "df=df.explode('DeviceId')"
   ]
  },
  {
   "cell_type": "code",
   "execution_count": 71,
   "id": "c3b645b2",
   "metadata": {},
   "outputs": [
    {
     "data": {
      "text/html": [
       "<div>\n",
       "<style scoped>\n",
       "    .dataframe tbody tr th:only-of-type {\n",
       "        vertical-align: middle;\n",
       "    }\n",
       "\n",
       "    .dataframe tbody tr th {\n",
       "        vertical-align: top;\n",
       "    }\n",
       "\n",
       "    .dataframe thead th {\n",
       "        text-align: right;\n",
       "    }\n",
       "</style>\n",
       "<table border=\"1\" class=\"dataframe\">\n",
       "  <thead>\n",
       "    <tr style=\"text-align: right;\">\n",
       "      <th></th>\n",
       "      <th>CobafRunId</th>\n",
       "      <th>CustomerJourneyId</th>\n",
       "      <th>Url</th>\n",
       "      <th>EnvironmentId</th>\n",
       "      <th>BrowserIds</th>\n",
       "      <th>Accessibility</th>\n",
       "      <th>Compatibility</th>\n",
       "      <th>Functional</th>\n",
       "      <th>Visual</th>\n",
       "      <th>Performance</th>\n",
       "      <th>AppPerformance</th>\n",
       "      <th>OmnichannelCompatibility</th>\n",
       "      <th>BrowserOnDeviceIds</th>\n",
       "      <th>DeviceId</th>\n",
       "      <th>OmniChannelTest</th>\n",
       "    </tr>\n",
       "  </thead>\n",
       "  <tbody>\n",
       "    <tr>\n",
       "      <th>0</th>\n",
       "      <td>144</td>\n",
       "      <td>1</td>\n",
       "      <td>https://tonikbank.com/</td>\n",
       "      <td>1</td>\n",
       "      <td>1</td>\n",
       "      <td>1.0</td>\n",
       "      <td>1</td>\n",
       "      <td>1</td>\n",
       "      <td>1</td>\n",
       "      <td>1</td>\n",
       "      <td>0.0</td>\n",
       "      <td>0.0</td>\n",
       "      <td>1</td>\n",
       "      <td>1</td>\n",
       "      <td>0.0</td>\n",
       "    </tr>\n",
       "    <tr>\n",
       "      <th>0</th>\n",
       "      <td>144</td>\n",
       "      <td>1</td>\n",
       "      <td>https://tonikbank.com/</td>\n",
       "      <td>1</td>\n",
       "      <td>2</td>\n",
       "      <td>1.0</td>\n",
       "      <td>1</td>\n",
       "      <td>1</td>\n",
       "      <td>1</td>\n",
       "      <td>1</td>\n",
       "      <td>0.0</td>\n",
       "      <td>0.0</td>\n",
       "      <td>1</td>\n",
       "      <td>1</td>\n",
       "      <td>0.0</td>\n",
       "    </tr>\n",
       "    <tr>\n",
       "      <th>1</th>\n",
       "      <td>145</td>\n",
       "      <td>1</td>\n",
       "      <td>https://future-qa-cb.kiteaai.org</td>\n",
       "      <td>1</td>\n",
       "      <td>1</td>\n",
       "      <td>0.0</td>\n",
       "      <td>0</td>\n",
       "      <td>1</td>\n",
       "      <td>0</td>\n",
       "      <td>0</td>\n",
       "      <td>0.0</td>\n",
       "      <td>0.0</td>\n",
       "      <td>1</td>\n",
       "      <td>1</td>\n",
       "      <td>0.0</td>\n",
       "    </tr>\n",
       "    <tr>\n",
       "      <th>2</th>\n",
       "      <td>146</td>\n",
       "      <td>1</td>\n",
       "      <td>https://tonikbank.com/</td>\n",
       "      <td>1</td>\n",
       "      <td>1</td>\n",
       "      <td>1.0</td>\n",
       "      <td>1</td>\n",
       "      <td>1</td>\n",
       "      <td>1</td>\n",
       "      <td>1</td>\n",
       "      <td>0.0</td>\n",
       "      <td>0.0</td>\n",
       "      <td>1</td>\n",
       "      <td>1</td>\n",
       "      <td>0.0</td>\n",
       "    </tr>\n",
       "    <tr>\n",
       "      <th>3</th>\n",
       "      <td>147</td>\n",
       "      <td>1</td>\n",
       "      <td>https://tonikbank.com/</td>\n",
       "      <td>1</td>\n",
       "      <td>1</td>\n",
       "      <td>1.0</td>\n",
       "      <td>1</td>\n",
       "      <td>1</td>\n",
       "      <td>1</td>\n",
       "      <td>1</td>\n",
       "      <td>0.0</td>\n",
       "      <td>0.0</td>\n",
       "      <td>1</td>\n",
       "      <td>1</td>\n",
       "      <td>0.0</td>\n",
       "    </tr>\n",
       "    <tr>\n",
       "      <th>...</th>\n",
       "      <td>...</td>\n",
       "      <td>...</td>\n",
       "      <td>...</td>\n",
       "      <td>...</td>\n",
       "      <td>...</td>\n",
       "      <td>...</td>\n",
       "      <td>...</td>\n",
       "      <td>...</td>\n",
       "      <td>...</td>\n",
       "      <td>...</td>\n",
       "      <td>...</td>\n",
       "      <td>...</td>\n",
       "      <td>...</td>\n",
       "      <td>...</td>\n",
       "      <td>...</td>\n",
       "    </tr>\n",
       "    <tr>\n",
       "      <th>473</th>\n",
       "      <td>758</td>\n",
       "      <td>2</td>\n",
       "      <td>https://moneybhai.moneycontrol.com/myspace</td>\n",
       "      <td>1</td>\n",
       "      <td>1</td>\n",
       "      <td>1.0</td>\n",
       "      <td>1</td>\n",
       "      <td>1</td>\n",
       "      <td>1</td>\n",
       "      <td>1</td>\n",
       "      <td>1.0</td>\n",
       "      <td>0.0</td>\n",
       "      <td>1</td>\n",
       "      <td>1</td>\n",
       "      <td>0.0</td>\n",
       "    </tr>\n",
       "    <tr>\n",
       "      <th>474</th>\n",
       "      <td>759</td>\n",
       "      <td>2</td>\n",
       "      <td>https://moneybhai.moneycontrol.com/myspace</td>\n",
       "      <td>1</td>\n",
       "      <td>1</td>\n",
       "      <td>1.0</td>\n",
       "      <td>1</td>\n",
       "      <td>1</td>\n",
       "      <td>1</td>\n",
       "      <td>1</td>\n",
       "      <td>1.0</td>\n",
       "      <td>0.0</td>\n",
       "      <td>1</td>\n",
       "      <td>1</td>\n",
       "      <td>0.0</td>\n",
       "    </tr>\n",
       "    <tr>\n",
       "      <th>475</th>\n",
       "      <td>760</td>\n",
       "      <td>2</td>\n",
       "      <td>https://moneybhai.moneycontrol.com/myspace</td>\n",
       "      <td>1</td>\n",
       "      <td>1</td>\n",
       "      <td>1.0</td>\n",
       "      <td>1</td>\n",
       "      <td>1</td>\n",
       "      <td>1</td>\n",
       "      <td>1</td>\n",
       "      <td>1.0</td>\n",
       "      <td>0.0</td>\n",
       "      <td>1</td>\n",
       "      <td>1</td>\n",
       "      <td>0.0</td>\n",
       "    </tr>\n",
       "    <tr>\n",
       "      <th>476</th>\n",
       "      <td>761</td>\n",
       "      <td>2</td>\n",
       "      <td>https://moneybhai.moneycontrol.com/myspace</td>\n",
       "      <td>1</td>\n",
       "      <td>1</td>\n",
       "      <td>1.0</td>\n",
       "      <td>1</td>\n",
       "      <td>1</td>\n",
       "      <td>1</td>\n",
       "      <td>1</td>\n",
       "      <td>1.0</td>\n",
       "      <td>0.0</td>\n",
       "      <td>1</td>\n",
       "      <td>1</td>\n",
       "      <td>0.0</td>\n",
       "    </tr>\n",
       "    <tr>\n",
       "      <th>477</th>\n",
       "      <td>762</td>\n",
       "      <td>2</td>\n",
       "      <td>https://moneybhai.moneycontrol.com/myspace</td>\n",
       "      <td>1</td>\n",
       "      <td>1</td>\n",
       "      <td>1.0</td>\n",
       "      <td>0</td>\n",
       "      <td>1</td>\n",
       "      <td>1</td>\n",
       "      <td>1</td>\n",
       "      <td>1.0</td>\n",
       "      <td>0.0</td>\n",
       "      <td>1</td>\n",
       "      <td>1</td>\n",
       "      <td>0.0</td>\n",
       "    </tr>\n",
       "  </tbody>\n",
       "</table>\n",
       "<p>1549 rows × 15 columns</p>\n",
       "</div>"
      ],
      "text/plain": [
       "     CobafRunId  CustomerJourneyId  \\\n",
       "0           144                  1   \n",
       "0           144                  1   \n",
       "1           145                  1   \n",
       "2           146                  1   \n",
       "3           147                  1   \n",
       "..          ...                ...   \n",
       "473         758                  2   \n",
       "474         759                  2   \n",
       "475         760                  2   \n",
       "476         761                  2   \n",
       "477         762                  2   \n",
       "\n",
       "                                            Url  EnvironmentId BrowserIds  \\\n",
       "0                        https://tonikbank.com/              1          1   \n",
       "0                        https://tonikbank.com/              1          2   \n",
       "1              https://future-qa-cb.kiteaai.org              1          1   \n",
       "2                        https://tonikbank.com/              1          1   \n",
       "3                        https://tonikbank.com/              1          1   \n",
       "..                                          ...            ...        ...   \n",
       "473  https://moneybhai.moneycontrol.com/myspace              1          1   \n",
       "474  https://moneybhai.moneycontrol.com/myspace              1          1   \n",
       "475  https://moneybhai.moneycontrol.com/myspace              1          1   \n",
       "476  https://moneybhai.moneycontrol.com/myspace              1          1   \n",
       "477  https://moneybhai.moneycontrol.com/myspace              1          1   \n",
       "\n",
       "     Accessibility  Compatibility  Functional  Visual  Performance  \\\n",
       "0              1.0              1           1       1            1   \n",
       "0              1.0              1           1       1            1   \n",
       "1              0.0              0           1       0            0   \n",
       "2              1.0              1           1       1            1   \n",
       "3              1.0              1           1       1            1   \n",
       "..             ...            ...         ...     ...          ...   \n",
       "473            1.0              1           1       1            1   \n",
       "474            1.0              1           1       1            1   \n",
       "475            1.0              1           1       1            1   \n",
       "476            1.0              1           1       1            1   \n",
       "477            1.0              0           1       1            1   \n",
       "\n",
       "     AppPerformance  OmnichannelCompatibility BrowserOnDeviceIds DeviceId  \\\n",
       "0               0.0                       0.0                  1        1   \n",
       "0               0.0                       0.0                  1        1   \n",
       "1               0.0                       0.0                  1        1   \n",
       "2               0.0                       0.0                  1        1   \n",
       "3               0.0                       0.0                  1        1   \n",
       "..              ...                       ...                ...      ...   \n",
       "473             1.0                       0.0                  1        1   \n",
       "474             1.0                       0.0                  1        1   \n",
       "475             1.0                       0.0                  1        1   \n",
       "476             1.0                       0.0                  1        1   \n",
       "477             1.0                       0.0                  1        1   \n",
       "\n",
       "     OmniChannelTest  \n",
       "0                0.0  \n",
       "0                0.0  \n",
       "1                0.0  \n",
       "2                0.0  \n",
       "3                0.0  \n",
       "..               ...  \n",
       "473              0.0  \n",
       "474              0.0  \n",
       "475              0.0  \n",
       "476              0.0  \n",
       "477              0.0  \n",
       "\n",
       "[1549 rows x 15 columns]"
      ]
     },
     "execution_count": 71,
     "metadata": {},
     "output_type": "execute_result"
    }
   ],
   "source": [
    "df1=df.drop(['UserPassword','Username','RunReference','Responsiveness','Resolution_Category_Id','Securitytesting'], axis = 1)\n",
    "df1"
   ]
  },
  {
   "cell_type": "code",
   "execution_count": 72,
   "id": "73379e6b",
   "metadata": {},
   "outputs": [],
   "source": [
    "df1['Accessibility'].replace({1:'Pass', 0:'Fail'}, inplace=True)\n",
    "df1['Compatibility'].replace({1:'Pass', 0:'Fail'}, inplace=True)\n",
    "df1['Functional'].replace({1:'Pass', 0:'Fail'}, inplace=True)\n",
    "df1['Visual'].replace({1:'Pass', 0:'Fail'}, inplace=True)\n",
    "df1['Performance'].replace({1:'Pass', 0:'Fail'}, inplace=True)\n",
    "df1['AppPerformance'].replace({1:'Pass', 0:'Fail'}, inplace=True)\n",
    "df1['OmnichannelCompatibility'].replace({1:'Pass', 0:'Fail'}, inplace=True)\n",
    "df1['OmniChannelTest'].replace({1:'Pass', 0:'Fail'}, inplace=True)\n",
    "df1['CustomerJourneyId'].replace({1:'Perform an Online trade',2:\"Perform an online Trade\", 3:'Online shopping', 4:'Media test Creation', 5:\"Perform an option\",6:'Perform an option', 7:'Perform an future'}, inplace=True)\n",
    "df1['EnvironmentId'].replace({1:'QA',2:\"UAT\", 3:'SIT', 4:'DIT'}, inplace=True)\n"
   ]
  },
  {
   "cell_type": "code",
   "execution_count": 73,
   "id": "63cb2ef5",
   "metadata": {},
   "outputs": [],
   "source": [
    "df1['DeviceId'].replace({'1':'Android','2':\"IOS\", '3':'Tablet', '4':'IPad'}, inplace=True)\n",
    "\n",
    "#df1['DeviceId'].replace({1:'Android',2:\"IOS\",3:'Android Tablet',4:'IPad'}, inplace=True)\n",
    "df1['BrowserIds'].replace({'1':'Chorme', '2':\"Microsoft Edge\", '3':'Firefox', '4':'Opera', '5':\"IE11\",'6':'Safari'}, inplace=True)\n",
    "df1['BrowserOnDeviceIds'].replace({'1':'ChromeMobileBrowser','2':\"FirefoxMobileBrowser\", '3':'IEmobileBrowser', '4':'SafariMobileBrowser'}, inplace=True)"
   ]
  },
  {
   "cell_type": "code",
   "execution_count": 74,
   "id": "3b26868a",
   "metadata": {},
   "outputs": [],
   "source": [
    "df1.dropna( subset=[\"BrowserIds\", \"DeviceId\",'BrowserOnDeviceIds','OmnichannelCompatibility'], inplace=True)"
   ]
  },
  {
   "cell_type": "code",
   "execution_count": 75,
   "id": "d394c613",
   "metadata": {},
   "outputs": [],
   "source": [
    "d=df1['DeviceId'].isin(['Android','IOS','IPad','Tablet'])\n",
    "df1=df1[d]"
   ]
  },
  {
   "cell_type": "code",
   "execution_count": 11,
   "id": "2b90ecf0",
   "metadata": {},
   "outputs": [
    {
     "data": {
      "text/html": [
       "<div>\n",
       "<style scoped>\n",
       "    .dataframe tbody tr th:only-of-type {\n",
       "        vertical-align: middle;\n",
       "    }\n",
       "\n",
       "    .dataframe tbody tr th {\n",
       "        vertical-align: top;\n",
       "    }\n",
       "\n",
       "    .dataframe thead th {\n",
       "        text-align: right;\n",
       "    }\n",
       "</style>\n",
       "<table border=\"1\" class=\"dataframe\">\n",
       "  <thead>\n",
       "    <tr style=\"text-align: right;\">\n",
       "      <th>Accessibility</th>\n",
       "      <th>Fail</th>\n",
       "      <th>Pass</th>\n",
       "    </tr>\n",
       "    <tr>\n",
       "      <th>DeviceId</th>\n",
       "      <th></th>\n",
       "      <th></th>\n",
       "    </tr>\n",
       "  </thead>\n",
       "  <tbody>\n",
       "    <tr>\n",
       "      <th>Android</th>\n",
       "      <td>0.147952</td>\n",
       "      <td>0.852048</td>\n",
       "    </tr>\n",
       "    <tr>\n",
       "      <th>IOS</th>\n",
       "      <td>0.131206</td>\n",
       "      <td>0.868794</td>\n",
       "    </tr>\n",
       "    <tr>\n",
       "      <th>IPad</th>\n",
       "      <td>0.183908</td>\n",
       "      <td>0.816092</td>\n",
       "    </tr>\n",
       "    <tr>\n",
       "      <th>Tablet</th>\n",
       "      <td>0.233645</td>\n",
       "      <td>0.766355</td>\n",
       "    </tr>\n",
       "  </tbody>\n",
       "</table>\n",
       "</div>"
      ],
      "text/plain": [
       "Accessibility      Fail      Pass\n",
       "DeviceId                         \n",
       "Android        0.147952  0.852048\n",
       "IOS            0.131206  0.868794\n",
       "IPad           0.183908  0.816092\n",
       "Tablet         0.233645  0.766355"
      ]
     },
     "execution_count": 11,
     "metadata": {},
     "output_type": "execute_result"
    }
   ],
   "source": [
    "df4=pd.crosstab(df1['DeviceId'],df1['Accessibility'],margins=False,normalize='index')\n",
    "df4"
   ]
  },
  {
   "cell_type": "code",
   "execution_count": null,
   "id": "91dc9b44",
   "metadata": {
    "scrolled": false
   },
   "outputs": [],
   "source": [
    "t=pd.crosstab(df1['DeviceId'],df1['Accessibility'])\n",
    "t\n",
    "\n",
    "from scipy.stats import chi2_contingency\n",
    "import statsmodels.api as sm\n",
    "\n",
    "def chisquare(table):\n",
    "    stat, p, dof, expected = chi2_contingency(table) \n",
    "    # interpret p-value \n",
    "    alpha = 0.05\n",
    "    print(\"p value is \" + str(p)) \n",
    "    if p >= alpha: \n",
    "        print('both variables are independent') \n",
    "        residual = \"\"\n",
    "    else: \n",
    "        print('both variables are associated')\n",
    "        con_table=sm.stats.Table(table)\n",
    "        residual=con_table.standardized_resids\n",
    "        residual=pd.DataFrame(residual)\n",
    "    return(residual)\n",
    "\n",
    "df4=chisquare(t)\n",
    "\n",
    "df4"
   ]
  },
  {
   "cell_type": "code",
   "execution_count": null,
   "id": "96b851d7",
   "metadata": {},
   "outputs": [],
   "source": [
    "df4.reset_index(level=0, inplace=True)\n",
    "df4"
   ]
  },
  {
   "cell_type": "code",
   "execution_count": null,
   "id": "bbf4cdd3",
   "metadata": {},
   "outputs": [],
   "source": [
    "df4=df4.melt(id_vars=['DeviceId'], value_vars=['Pass','Fail'])\n",
    "df4.rename(columns = {'Accessibility':'Status'}, inplace = True)"
   ]
  },
  {
   "cell_type": "code",
   "execution_count": null,
   "id": "f936427f",
   "metadata": {},
   "outputs": [],
   "source": [
    "import plotly.graph_objs as go\n",
    "\n",
    "data = [go.Heatmap(x=df4['Status'],y=df4[\"DeviceId\"],z=df4[\"value\"].values.tolist(), colorscale='Blues')]\n",
    "layout = go.Layout(title=\"Devices by status\",height=400,width=400,xaxis_title=\" Status\",yaxis_title=\"Devices\")\n",
    "fig = go.Figure(data=data, layout=layout)\n",
    "fig.show()"
   ]
  },
  {
   "cell_type": "code",
   "execution_count": null,
   "id": "9c6bfcbb",
   "metadata": {},
   "outputs": [],
   "source": []
  },
  {
   "cell_type": "code",
   "execution_count": null,
   "id": "65db937c",
   "metadata": {},
   "outputs": [],
   "source": [
    "import os"
   ]
  },
  {
   "cell_type": "code",
   "execution_count": null,
   "id": "fbb24834",
   "metadata": {},
   "outputs": [],
   "source": [
    "#df2.to_excel(\"ICE.xlsx\")"
   ]
  },
  {
   "cell_type": "code",
   "execution_count": null,
   "id": "149fdf3c",
   "metadata": {},
   "outputs": [],
   "source": [
    "df2=pd.crosstab(df1['EnvironmentId'],df1['Accessibility'],margins=False,normalize='index')\n",
    "df2"
   ]
  },
  {
   "cell_type": "code",
   "execution_count": null,
   "id": "37164c4f",
   "metadata": {},
   "outputs": [],
   "source": [
    "df2.reset_index(level=0, inplace=True)"
   ]
  },
  {
   "cell_type": "code",
   "execution_count": null,
   "id": "02e34b68",
   "metadata": {},
   "outputs": [],
   "source": [
    "df2=df2.melt(id_vars=['EnvironmentId'], value_vars=['Pass','Fail'])\n",
    "df2.rename(columns = {'Accessibility':'Status'}, inplace = True)\n",
    "df2"
   ]
  },
  {
   "cell_type": "code",
   "execution_count": null,
   "id": "50dcf05c",
   "metadata": {},
   "outputs": [],
   "source": [
    "import pandas as pd\n",
    "import plotly.express as px\n",
    "import plotly.graph_objs as go\n",
    "\n",
    "colors = {'Pass':'#00e64d',\n",
    "          'Fail':'red'}\n",
    "# plotly figure\n",
    "fig=go.Figure()\n",
    "for t in df2['Status'].unique():\n",
    "    dfp = df2[df2['Status']==t]\n",
    "    fig.add_traces(go.Bar(x=dfp['EnvironmentId'], y = dfp['value'],name=t, marker_color=colors[t]))\n",
    "    \n",
    "fig.update_layout(title='Percentage of Environment Status', height=400,width=500,xaxis_title=\" Environment\",yaxis_title=\"Percentage of Status\")\n",
    "\n",
    "\n",
    "fig.show()"
   ]
  },
  {
   "cell_type": "markdown",
   "id": "84f5a937",
   "metadata": {},
   "source": [
    "#from plotly.offline import plot\n",
    "#fig1=plot(fig,output_type='div')\n",
    "#fig1"
   ]
  },
  {
   "cell_type": "code",
   "execution_count": null,
   "id": "7ac89842",
   "metadata": {},
   "outputs": [],
   "source": []
  },
  {
   "cell_type": "code",
   "execution_count": null,
   "id": "d559d381",
   "metadata": {},
   "outputs": [],
   "source": [
    "df3=pd.crosstab(df1['CustomerJourneyId'],df1['Accessibility'],margins=False,normalize='index')\n",
    "df3"
   ]
  },
  {
   "cell_type": "code",
   "execution_count": null,
   "id": "4251af90",
   "metadata": {},
   "outputs": [],
   "source": [
    "df3=df3.div(df3.sum(axis=1),axis=0)*100\n",
    "df3=df3[['Pass','Fail']]"
   ]
  },
  {
   "cell_type": "code",
   "execution_count": null,
   "id": "02321097",
   "metadata": {},
   "outputs": [],
   "source": [
    "df3.reset_index(level=0, inplace=True)"
   ]
  },
  {
   "cell_type": "code",
   "execution_count": null,
   "id": "5b673af4",
   "metadata": {},
   "outputs": [],
   "source": [
    "df3=df3.melt(id_vars=['CustomerJourneyId'], value_vars=['Pass','Fail'])\n",
    "df3.rename(columns = {'Accessibility':'Status'}, inplace = True)\n",
    "df3"
   ]
  },
  {
   "cell_type": "code",
   "execution_count": null,
   "id": "2fd6ec3b",
   "metadata": {},
   "outputs": [],
   "source": [
    "import pandas as pd\n",
    "import plotly.express as px\n",
    "import plotly.graph_objs as go\n",
    "\n",
    "colors = {'Pass':'#00e64d',\n",
    "          'Fail':'#ff3333'}\n",
    "# plotly figure\n",
    "fig=go.Figure()\n",
    "for t in df3['Status'].unique():\n",
    "    dfp = df3[df3['Status']==t]\n",
    "    fig.add_traces(go.Bar(x=dfp['CustomerJourneyId'], y = dfp['value'],name=t, marker_color=colors[t]))\n",
    "fig.update_layout(barmode='stack',title='Percentage of Customer Journey Status', height=400,width=500,xaxis_title=\" Customer Journey\",yaxis_title=\"Percentage of Status\")\n",
    "fig.show()"
   ]
  },
  {
   "cell_type": "code",
   "execution_count": null,
   "id": "e8dad2b8",
   "metadata": {},
   "outputs": [],
   "source": [
    "import pandas as pd\n",
    "import plotly.express as px\n",
    "import plotly.graph_objs as go\n",
    "\n",
    "colors = {'Pass':'#00e64d',\n",
    "          'Fail':'#ff3333'}\n",
    "# plotly figure\n",
    "fig=go.Figure()\n",
    "for t in df3['Status'].unique():\n",
    "    dfp = df3[df3['Status']==t]\n",
    "    fig.add_traces(go.Bar(x=dfp['CustomerJourneyId'], y = dfp['value'],name=t,orientation=None,marker_color=colors[t]))\n",
    "fig.update_layout(barmode='stack',title='Percentage of Customer Journey Status', height=400,width=500,xaxis_title=\" Customer Journey\",yaxis_title=\"Percentage of Status\")\n",
    "fig.show()"
   ]
  },
  {
   "cell_type": "code",
   "execution_count": null,
   "id": "683e8275",
   "metadata": {},
   "outputs": [],
   "source": []
  },
  {
   "cell_type": "code",
   "execution_count": null,
   "id": "fbc18d7e",
   "metadata": {},
   "outputs": [],
   "source": []
  },
  {
   "cell_type": "code",
   "execution_count": null,
   "id": "1315a641",
   "metadata": {},
   "outputs": [],
   "source": []
  },
  {
   "cell_type": "code",
   "execution_count": null,
   "id": "ef3f977c",
   "metadata": {},
   "outputs": [],
   "source": []
  },
  {
   "cell_type": "markdown",
   "id": "68e08bf5",
   "metadata": {},
   "source": [
    "#from plotly.offline import plot\n",
    "#fig2=plot(fig,output_type='div')\n",
    "#fig2"
   ]
  },
  {
   "cell_type": "code",
   "execution_count": null,
   "id": "70df1655",
   "metadata": {},
   "outputs": [],
   "source": [
    "#df3.to_sql('tryone1',con)"
   ]
  },
  {
   "cell_type": "code",
   "execution_count": null,
   "id": "de214873",
   "metadata": {},
   "outputs": [],
   "source": [
    "d=df1['BrowserIds'].isin(['Chorme','Firefox','IE11','Opera','Safari'])\n",
    "df1=df1[d]"
   ]
  },
  {
   "cell_type": "code",
   "execution_count": null,
   "id": "77ebf410",
   "metadata": {},
   "outputs": [],
   "source": [
    "df4=pd.crosstab(df1['DeviceId'],df1['BrowserIds'],normalize='index')\n",
    "df4"
   ]
  },
  {
   "cell_type": "code",
   "execution_count": null,
   "id": "ead3a469",
   "metadata": {},
   "outputs": [],
   "source": [
    "t=pd.crosstab(df1['DeviceId'],df1['BrowserIds'])\n",
    "t\n",
    "\n",
    "from scipy.stats import chi2_contingency\n",
    "import statsmodels.api as sm\n",
    "\n",
    "def chisquare(table):\n",
    "    stat, p, dof, expected = chi2_contingency(table) \n",
    "    # interpret p-value \n",
    "    alpha = 0.05\n",
    "    print(\"p value is \" + str(p)) \n",
    "    if p >= alpha: \n",
    "        print('both variables are independent') \n",
    "        residual = \"\"\n",
    "    else: \n",
    "        print('both variables are associated')\n",
    "        con_table=sm.stats.Table(table)\n",
    "        residual=con_table.standardized_resids\n",
    "        residual=pd.DataFrame(residual)\n",
    "    return(residual)\n",
    "\n",
    "res=chisquare(t)\n",
    "\n",
    "res"
   ]
  },
  {
   "cell_type": "code",
   "execution_count": null,
   "id": "d47fe23a",
   "metadata": {},
   "outputs": [],
   "source": [
    "df4.reset_index(level=0, inplace=True)"
   ]
  },
  {
   "cell_type": "code",
   "execution_count": null,
   "id": "73bc475a",
   "metadata": {},
   "outputs": [],
   "source": [
    "df4=df4.melt(id_vars=['DeviceId'], value_vars=['Chorme','Firefox','IE11','Opera','Safari'])\n",
    "df4.rename(columns = {'BrowserIds':'BrowserIds'}, inplace = True)\n",
    "df4"
   ]
  },
  {
   "cell_type": "code",
   "execution_count": null,
   "id": "d8497b3e",
   "metadata": {},
   "outputs": [],
   "source": [
    "data = [go.Heatmap(x=df4['BrowserIds'],y=df4[\"DeviceId\"],z=df4[\"value\"].values.tolist(), colorscale='Blues')]\n",
    "layout = go.Layout(title=\"Devices vs Browsers\",height=400,width=400,xaxis_title=\" Browser\",yaxis_title=\"Devices\")\n",
    "fig = go.Figure(data=data, layout=layout)\n",
    "fig.show()"
   ]
  },
  {
   "cell_type": "markdown",
   "id": "c1207334",
   "metadata": {},
   "source": [
    "#from plotly.offline import plot\n",
    "#fig4=plot(fig,output_type='div')\n",
    "#fig4"
   ]
  },
  {
   "cell_type": "code",
   "execution_count": null,
   "id": "e3cc9570",
   "metadata": {},
   "outputs": [],
   "source": [
    "import sqlite3\n",
    "con = sqlite3.connect(r\"C:\\Users\\kaviarasu.gm\\Downloads\\cobaf_dev.db\")\n",
    "\n",
    "query = \"SELECT * from wcag\"\n",
    "\n",
    "df = pd.read_sql(query, con)\n",
    "\n",
    "df.head()"
   ]
  },
  {
   "cell_type": "code",
   "execution_count": null,
   "id": "eb167d92",
   "metadata": {},
   "outputs": [],
   "source": [
    "data = [go.Heatmap(x=df['status'],y=df[\"wcag_category\"],z=df[\"residuals\"].values.tolist(), colorscale='Blues')]\n",
    "layout = go.Layout(title=\"WCAG_Catagory by Status\",height=400,width=400,xaxis_title=\" Status\",yaxis_title=\"WCAg_Catagory\")\n",
    "fig = go.Figure(data=data, layout=layout)\n",
    "fig.show()"
   ]
  },
  {
   "cell_type": "markdown",
   "id": "28aef96d",
   "metadata": {},
   "source": [
    "#from plotly.offline import plot\n",
    "#fig5=plot(fig,output_type='div')\n",
    "#fig5"
   ]
  },
  {
   "cell_type": "code",
   "execution_count": null,
   "id": "be90cfef",
   "metadata": {},
   "outputs": [],
   "source": []
  },
  {
   "cell_type": "code",
   "execution_count": null,
   "id": "6257189f",
   "metadata": {},
   "outputs": [],
   "source": [
    "import sqlite3\n",
    "con = sqlite3.connect(r\"C:\\Users\\kaviarasu.gm\\Downloads\\cobaf_dev.db\")\n",
    "\n",
    "query = \"SELECT * from com_level\"\n",
    "\n",
    "df = pd.read_sql(query, con)\n",
    "\n",
    "df.head()"
   ]
  },
  {
   "cell_type": "code",
   "execution_count": null,
   "id": "e7757d34",
   "metadata": {},
   "outputs": [],
   "source": [
    "data = [go.Heatmap(x=df['status'],y=df[\"compliance_level\"],z=df[\"residuals\"].values.tolist(), colorscale='Blues')]\n",
    "layout = go.Layout(title=\"Compliance_Level by Status\",height=400,width=400,xaxis_title=\" Status\",yaxis_title=\"Compliance_Level\")\n",
    "fig = go.Figure(data=data, layout=layout)\n",
    "fig.show()"
   ]
  },
  {
   "cell_type": "markdown",
   "id": "52c9d422",
   "metadata": {},
   "source": [
    "#from plotly.offline import plot\n",
    "#fig6=plot(fig,output_type='div')\n",
    "#fig6"
   ]
  },
  {
   "cell_type": "code",
   "execution_count": null,
   "id": "00d11a84",
   "metadata": {},
   "outputs": [],
   "source": []
  },
  {
   "cell_type": "code",
   "execution_count": 104,
   "id": "00050555",
   "metadata": {},
   "outputs": [],
   "source": [
    "Accessibility=df1.groupby(['DeviceId','Accessibility']).agg({'Accessibility':'count'})\n",
    "Compatibility=df1.groupby(['DeviceId','Compatibility']).agg({'Compatibility':'count'})\n",
    "Functional=df1.groupby(['DeviceId','Functional']).agg({'Functional':'count'})\n",
    "Visual=df1.groupby(['DeviceId','Visual']).agg({'Visual':'count'})[[\"Visual\"]]\n",
    "Performance=df1.groupby(['DeviceId','Performance']).agg({'Performance':'count'})"
   ]
  },
  {
   "cell_type": "code",
   "execution_count": 105,
   "id": "6f9a358b",
   "metadata": {},
   "outputs": [
    {
     "data": {
      "text/html": [
       "<div>\n",
       "<style scoped>\n",
       "    .dataframe tbody tr th:only-of-type {\n",
       "        vertical-align: middle;\n",
       "    }\n",
       "\n",
       "    .dataframe tbody tr th {\n",
       "        vertical-align: top;\n",
       "    }\n",
       "\n",
       "    .dataframe thead th {\n",
       "        text-align: right;\n",
       "    }\n",
       "</style>\n",
       "<table border=\"1\" class=\"dataframe\">\n",
       "  <thead>\n",
       "    <tr style=\"text-align: right;\">\n",
       "      <th></th>\n",
       "      <th></th>\n",
       "      <th>Accessibility</th>\n",
       "      <th>Compatibility</th>\n",
       "      <th>Functional</th>\n",
       "      <th>Visual</th>\n",
       "      <th>Performance</th>\n",
       "    </tr>\n",
       "    <tr>\n",
       "      <th>DeviceId</th>\n",
       "      <th></th>\n",
       "      <th></th>\n",
       "      <th></th>\n",
       "      <th></th>\n",
       "      <th></th>\n",
       "      <th></th>\n",
       "    </tr>\n",
       "  </thead>\n",
       "  <tbody>\n",
       "    <tr>\n",
       "      <th rowspan=\"2\" valign=\"top\">Android</th>\n",
       "      <th>Fail</th>\n",
       "      <td>112</td>\n",
       "      <td>184</td>\n",
       "      <td>98</td>\n",
       "      <td>144</td>\n",
       "      <td>229</td>\n",
       "    </tr>\n",
       "    <tr>\n",
       "      <th>Pass</th>\n",
       "      <td>645</td>\n",
       "      <td>573</td>\n",
       "      <td>659</td>\n",
       "      <td>613</td>\n",
       "      <td>528</td>\n",
       "    </tr>\n",
       "    <tr>\n",
       "      <th rowspan=\"2\" valign=\"top\">IOS</th>\n",
       "      <th>Fail</th>\n",
       "      <td>37</td>\n",
       "      <td>47</td>\n",
       "      <td>56</td>\n",
       "      <td>46</td>\n",
       "      <td>45</td>\n",
       "    </tr>\n",
       "    <tr>\n",
       "      <th>Pass</th>\n",
       "      <td>245</td>\n",
       "      <td>235</td>\n",
       "      <td>226</td>\n",
       "      <td>236</td>\n",
       "      <td>237</td>\n",
       "    </tr>\n",
       "    <tr>\n",
       "      <th rowspan=\"2\" valign=\"top\">IPad</th>\n",
       "      <th>Fail</th>\n",
       "      <td>32</td>\n",
       "      <td>42</td>\n",
       "      <td>58</td>\n",
       "      <td>42</td>\n",
       "      <td>26</td>\n",
       "    </tr>\n",
       "    <tr>\n",
       "      <th>Pass</th>\n",
       "      <td>142</td>\n",
       "      <td>132</td>\n",
       "      <td>116</td>\n",
       "      <td>132</td>\n",
       "      <td>148</td>\n",
       "    </tr>\n",
       "    <tr>\n",
       "      <th rowspan=\"2\" valign=\"top\">Tablet</th>\n",
       "      <th>Fail</th>\n",
       "      <td>50</td>\n",
       "      <td>79</td>\n",
       "      <td>88</td>\n",
       "      <td>82</td>\n",
       "      <td>62</td>\n",
       "    </tr>\n",
       "    <tr>\n",
       "      <th>Pass</th>\n",
       "      <td>164</td>\n",
       "      <td>135</td>\n",
       "      <td>126</td>\n",
       "      <td>132</td>\n",
       "      <td>152</td>\n",
       "    </tr>\n",
       "  </tbody>\n",
       "</table>\n",
       "</div>"
      ],
      "text/plain": [
       "               Accessibility  Compatibility  Functional  Visual  Performance\n",
       "DeviceId                                                                    \n",
       "Android  Fail            112            184          98     144          229\n",
       "         Pass            645            573         659     613          528\n",
       "IOS      Fail             37             47          56      46           45\n",
       "         Pass            245            235         226     236          237\n",
       "IPad     Fail             32             42          58      42           26\n",
       "         Pass            142            132         116     132          148\n",
       "Tablet   Fail             50             79          88      82           62\n",
       "         Pass            164            135         126     132          152"
      ]
     },
     "execution_count": 105,
     "metadata": {},
     "output_type": "execute_result"
    }
   ],
   "source": [
    "df5=pd.concat([Accessibility, Compatibility,Functional,Visual,Performance], axis=1)\n",
    "df5"
   ]
  },
  {
   "cell_type": "code",
   "execution_count": 107,
   "id": "0ce5d731",
   "metadata": {},
   "outputs": [
    {
     "data": {
      "text/html": [
       "<div>\n",
       "<style scoped>\n",
       "    .dataframe tbody tr th:only-of-type {\n",
       "        vertical-align: middle;\n",
       "    }\n",
       "\n",
       "    .dataframe tbody tr th {\n",
       "        vertical-align: top;\n",
       "    }\n",
       "\n",
       "    .dataframe thead th {\n",
       "        text-align: right;\n",
       "    }\n",
       "</style>\n",
       "<table border=\"1\" class=\"dataframe\">\n",
       "  <thead>\n",
       "    <tr style=\"text-align: right;\">\n",
       "      <th>DeviceId</th>\n",
       "      <th>Testing</th>\n",
       "      <th>Status</th>\n",
       "      <th>Android</th>\n",
       "      <th>IOS</th>\n",
       "      <th>IPad</th>\n",
       "      <th>Tablet</th>\n",
       "    </tr>\n",
       "  </thead>\n",
       "  <tbody>\n",
       "    <tr>\n",
       "      <th>0</th>\n",
       "      <td>Accessibility</td>\n",
       "      <td>Fail</td>\n",
       "      <td>112</td>\n",
       "      <td>37</td>\n",
       "      <td>32</td>\n",
       "      <td>50</td>\n",
       "    </tr>\n",
       "    <tr>\n",
       "      <th>1</th>\n",
       "      <td>Compatibility</td>\n",
       "      <td>Fail</td>\n",
       "      <td>184</td>\n",
       "      <td>47</td>\n",
       "      <td>42</td>\n",
       "      <td>79</td>\n",
       "    </tr>\n",
       "    <tr>\n",
       "      <th>2</th>\n",
       "      <td>Functional</td>\n",
       "      <td>Fail</td>\n",
       "      <td>98</td>\n",
       "      <td>56</td>\n",
       "      <td>58</td>\n",
       "      <td>88</td>\n",
       "    </tr>\n",
       "    <tr>\n",
       "      <th>3</th>\n",
       "      <td>Performance</td>\n",
       "      <td>Fail</td>\n",
       "      <td>229</td>\n",
       "      <td>45</td>\n",
       "      <td>26</td>\n",
       "      <td>62</td>\n",
       "    </tr>\n",
       "    <tr>\n",
       "      <th>4</th>\n",
       "      <td>Visual</td>\n",
       "      <td>Fail</td>\n",
       "      <td>144</td>\n",
       "      <td>46</td>\n",
       "      <td>42</td>\n",
       "      <td>82</td>\n",
       "    </tr>\n",
       "    <tr>\n",
       "      <th>5</th>\n",
       "      <td>Accessibility</td>\n",
       "      <td>Pass</td>\n",
       "      <td>645</td>\n",
       "      <td>245</td>\n",
       "      <td>142</td>\n",
       "      <td>164</td>\n",
       "    </tr>\n",
       "    <tr>\n",
       "      <th>6</th>\n",
       "      <td>Compatibility</td>\n",
       "      <td>Pass</td>\n",
       "      <td>573</td>\n",
       "      <td>235</td>\n",
       "      <td>132</td>\n",
       "      <td>135</td>\n",
       "    </tr>\n",
       "    <tr>\n",
       "      <th>7</th>\n",
       "      <td>Functional</td>\n",
       "      <td>Pass</td>\n",
       "      <td>659</td>\n",
       "      <td>226</td>\n",
       "      <td>116</td>\n",
       "      <td>126</td>\n",
       "    </tr>\n",
       "    <tr>\n",
       "      <th>8</th>\n",
       "      <td>Performance</td>\n",
       "      <td>Pass</td>\n",
       "      <td>528</td>\n",
       "      <td>237</td>\n",
       "      <td>148</td>\n",
       "      <td>152</td>\n",
       "    </tr>\n",
       "    <tr>\n",
       "      <th>9</th>\n",
       "      <td>Visual</td>\n",
       "      <td>Pass</td>\n",
       "      <td>613</td>\n",
       "      <td>236</td>\n",
       "      <td>132</td>\n",
       "      <td>132</td>\n",
       "    </tr>\n",
       "  </tbody>\n",
       "</table>\n",
       "</div>"
      ],
      "text/plain": [
       "DeviceId        Testing Status  Android  IOS  IPad  Tablet\n",
       "0         Accessibility   Fail      112   37    32      50\n",
       "1         Compatibility   Fail      184   47    42      79\n",
       "2            Functional   Fail       98   56    58      88\n",
       "3           Performance   Fail      229   45    26      62\n",
       "4                Visual   Fail      144   46    42      82\n",
       "5         Accessibility   Pass      645  245   142     164\n",
       "6         Compatibility   Pass      573  235   132     135\n",
       "7            Functional   Pass      659  226   116     126\n",
       "8           Performance   Pass      528  237   148     152\n",
       "9                Visual   Pass      613  236   132     132"
      ]
     },
     "execution_count": 107,
     "metadata": {},
     "output_type": "execute_result"
    }
   ],
   "source": [
    "df6=df5.unstack(0)\n",
    "df7=df6.stack(0)\n",
    "df7.reset_index(level=0, inplace=True)\n",
    "df7.reset_index(level=0, inplace=True)\n",
    "df7.rename(columns = {'index':'Testing', 'level_0':'Status'}, inplace = True)\n",
    "df7.fillna(0)"
   ]
  },
  {
   "cell_type": "code",
   "execution_count": 108,
   "id": "923815bc",
   "metadata": {},
   "outputs": [
    {
     "data": {
      "text/html": [
       "<div>\n",
       "<style scoped>\n",
       "    .dataframe tbody tr th:only-of-type {\n",
       "        vertical-align: middle;\n",
       "    }\n",
       "\n",
       "    .dataframe tbody tr th {\n",
       "        vertical-align: top;\n",
       "    }\n",
       "\n",
       "    .dataframe thead th {\n",
       "        text-align: right;\n",
       "    }\n",
       "</style>\n",
       "<table border=\"1\" class=\"dataframe\">\n",
       "  <thead>\n",
       "    <tr style=\"text-align: right;\">\n",
       "      <th></th>\n",
       "      <th>Testing</th>\n",
       "      <th>Status</th>\n",
       "      <th>DeviceId</th>\n",
       "      <th>value</th>\n",
       "    </tr>\n",
       "  </thead>\n",
       "  <tbody>\n",
       "    <tr>\n",
       "      <th>0</th>\n",
       "      <td>Accessibility</td>\n",
       "      <td>Fail</td>\n",
       "      <td>Android</td>\n",
       "      <td>112</td>\n",
       "    </tr>\n",
       "    <tr>\n",
       "      <th>1</th>\n",
       "      <td>Compatibility</td>\n",
       "      <td>Fail</td>\n",
       "      <td>Android</td>\n",
       "      <td>184</td>\n",
       "    </tr>\n",
       "    <tr>\n",
       "      <th>2</th>\n",
       "      <td>Functional</td>\n",
       "      <td>Fail</td>\n",
       "      <td>Android</td>\n",
       "      <td>98</td>\n",
       "    </tr>\n",
       "    <tr>\n",
       "      <th>3</th>\n",
       "      <td>Performance</td>\n",
       "      <td>Fail</td>\n",
       "      <td>Android</td>\n",
       "      <td>229</td>\n",
       "    </tr>\n",
       "    <tr>\n",
       "      <th>4</th>\n",
       "      <td>Visual</td>\n",
       "      <td>Fail</td>\n",
       "      <td>Android</td>\n",
       "      <td>144</td>\n",
       "    </tr>\n",
       "  </tbody>\n",
       "</table>\n",
       "</div>"
      ],
      "text/plain": [
       "         Testing Status DeviceId  value\n",
       "0  Accessibility   Fail  Android    112\n",
       "1  Compatibility   Fail  Android    184\n",
       "2     Functional   Fail  Android     98\n",
       "3    Performance   Fail  Android    229\n",
       "4         Visual   Fail  Android    144"
      ]
     },
     "execution_count": 108,
     "metadata": {},
     "output_type": "execute_result"
    }
   ],
   "source": [
    "df7=df7.melt(id_vars=['Testing','Status'], value_vars=['Android','IOS','IPad','Tablet'])\n",
    "df7.head()"
   ]
  },
  {
   "cell_type": "code",
   "execution_count": 109,
   "id": "16949a1d",
   "metadata": {},
   "outputs": [
    {
     "name": "stderr",
     "output_type": "stream",
     "text": [
      "C:\\Users\\kaviarasu.gm\\.conda\\envs\\kavi\\lib\\site-packages\\plotly\\express\\_core.py:1637: FutureWarning:\n",
      "\n",
      "The frame.append method is deprecated and will be removed from pandas in a future version. Use pandas.concat instead.\n",
      "\n",
      "C:\\Users\\kaviarasu.gm\\.conda\\envs\\kavi\\lib\\site-packages\\plotly\\express\\_core.py:1637: FutureWarning:\n",
      "\n",
      "The frame.append method is deprecated and will be removed from pandas in a future version. Use pandas.concat instead.\n",
      "\n",
      "C:\\Users\\kaviarasu.gm\\.conda\\envs\\kavi\\lib\\site-packages\\plotly\\express\\_core.py:1637: FutureWarning:\n",
      "\n",
      "The frame.append method is deprecated and will be removed from pandas in a future version. Use pandas.concat instead.\n",
      "\n"
     ]
    },
    {
     "data": {
      "application/vnd.plotly.v1+json": {
       "config": {
        "plotlyServerURL": "https://plot.ly"
       },
       "data": [
        {
         "branchvalues": "total",
         "domain": {
          "x": [
           0,
           1
          ],
          "y": [
           0,
           1
          ]
         },
         "hovertemplate": "labels=%{label}<br>value=%{value}<br>parent=%{parent}<br>id=%{id}<extra></extra>",
         "ids": [
          "Android/Accessibility/Fail",
          "IOS/Accessibility/Fail",
          "IPad/Accessibility/Fail",
          "Tablet/Accessibility/Fail",
          "Android/Compatibility/Fail",
          "IOS/Compatibility/Fail",
          "IPad/Compatibility/Fail",
          "Tablet/Compatibility/Fail",
          "Android/Functional/Fail",
          "IOS/Functional/Fail",
          "IPad/Functional/Fail",
          "Tablet/Functional/Fail",
          "Android/Performance/Fail",
          "IOS/Performance/Fail",
          "IPad/Performance/Fail",
          "Tablet/Performance/Fail",
          "Android/Visual/Fail",
          "IOS/Visual/Fail",
          "IPad/Visual/Fail",
          "Tablet/Visual/Fail",
          "Android/Accessibility/Pass",
          "IOS/Accessibility/Pass",
          "IPad/Accessibility/Pass",
          "Tablet/Accessibility/Pass",
          "Android/Compatibility/Pass",
          "IOS/Compatibility/Pass",
          "IPad/Compatibility/Pass",
          "Tablet/Compatibility/Pass",
          "Android/Functional/Pass",
          "IOS/Functional/Pass",
          "IPad/Functional/Pass",
          "Tablet/Functional/Pass",
          "Android/Performance/Pass",
          "IOS/Performance/Pass",
          "IPad/Performance/Pass",
          "Tablet/Performance/Pass",
          "Android/Visual/Pass",
          "IOS/Visual/Pass",
          "IPad/Visual/Pass",
          "Tablet/Visual/Pass",
          "Android/Accessibility",
          "IOS/Accessibility",
          "IPad/Accessibility",
          "Tablet/Accessibility",
          "Android/Compatibility",
          "IOS/Compatibility",
          "IPad/Compatibility",
          "Tablet/Compatibility",
          "Android/Functional",
          "IOS/Functional",
          "IPad/Functional",
          "Tablet/Functional",
          "Android/Performance",
          "IOS/Performance",
          "IPad/Performance",
          "Tablet/Performance",
          "Android/Visual",
          "IOS/Visual",
          "IPad/Visual",
          "Tablet/Visual",
          "Android",
          "IOS",
          "IPad",
          "Tablet"
         ],
         "labels": [
          "Fail",
          "Fail",
          "Fail",
          "Fail",
          "Fail",
          "Fail",
          "Fail",
          "Fail",
          "Fail",
          "Fail",
          "Fail",
          "Fail",
          "Fail",
          "Fail",
          "Fail",
          "Fail",
          "Fail",
          "Fail",
          "Fail",
          "Fail",
          "Pass",
          "Pass",
          "Pass",
          "Pass",
          "Pass",
          "Pass",
          "Pass",
          "Pass",
          "Pass",
          "Pass",
          "Pass",
          "Pass",
          "Pass",
          "Pass",
          "Pass",
          "Pass",
          "Pass",
          "Pass",
          "Pass",
          "Pass",
          "Accessibility",
          "Accessibility",
          "Accessibility",
          "Accessibility",
          "Compatibility",
          "Compatibility",
          "Compatibility",
          "Compatibility",
          "Functional",
          "Functional",
          "Functional",
          "Functional",
          "Performance",
          "Performance",
          "Performance",
          "Performance",
          "Visual",
          "Visual",
          "Visual",
          "Visual",
          "Android",
          "IOS",
          "IPad",
          "Tablet"
         ],
         "name": "",
         "parents": [
          "Android/Accessibility",
          "IOS/Accessibility",
          "IPad/Accessibility",
          "Tablet/Accessibility",
          "Android/Compatibility",
          "IOS/Compatibility",
          "IPad/Compatibility",
          "Tablet/Compatibility",
          "Android/Functional",
          "IOS/Functional",
          "IPad/Functional",
          "Tablet/Functional",
          "Android/Performance",
          "IOS/Performance",
          "IPad/Performance",
          "Tablet/Performance",
          "Android/Visual",
          "IOS/Visual",
          "IPad/Visual",
          "Tablet/Visual",
          "Android/Accessibility",
          "IOS/Accessibility",
          "IPad/Accessibility",
          "Tablet/Accessibility",
          "Android/Compatibility",
          "IOS/Compatibility",
          "IPad/Compatibility",
          "Tablet/Compatibility",
          "Android/Functional",
          "IOS/Functional",
          "IPad/Functional",
          "Tablet/Functional",
          "Android/Performance",
          "IOS/Performance",
          "IPad/Performance",
          "Tablet/Performance",
          "Android/Visual",
          "IOS/Visual",
          "IPad/Visual",
          "Tablet/Visual",
          "Android",
          "IOS",
          "IPad",
          "Tablet",
          "Android",
          "IOS",
          "IPad",
          "Tablet",
          "Android",
          "IOS",
          "IPad",
          "Tablet",
          "Android",
          "IOS",
          "IPad",
          "Tablet",
          "Android",
          "IOS",
          "IPad",
          "Tablet",
          "",
          "",
          "",
          ""
         ],
         "type": "sunburst",
         "values": [
          112,
          37,
          32,
          50,
          184,
          47,
          42,
          79,
          98,
          56,
          58,
          88,
          229,
          45,
          26,
          62,
          144,
          46,
          42,
          82,
          645,
          245,
          142,
          164,
          573,
          235,
          132,
          135,
          659,
          226,
          116,
          126,
          528,
          237,
          148,
          152,
          613,
          236,
          132,
          132,
          757,
          282,
          174,
          214,
          757,
          282,
          174,
          214,
          757,
          282,
          174,
          214,
          757,
          282,
          174,
          214,
          757,
          282,
          174,
          214,
          3785,
          1410,
          870,
          1070
         ]
        }
       ],
       "layout": {
        "legend": {
         "tracegroupgap": 0
        },
        "margin": {
         "t": 60
        },
        "template": {
         "data": {
          "bar": [
           {
            "error_x": {
             "color": "#2a3f5f"
            },
            "error_y": {
             "color": "#2a3f5f"
            },
            "marker": {
             "line": {
              "color": "#E5ECF6",
              "width": 0.5
             },
             "pattern": {
              "fillmode": "overlay",
              "size": 10,
              "solidity": 0.2
             }
            },
            "type": "bar"
           }
          ],
          "barpolar": [
           {
            "marker": {
             "line": {
              "color": "#E5ECF6",
              "width": 0.5
             },
             "pattern": {
              "fillmode": "overlay",
              "size": 10,
              "solidity": 0.2
             }
            },
            "type": "barpolar"
           }
          ],
          "carpet": [
           {
            "aaxis": {
             "endlinecolor": "#2a3f5f",
             "gridcolor": "white",
             "linecolor": "white",
             "minorgridcolor": "white",
             "startlinecolor": "#2a3f5f"
            },
            "baxis": {
             "endlinecolor": "#2a3f5f",
             "gridcolor": "white",
             "linecolor": "white",
             "minorgridcolor": "white",
             "startlinecolor": "#2a3f5f"
            },
            "type": "carpet"
           }
          ],
          "choropleth": [
           {
            "colorbar": {
             "outlinewidth": 0,
             "ticks": ""
            },
            "type": "choropleth"
           }
          ],
          "contour": [
           {
            "colorbar": {
             "outlinewidth": 0,
             "ticks": ""
            },
            "colorscale": [
             [
              0,
              "#0d0887"
             ],
             [
              0.1111111111111111,
              "#46039f"
             ],
             [
              0.2222222222222222,
              "#7201a8"
             ],
             [
              0.3333333333333333,
              "#9c179e"
             ],
             [
              0.4444444444444444,
              "#bd3786"
             ],
             [
              0.5555555555555556,
              "#d8576b"
             ],
             [
              0.6666666666666666,
              "#ed7953"
             ],
             [
              0.7777777777777778,
              "#fb9f3a"
             ],
             [
              0.8888888888888888,
              "#fdca26"
             ],
             [
              1,
              "#f0f921"
             ]
            ],
            "type": "contour"
           }
          ],
          "contourcarpet": [
           {
            "colorbar": {
             "outlinewidth": 0,
             "ticks": ""
            },
            "type": "contourcarpet"
           }
          ],
          "heatmap": [
           {
            "colorbar": {
             "outlinewidth": 0,
             "ticks": ""
            },
            "colorscale": [
             [
              0,
              "#0d0887"
             ],
             [
              0.1111111111111111,
              "#46039f"
             ],
             [
              0.2222222222222222,
              "#7201a8"
             ],
             [
              0.3333333333333333,
              "#9c179e"
             ],
             [
              0.4444444444444444,
              "#bd3786"
             ],
             [
              0.5555555555555556,
              "#d8576b"
             ],
             [
              0.6666666666666666,
              "#ed7953"
             ],
             [
              0.7777777777777778,
              "#fb9f3a"
             ],
             [
              0.8888888888888888,
              "#fdca26"
             ],
             [
              1,
              "#f0f921"
             ]
            ],
            "type": "heatmap"
           }
          ],
          "heatmapgl": [
           {
            "colorbar": {
             "outlinewidth": 0,
             "ticks": ""
            },
            "colorscale": [
             [
              0,
              "#0d0887"
             ],
             [
              0.1111111111111111,
              "#46039f"
             ],
             [
              0.2222222222222222,
              "#7201a8"
             ],
             [
              0.3333333333333333,
              "#9c179e"
             ],
             [
              0.4444444444444444,
              "#bd3786"
             ],
             [
              0.5555555555555556,
              "#d8576b"
             ],
             [
              0.6666666666666666,
              "#ed7953"
             ],
             [
              0.7777777777777778,
              "#fb9f3a"
             ],
             [
              0.8888888888888888,
              "#fdca26"
             ],
             [
              1,
              "#f0f921"
             ]
            ],
            "type": "heatmapgl"
           }
          ],
          "histogram": [
           {
            "marker": {
             "pattern": {
              "fillmode": "overlay",
              "size": 10,
              "solidity": 0.2
             }
            },
            "type": "histogram"
           }
          ],
          "histogram2d": [
           {
            "colorbar": {
             "outlinewidth": 0,
             "ticks": ""
            },
            "colorscale": [
             [
              0,
              "#0d0887"
             ],
             [
              0.1111111111111111,
              "#46039f"
             ],
             [
              0.2222222222222222,
              "#7201a8"
             ],
             [
              0.3333333333333333,
              "#9c179e"
             ],
             [
              0.4444444444444444,
              "#bd3786"
             ],
             [
              0.5555555555555556,
              "#d8576b"
             ],
             [
              0.6666666666666666,
              "#ed7953"
             ],
             [
              0.7777777777777778,
              "#fb9f3a"
             ],
             [
              0.8888888888888888,
              "#fdca26"
             ],
             [
              1,
              "#f0f921"
             ]
            ],
            "type": "histogram2d"
           }
          ],
          "histogram2dcontour": [
           {
            "colorbar": {
             "outlinewidth": 0,
             "ticks": ""
            },
            "colorscale": [
             [
              0,
              "#0d0887"
             ],
             [
              0.1111111111111111,
              "#46039f"
             ],
             [
              0.2222222222222222,
              "#7201a8"
             ],
             [
              0.3333333333333333,
              "#9c179e"
             ],
             [
              0.4444444444444444,
              "#bd3786"
             ],
             [
              0.5555555555555556,
              "#d8576b"
             ],
             [
              0.6666666666666666,
              "#ed7953"
             ],
             [
              0.7777777777777778,
              "#fb9f3a"
             ],
             [
              0.8888888888888888,
              "#fdca26"
             ],
             [
              1,
              "#f0f921"
             ]
            ],
            "type": "histogram2dcontour"
           }
          ],
          "mesh3d": [
           {
            "colorbar": {
             "outlinewidth": 0,
             "ticks": ""
            },
            "type": "mesh3d"
           }
          ],
          "parcoords": [
           {
            "line": {
             "colorbar": {
              "outlinewidth": 0,
              "ticks": ""
             }
            },
            "type": "parcoords"
           }
          ],
          "pie": [
           {
            "automargin": true,
            "type": "pie"
           }
          ],
          "scatter": [
           {
            "fillpattern": {
             "fillmode": "overlay",
             "size": 10,
             "solidity": 0.2
            },
            "type": "scatter"
           }
          ],
          "scatter3d": [
           {
            "line": {
             "colorbar": {
              "outlinewidth": 0,
              "ticks": ""
             }
            },
            "marker": {
             "colorbar": {
              "outlinewidth": 0,
              "ticks": ""
             }
            },
            "type": "scatter3d"
           }
          ],
          "scattercarpet": [
           {
            "marker": {
             "colorbar": {
              "outlinewidth": 0,
              "ticks": ""
             }
            },
            "type": "scattercarpet"
           }
          ],
          "scattergeo": [
           {
            "marker": {
             "colorbar": {
              "outlinewidth": 0,
              "ticks": ""
             }
            },
            "type": "scattergeo"
           }
          ],
          "scattergl": [
           {
            "marker": {
             "colorbar": {
              "outlinewidth": 0,
              "ticks": ""
             }
            },
            "type": "scattergl"
           }
          ],
          "scattermapbox": [
           {
            "marker": {
             "colorbar": {
              "outlinewidth": 0,
              "ticks": ""
             }
            },
            "type": "scattermapbox"
           }
          ],
          "scatterpolar": [
           {
            "marker": {
             "colorbar": {
              "outlinewidth": 0,
              "ticks": ""
             }
            },
            "type": "scatterpolar"
           }
          ],
          "scatterpolargl": [
           {
            "marker": {
             "colorbar": {
              "outlinewidth": 0,
              "ticks": ""
             }
            },
            "type": "scatterpolargl"
           }
          ],
          "scatterternary": [
           {
            "marker": {
             "colorbar": {
              "outlinewidth": 0,
              "ticks": ""
             }
            },
            "type": "scatterternary"
           }
          ],
          "surface": [
           {
            "colorbar": {
             "outlinewidth": 0,
             "ticks": ""
            },
            "colorscale": [
             [
              0,
              "#0d0887"
             ],
             [
              0.1111111111111111,
              "#46039f"
             ],
             [
              0.2222222222222222,
              "#7201a8"
             ],
             [
              0.3333333333333333,
              "#9c179e"
             ],
             [
              0.4444444444444444,
              "#bd3786"
             ],
             [
              0.5555555555555556,
              "#d8576b"
             ],
             [
              0.6666666666666666,
              "#ed7953"
             ],
             [
              0.7777777777777778,
              "#fb9f3a"
             ],
             [
              0.8888888888888888,
              "#fdca26"
             ],
             [
              1,
              "#f0f921"
             ]
            ],
            "type": "surface"
           }
          ],
          "table": [
           {
            "cells": {
             "fill": {
              "color": "#EBF0F8"
             },
             "line": {
              "color": "white"
             }
            },
            "header": {
             "fill": {
              "color": "#C8D4E3"
             },
             "line": {
              "color": "white"
             }
            },
            "type": "table"
           }
          ]
         },
         "layout": {
          "annotationdefaults": {
           "arrowcolor": "#2a3f5f",
           "arrowhead": 0,
           "arrowwidth": 1
          },
          "autotypenumbers": "strict",
          "coloraxis": {
           "colorbar": {
            "outlinewidth": 0,
            "ticks": ""
           }
          },
          "colorscale": {
           "diverging": [
            [
             0,
             "#8e0152"
            ],
            [
             0.1,
             "#c51b7d"
            ],
            [
             0.2,
             "#de77ae"
            ],
            [
             0.3,
             "#f1b6da"
            ],
            [
             0.4,
             "#fde0ef"
            ],
            [
             0.5,
             "#f7f7f7"
            ],
            [
             0.6,
             "#e6f5d0"
            ],
            [
             0.7,
             "#b8e186"
            ],
            [
             0.8,
             "#7fbc41"
            ],
            [
             0.9,
             "#4d9221"
            ],
            [
             1,
             "#276419"
            ]
           ],
           "sequential": [
            [
             0,
             "#0d0887"
            ],
            [
             0.1111111111111111,
             "#46039f"
            ],
            [
             0.2222222222222222,
             "#7201a8"
            ],
            [
             0.3333333333333333,
             "#9c179e"
            ],
            [
             0.4444444444444444,
             "#bd3786"
            ],
            [
             0.5555555555555556,
             "#d8576b"
            ],
            [
             0.6666666666666666,
             "#ed7953"
            ],
            [
             0.7777777777777778,
             "#fb9f3a"
            ],
            [
             0.8888888888888888,
             "#fdca26"
            ],
            [
             1,
             "#f0f921"
            ]
           ],
           "sequentialminus": [
            [
             0,
             "#0d0887"
            ],
            [
             0.1111111111111111,
             "#46039f"
            ],
            [
             0.2222222222222222,
             "#7201a8"
            ],
            [
             0.3333333333333333,
             "#9c179e"
            ],
            [
             0.4444444444444444,
             "#bd3786"
            ],
            [
             0.5555555555555556,
             "#d8576b"
            ],
            [
             0.6666666666666666,
             "#ed7953"
            ],
            [
             0.7777777777777778,
             "#fb9f3a"
            ],
            [
             0.8888888888888888,
             "#fdca26"
            ],
            [
             1,
             "#f0f921"
            ]
           ]
          },
          "colorway": [
           "#636efa",
           "#EF553B",
           "#00cc96",
           "#ab63fa",
           "#FFA15A",
           "#19d3f3",
           "#FF6692",
           "#B6E880",
           "#FF97FF",
           "#FECB52"
          ],
          "font": {
           "color": "#2a3f5f"
          },
          "geo": {
           "bgcolor": "white",
           "lakecolor": "white",
           "landcolor": "#E5ECF6",
           "showlakes": true,
           "showland": true,
           "subunitcolor": "white"
          },
          "hoverlabel": {
           "align": "left"
          },
          "hovermode": "closest",
          "mapbox": {
           "style": "light"
          },
          "paper_bgcolor": "white",
          "plot_bgcolor": "#E5ECF6",
          "polar": {
           "angularaxis": {
            "gridcolor": "white",
            "linecolor": "white",
            "ticks": ""
           },
           "bgcolor": "#E5ECF6",
           "radialaxis": {
            "gridcolor": "white",
            "linecolor": "white",
            "ticks": ""
           }
          },
          "scene": {
           "xaxis": {
            "backgroundcolor": "#E5ECF6",
            "gridcolor": "white",
            "gridwidth": 2,
            "linecolor": "white",
            "showbackground": true,
            "ticks": "",
            "zerolinecolor": "white"
           },
           "yaxis": {
            "backgroundcolor": "#E5ECF6",
            "gridcolor": "white",
            "gridwidth": 2,
            "linecolor": "white",
            "showbackground": true,
            "ticks": "",
            "zerolinecolor": "white"
           },
           "zaxis": {
            "backgroundcolor": "#E5ECF6",
            "gridcolor": "white",
            "gridwidth": 2,
            "linecolor": "white",
            "showbackground": true,
            "ticks": "",
            "zerolinecolor": "white"
           }
          },
          "shapedefaults": {
           "line": {
            "color": "#2a3f5f"
           }
          },
          "ternary": {
           "aaxis": {
            "gridcolor": "white",
            "linecolor": "white",
            "ticks": ""
           },
           "baxis": {
            "gridcolor": "white",
            "linecolor": "white",
            "ticks": ""
           },
           "bgcolor": "#E5ECF6",
           "caxis": {
            "gridcolor": "white",
            "linecolor": "white",
            "ticks": ""
           }
          },
          "title": {
           "x": 0.05
          },
          "xaxis": {
           "automargin": true,
           "gridcolor": "white",
           "linecolor": "white",
           "ticks": "",
           "title": {
            "standoff": 15
           },
           "zerolinecolor": "white",
           "zerolinewidth": 2
          },
          "yaxis": {
           "automargin": true,
           "gridcolor": "white",
           "linecolor": "white",
           "ticks": "",
           "title": {
            "standoff": 15
           },
           "zerolinecolor": "white",
           "zerolinewidth": 2
          }
         }
        }
       }
      },
      "text/html": [
       "<div>                            <div id=\"ddeb18e2-0c89-4c9f-a776-8cf67a55e795\" class=\"plotly-graph-div\" style=\"height:525px; width:100%;\"></div>            <script type=\"text/javascript\">                require([\"plotly\"], function(Plotly) {                    window.PLOTLYENV=window.PLOTLYENV || {};                                    if (document.getElementById(\"ddeb18e2-0c89-4c9f-a776-8cf67a55e795\")) {                    Plotly.newPlot(                        \"ddeb18e2-0c89-4c9f-a776-8cf67a55e795\",                        [{\"branchvalues\":\"total\",\"domain\":{\"x\":[0.0,1.0],\"y\":[0.0,1.0]},\"hovertemplate\":\"labels=%{label}<br>value=%{value}<br>parent=%{parent}<br>id=%{id}<extra></extra>\",\"ids\":[\"Android/Accessibility/Fail\",\"IOS/Accessibility/Fail\",\"IPad/Accessibility/Fail\",\"Tablet/Accessibility/Fail\",\"Android/Compatibility/Fail\",\"IOS/Compatibility/Fail\",\"IPad/Compatibility/Fail\",\"Tablet/Compatibility/Fail\",\"Android/Functional/Fail\",\"IOS/Functional/Fail\",\"IPad/Functional/Fail\",\"Tablet/Functional/Fail\",\"Android/Performance/Fail\",\"IOS/Performance/Fail\",\"IPad/Performance/Fail\",\"Tablet/Performance/Fail\",\"Android/Visual/Fail\",\"IOS/Visual/Fail\",\"IPad/Visual/Fail\",\"Tablet/Visual/Fail\",\"Android/Accessibility/Pass\",\"IOS/Accessibility/Pass\",\"IPad/Accessibility/Pass\",\"Tablet/Accessibility/Pass\",\"Android/Compatibility/Pass\",\"IOS/Compatibility/Pass\",\"IPad/Compatibility/Pass\",\"Tablet/Compatibility/Pass\",\"Android/Functional/Pass\",\"IOS/Functional/Pass\",\"IPad/Functional/Pass\",\"Tablet/Functional/Pass\",\"Android/Performance/Pass\",\"IOS/Performance/Pass\",\"IPad/Performance/Pass\",\"Tablet/Performance/Pass\",\"Android/Visual/Pass\",\"IOS/Visual/Pass\",\"IPad/Visual/Pass\",\"Tablet/Visual/Pass\",\"Android/Accessibility\",\"IOS/Accessibility\",\"IPad/Accessibility\",\"Tablet/Accessibility\",\"Android/Compatibility\",\"IOS/Compatibility\",\"IPad/Compatibility\",\"Tablet/Compatibility\",\"Android/Functional\",\"IOS/Functional\",\"IPad/Functional\",\"Tablet/Functional\",\"Android/Performance\",\"IOS/Performance\",\"IPad/Performance\",\"Tablet/Performance\",\"Android/Visual\",\"IOS/Visual\",\"IPad/Visual\",\"Tablet/Visual\",\"Android\",\"IOS\",\"IPad\",\"Tablet\"],\"labels\":[\"Fail\",\"Fail\",\"Fail\",\"Fail\",\"Fail\",\"Fail\",\"Fail\",\"Fail\",\"Fail\",\"Fail\",\"Fail\",\"Fail\",\"Fail\",\"Fail\",\"Fail\",\"Fail\",\"Fail\",\"Fail\",\"Fail\",\"Fail\",\"Pass\",\"Pass\",\"Pass\",\"Pass\",\"Pass\",\"Pass\",\"Pass\",\"Pass\",\"Pass\",\"Pass\",\"Pass\",\"Pass\",\"Pass\",\"Pass\",\"Pass\",\"Pass\",\"Pass\",\"Pass\",\"Pass\",\"Pass\",\"Accessibility\",\"Accessibility\",\"Accessibility\",\"Accessibility\",\"Compatibility\",\"Compatibility\",\"Compatibility\",\"Compatibility\",\"Functional\",\"Functional\",\"Functional\",\"Functional\",\"Performance\",\"Performance\",\"Performance\",\"Performance\",\"Visual\",\"Visual\",\"Visual\",\"Visual\",\"Android\",\"IOS\",\"IPad\",\"Tablet\"],\"name\":\"\",\"parents\":[\"Android/Accessibility\",\"IOS/Accessibility\",\"IPad/Accessibility\",\"Tablet/Accessibility\",\"Android/Compatibility\",\"IOS/Compatibility\",\"IPad/Compatibility\",\"Tablet/Compatibility\",\"Android/Functional\",\"IOS/Functional\",\"IPad/Functional\",\"Tablet/Functional\",\"Android/Performance\",\"IOS/Performance\",\"IPad/Performance\",\"Tablet/Performance\",\"Android/Visual\",\"IOS/Visual\",\"IPad/Visual\",\"Tablet/Visual\",\"Android/Accessibility\",\"IOS/Accessibility\",\"IPad/Accessibility\",\"Tablet/Accessibility\",\"Android/Compatibility\",\"IOS/Compatibility\",\"IPad/Compatibility\",\"Tablet/Compatibility\",\"Android/Functional\",\"IOS/Functional\",\"IPad/Functional\",\"Tablet/Functional\",\"Android/Performance\",\"IOS/Performance\",\"IPad/Performance\",\"Tablet/Performance\",\"Android/Visual\",\"IOS/Visual\",\"IPad/Visual\",\"Tablet/Visual\",\"Android\",\"IOS\",\"IPad\",\"Tablet\",\"Android\",\"IOS\",\"IPad\",\"Tablet\",\"Android\",\"IOS\",\"IPad\",\"Tablet\",\"Android\",\"IOS\",\"IPad\",\"Tablet\",\"Android\",\"IOS\",\"IPad\",\"Tablet\",\"\",\"\",\"\",\"\"],\"values\":[112,37,32,50,184,47,42,79,98,56,58,88,229,45,26,62,144,46,42,82,645,245,142,164,573,235,132,135,659,226,116,126,528,237,148,152,613,236,132,132,757,282,174,214,757,282,174,214,757,282,174,214,757,282,174,214,757,282,174,214,3785,1410,870,1070],\"type\":\"sunburst\"}],                        {\"template\":{\"data\":{\"histogram2dcontour\":[{\"type\":\"histogram2dcontour\",\"colorbar\":{\"outlinewidth\":0,\"ticks\":\"\"},\"colorscale\":[[0.0,\"#0d0887\"],[0.1111111111111111,\"#46039f\"],[0.2222222222222222,\"#7201a8\"],[0.3333333333333333,\"#9c179e\"],[0.4444444444444444,\"#bd3786\"],[0.5555555555555556,\"#d8576b\"],[0.6666666666666666,\"#ed7953\"],[0.7777777777777778,\"#fb9f3a\"],[0.8888888888888888,\"#fdca26\"],[1.0,\"#f0f921\"]]}],\"choropleth\":[{\"type\":\"choropleth\",\"colorbar\":{\"outlinewidth\":0,\"ticks\":\"\"}}],\"histogram2d\":[{\"type\":\"histogram2d\",\"colorbar\":{\"outlinewidth\":0,\"ticks\":\"\"},\"colorscale\":[[0.0,\"#0d0887\"],[0.1111111111111111,\"#46039f\"],[0.2222222222222222,\"#7201a8\"],[0.3333333333333333,\"#9c179e\"],[0.4444444444444444,\"#bd3786\"],[0.5555555555555556,\"#d8576b\"],[0.6666666666666666,\"#ed7953\"],[0.7777777777777778,\"#fb9f3a\"],[0.8888888888888888,\"#fdca26\"],[1.0,\"#f0f921\"]]}],\"heatmap\":[{\"type\":\"heatmap\",\"colorbar\":{\"outlinewidth\":0,\"ticks\":\"\"},\"colorscale\":[[0.0,\"#0d0887\"],[0.1111111111111111,\"#46039f\"],[0.2222222222222222,\"#7201a8\"],[0.3333333333333333,\"#9c179e\"],[0.4444444444444444,\"#bd3786\"],[0.5555555555555556,\"#d8576b\"],[0.6666666666666666,\"#ed7953\"],[0.7777777777777778,\"#fb9f3a\"],[0.8888888888888888,\"#fdca26\"],[1.0,\"#f0f921\"]]}],\"heatmapgl\":[{\"type\":\"heatmapgl\",\"colorbar\":{\"outlinewidth\":0,\"ticks\":\"\"},\"colorscale\":[[0.0,\"#0d0887\"],[0.1111111111111111,\"#46039f\"],[0.2222222222222222,\"#7201a8\"],[0.3333333333333333,\"#9c179e\"],[0.4444444444444444,\"#bd3786\"],[0.5555555555555556,\"#d8576b\"],[0.6666666666666666,\"#ed7953\"],[0.7777777777777778,\"#fb9f3a\"],[0.8888888888888888,\"#fdca26\"],[1.0,\"#f0f921\"]]}],\"contourcarpet\":[{\"type\":\"contourcarpet\",\"colorbar\":{\"outlinewidth\":0,\"ticks\":\"\"}}],\"contour\":[{\"type\":\"contour\",\"colorbar\":{\"outlinewidth\":0,\"ticks\":\"\"},\"colorscale\":[[0.0,\"#0d0887\"],[0.1111111111111111,\"#46039f\"],[0.2222222222222222,\"#7201a8\"],[0.3333333333333333,\"#9c179e\"],[0.4444444444444444,\"#bd3786\"],[0.5555555555555556,\"#d8576b\"],[0.6666666666666666,\"#ed7953\"],[0.7777777777777778,\"#fb9f3a\"],[0.8888888888888888,\"#fdca26\"],[1.0,\"#f0f921\"]]}],\"surface\":[{\"type\":\"surface\",\"colorbar\":{\"outlinewidth\":0,\"ticks\":\"\"},\"colorscale\":[[0.0,\"#0d0887\"],[0.1111111111111111,\"#46039f\"],[0.2222222222222222,\"#7201a8\"],[0.3333333333333333,\"#9c179e\"],[0.4444444444444444,\"#bd3786\"],[0.5555555555555556,\"#d8576b\"],[0.6666666666666666,\"#ed7953\"],[0.7777777777777778,\"#fb9f3a\"],[0.8888888888888888,\"#fdca26\"],[1.0,\"#f0f921\"]]}],\"mesh3d\":[{\"type\":\"mesh3d\",\"colorbar\":{\"outlinewidth\":0,\"ticks\":\"\"}}],\"scatter\":[{\"fillpattern\":{\"fillmode\":\"overlay\",\"size\":10,\"solidity\":0.2},\"type\":\"scatter\"}],\"parcoords\":[{\"type\":\"parcoords\",\"line\":{\"colorbar\":{\"outlinewidth\":0,\"ticks\":\"\"}}}],\"scatterpolargl\":[{\"type\":\"scatterpolargl\",\"marker\":{\"colorbar\":{\"outlinewidth\":0,\"ticks\":\"\"}}}],\"bar\":[{\"error_x\":{\"color\":\"#2a3f5f\"},\"error_y\":{\"color\":\"#2a3f5f\"},\"marker\":{\"line\":{\"color\":\"#E5ECF6\",\"width\":0.5},\"pattern\":{\"fillmode\":\"overlay\",\"size\":10,\"solidity\":0.2}},\"type\":\"bar\"}],\"scattergeo\":[{\"type\":\"scattergeo\",\"marker\":{\"colorbar\":{\"outlinewidth\":0,\"ticks\":\"\"}}}],\"scatterpolar\":[{\"type\":\"scatterpolar\",\"marker\":{\"colorbar\":{\"outlinewidth\":0,\"ticks\":\"\"}}}],\"histogram\":[{\"marker\":{\"pattern\":{\"fillmode\":\"overlay\",\"size\":10,\"solidity\":0.2}},\"type\":\"histogram\"}],\"scattergl\":[{\"type\":\"scattergl\",\"marker\":{\"colorbar\":{\"outlinewidth\":0,\"ticks\":\"\"}}}],\"scatter3d\":[{\"type\":\"scatter3d\",\"line\":{\"colorbar\":{\"outlinewidth\":0,\"ticks\":\"\"}},\"marker\":{\"colorbar\":{\"outlinewidth\":0,\"ticks\":\"\"}}}],\"scattermapbox\":[{\"type\":\"scattermapbox\",\"marker\":{\"colorbar\":{\"outlinewidth\":0,\"ticks\":\"\"}}}],\"scatterternary\":[{\"type\":\"scatterternary\",\"marker\":{\"colorbar\":{\"outlinewidth\":0,\"ticks\":\"\"}}}],\"scattercarpet\":[{\"type\":\"scattercarpet\",\"marker\":{\"colorbar\":{\"outlinewidth\":0,\"ticks\":\"\"}}}],\"carpet\":[{\"aaxis\":{\"endlinecolor\":\"#2a3f5f\",\"gridcolor\":\"white\",\"linecolor\":\"white\",\"minorgridcolor\":\"white\",\"startlinecolor\":\"#2a3f5f\"},\"baxis\":{\"endlinecolor\":\"#2a3f5f\",\"gridcolor\":\"white\",\"linecolor\":\"white\",\"minorgridcolor\":\"white\",\"startlinecolor\":\"#2a3f5f\"},\"type\":\"carpet\"}],\"table\":[{\"cells\":{\"fill\":{\"color\":\"#EBF0F8\"},\"line\":{\"color\":\"white\"}},\"header\":{\"fill\":{\"color\":\"#C8D4E3\"},\"line\":{\"color\":\"white\"}},\"type\":\"table\"}],\"barpolar\":[{\"marker\":{\"line\":{\"color\":\"#E5ECF6\",\"width\":0.5},\"pattern\":{\"fillmode\":\"overlay\",\"size\":10,\"solidity\":0.2}},\"type\":\"barpolar\"}],\"pie\":[{\"automargin\":true,\"type\":\"pie\"}]},\"layout\":{\"autotypenumbers\":\"strict\",\"colorway\":[\"#636efa\",\"#EF553B\",\"#00cc96\",\"#ab63fa\",\"#FFA15A\",\"#19d3f3\",\"#FF6692\",\"#B6E880\",\"#FF97FF\",\"#FECB52\"],\"font\":{\"color\":\"#2a3f5f\"},\"hovermode\":\"closest\",\"hoverlabel\":{\"align\":\"left\"},\"paper_bgcolor\":\"white\",\"plot_bgcolor\":\"#E5ECF6\",\"polar\":{\"bgcolor\":\"#E5ECF6\",\"angularaxis\":{\"gridcolor\":\"white\",\"linecolor\":\"white\",\"ticks\":\"\"},\"radialaxis\":{\"gridcolor\":\"white\",\"linecolor\":\"white\",\"ticks\":\"\"}},\"ternary\":{\"bgcolor\":\"#E5ECF6\",\"aaxis\":{\"gridcolor\":\"white\",\"linecolor\":\"white\",\"ticks\":\"\"},\"baxis\":{\"gridcolor\":\"white\",\"linecolor\":\"white\",\"ticks\":\"\"},\"caxis\":{\"gridcolor\":\"white\",\"linecolor\":\"white\",\"ticks\":\"\"}},\"coloraxis\":{\"colorbar\":{\"outlinewidth\":0,\"ticks\":\"\"}},\"colorscale\":{\"sequential\":[[0.0,\"#0d0887\"],[0.1111111111111111,\"#46039f\"],[0.2222222222222222,\"#7201a8\"],[0.3333333333333333,\"#9c179e\"],[0.4444444444444444,\"#bd3786\"],[0.5555555555555556,\"#d8576b\"],[0.6666666666666666,\"#ed7953\"],[0.7777777777777778,\"#fb9f3a\"],[0.8888888888888888,\"#fdca26\"],[1.0,\"#f0f921\"]],\"sequentialminus\":[[0.0,\"#0d0887\"],[0.1111111111111111,\"#46039f\"],[0.2222222222222222,\"#7201a8\"],[0.3333333333333333,\"#9c179e\"],[0.4444444444444444,\"#bd3786\"],[0.5555555555555556,\"#d8576b\"],[0.6666666666666666,\"#ed7953\"],[0.7777777777777778,\"#fb9f3a\"],[0.8888888888888888,\"#fdca26\"],[1.0,\"#f0f921\"]],\"diverging\":[[0,\"#8e0152\"],[0.1,\"#c51b7d\"],[0.2,\"#de77ae\"],[0.3,\"#f1b6da\"],[0.4,\"#fde0ef\"],[0.5,\"#f7f7f7\"],[0.6,\"#e6f5d0\"],[0.7,\"#b8e186\"],[0.8,\"#7fbc41\"],[0.9,\"#4d9221\"],[1,\"#276419\"]]},\"xaxis\":{\"gridcolor\":\"white\",\"linecolor\":\"white\",\"ticks\":\"\",\"title\":{\"standoff\":15},\"zerolinecolor\":\"white\",\"automargin\":true,\"zerolinewidth\":2},\"yaxis\":{\"gridcolor\":\"white\",\"linecolor\":\"white\",\"ticks\":\"\",\"title\":{\"standoff\":15},\"zerolinecolor\":\"white\",\"automargin\":true,\"zerolinewidth\":2},\"scene\":{\"xaxis\":{\"backgroundcolor\":\"#E5ECF6\",\"gridcolor\":\"white\",\"linecolor\":\"white\",\"showbackground\":true,\"ticks\":\"\",\"zerolinecolor\":\"white\",\"gridwidth\":2},\"yaxis\":{\"backgroundcolor\":\"#E5ECF6\",\"gridcolor\":\"white\",\"linecolor\":\"white\",\"showbackground\":true,\"ticks\":\"\",\"zerolinecolor\":\"white\",\"gridwidth\":2},\"zaxis\":{\"backgroundcolor\":\"#E5ECF6\",\"gridcolor\":\"white\",\"linecolor\":\"white\",\"showbackground\":true,\"ticks\":\"\",\"zerolinecolor\":\"white\",\"gridwidth\":2}},\"shapedefaults\":{\"line\":{\"color\":\"#2a3f5f\"}},\"annotationdefaults\":{\"arrowcolor\":\"#2a3f5f\",\"arrowhead\":0,\"arrowwidth\":1},\"geo\":{\"bgcolor\":\"white\",\"landcolor\":\"#E5ECF6\",\"subunitcolor\":\"white\",\"showland\":true,\"showlakes\":true,\"lakecolor\":\"white\"},\"title\":{\"x\":0.05},\"mapbox\":{\"style\":\"light\"}}},\"legend\":{\"tracegroupgap\":0},\"margin\":{\"t\":60}},                        {\"responsive\": true}                    ).then(function(){\n",
       "                            \n",
       "var gd = document.getElementById('ddeb18e2-0c89-4c9f-a776-8cf67a55e795');\n",
       "var x = new MutationObserver(function (mutations, observer) {{\n",
       "        var display = window.getComputedStyle(gd).display;\n",
       "        if (!display || display === 'none') {{\n",
       "            console.log([gd, 'removed!']);\n",
       "            Plotly.purge(gd);\n",
       "            observer.disconnect();\n",
       "        }}\n",
       "}});\n",
       "\n",
       "// Listen for the removal of the full notebook cells\n",
       "var notebookContainer = gd.closest('#notebook-container');\n",
       "if (notebookContainer) {{\n",
       "    x.observe(notebookContainer, {childList: true});\n",
       "}}\n",
       "\n",
       "// Listen for the clearing of the current output cell\n",
       "var outputEl = gd.closest('.output');\n",
       "if (outputEl) {{\n",
       "    x.observe(outputEl, {childList: true});\n",
       "}}\n",
       "\n",
       "                        })                };                });            </script>        </div>"
      ]
     },
     "metadata": {},
     "output_type": "display_data"
    }
   ],
   "source": [
    "import plotly.express as px\n",
    "\n",
    "fig = px.sunburst(df7, path=['DeviceId','Testing', 'Status'], values='value')\n",
    "fig.show()"
   ]
  },
  {
   "cell_type": "code",
   "execution_count": 46,
   "id": "40c228cc",
   "metadata": {},
   "outputs": [
    {
     "name": "stderr",
     "output_type": "stream",
     "text": [
      "C:\\Users\\kaviarasu.gm\\.conda\\envs\\kavi\\lib\\site-packages\\plotly\\express\\_core.py:1637: FutureWarning:\n",
      "\n",
      "The frame.append method is deprecated and will be removed from pandas in a future version. Use pandas.concat instead.\n",
      "\n",
      "C:\\Users\\kaviarasu.gm\\.conda\\envs\\kavi\\lib\\site-packages\\plotly\\express\\_core.py:1637: FutureWarning:\n",
      "\n",
      "The frame.append method is deprecated and will be removed from pandas in a future version. Use pandas.concat instead.\n",
      "\n",
      "C:\\Users\\kaviarasu.gm\\.conda\\envs\\kavi\\lib\\site-packages\\plotly\\express\\_core.py:1637: FutureWarning:\n",
      "\n",
      "The frame.append method is deprecated and will be removed from pandas in a future version. Use pandas.concat instead.\n",
      "\n"
     ]
    },
    {
     "data": {
      "application/vnd.plotly.v1+json": {
       "config": {
        "plotlyServerURL": "https://plot.ly"
       },
       "data": [
        {
         "branchvalues": "total",
         "domain": {
          "x": [
           0,
           1
          ],
          "y": [
           0,
           1
          ]
         },
         "hovertemplate": "labels=%{label}<br>value=%{value}<br>parent=%{parent}<br>id=%{id}<extra></extra>",
         "ids": [
          "Fail/Android/Accessibility",
          "Pass/Android/Accessibility",
          "Fail/IOS/Accessibility",
          "Pass/IOS/Accessibility",
          "Fail/IPad/Accessibility",
          "Pass/IPad/Accessibility",
          "Fail/Tablet/Accessibility",
          "Pass/Tablet/Accessibility",
          "Fail/Android/Compatibility",
          "Pass/Android/Compatibility",
          "Fail/IOS/Compatibility",
          "Pass/IOS/Compatibility",
          "Fail/IPad/Compatibility",
          "Pass/IPad/Compatibility",
          "Fail/Tablet/Compatibility",
          "Pass/Tablet/Compatibility",
          "Fail/Android/Functional",
          "Pass/Android/Functional",
          "Fail/IOS/Functional",
          "Pass/IOS/Functional",
          "Fail/IPad/Functional",
          "Pass/IPad/Functional",
          "Fail/Tablet/Functional",
          "Pass/Tablet/Functional",
          "Fail/Android/Performance",
          "Pass/Android/Performance",
          "Fail/IOS/Performance",
          "Pass/IOS/Performance",
          "Fail/IPad/Performance",
          "Pass/IPad/Performance",
          "Fail/Tablet/Performance",
          "Pass/Tablet/Performance",
          "Fail/Android/Visual",
          "Pass/Android/Visual",
          "Fail/IOS/Visual",
          "Pass/IOS/Visual",
          "Fail/IPad/Visual",
          "Pass/IPad/Visual",
          "Fail/Tablet/Visual",
          "Pass/Tablet/Visual",
          "Fail/Android",
          "Pass/Android",
          "Fail/IOS",
          "Pass/IOS",
          "Fail/IPad",
          "Pass/IPad",
          "Fail/Tablet",
          "Pass/Tablet",
          "Fail",
          "Pass"
         ],
         "labels": [
          "Accessibility",
          "Accessibility",
          "Accessibility",
          "Accessibility",
          "Accessibility",
          "Accessibility",
          "Accessibility",
          "Accessibility",
          "Compatibility",
          "Compatibility",
          "Compatibility",
          "Compatibility",
          "Compatibility",
          "Compatibility",
          "Compatibility",
          "Compatibility",
          "Functional",
          "Functional",
          "Functional",
          "Functional",
          "Functional",
          "Functional",
          "Functional",
          "Functional",
          "Performance",
          "Performance",
          "Performance",
          "Performance",
          "Performance",
          "Performance",
          "Performance",
          "Performance",
          "Visual",
          "Visual",
          "Visual",
          "Visual",
          "Visual",
          "Visual",
          "Visual",
          "Visual",
          "Android",
          "Android",
          "IOS",
          "IOS",
          "IPad",
          "IPad",
          "Tablet",
          "Tablet",
          "Fail",
          "Pass"
         ],
         "name": "",
         "parents": [
          "Fail/Android",
          "Pass/Android",
          "Fail/IOS",
          "Pass/IOS",
          "Fail/IPad",
          "Pass/IPad",
          "Fail/Tablet",
          "Pass/Tablet",
          "Fail/Android",
          "Pass/Android",
          "Fail/IOS",
          "Pass/IOS",
          "Fail/IPad",
          "Pass/IPad",
          "Fail/Tablet",
          "Pass/Tablet",
          "Fail/Android",
          "Pass/Android",
          "Fail/IOS",
          "Pass/IOS",
          "Fail/IPad",
          "Pass/IPad",
          "Fail/Tablet",
          "Pass/Tablet",
          "Fail/Android",
          "Pass/Android",
          "Fail/IOS",
          "Pass/IOS",
          "Fail/IPad",
          "Pass/IPad",
          "Fail/Tablet",
          "Pass/Tablet",
          "Fail/Android",
          "Pass/Android",
          "Fail/IOS",
          "Pass/IOS",
          "Fail/IPad",
          "Pass/IPad",
          "Fail/Tablet",
          "Pass/Tablet",
          "Fail",
          "Pass",
          "Fail",
          "Pass",
          "Fail",
          "Pass",
          "Fail",
          "Pass",
          "",
          ""
         ],
         "type": "sunburst",
         "values": [
          7.848633496846531,
          45.199719691660825,
          2.592852137351086,
          17.168885774351786,
          2.242466713384723,
          9.950946040644709,
          3.50385423966363,
          11.492641906096706,
          12.894183601962158,
          40.1541695865452,
          3.2936229852838124,
          16.468114926419062,
          2.9432375613174493,
          9.250175192711984,
          5.536089698668535,
          9.4604064470918,
          6.867554309740715,
          46.180798878766645,
          3.9243167484232657,
          15.837421163279608,
          4.06447091800981,
          8.12894183601962,
          6.166783461807989,
          8.829712683952348,
          16.047652417659425,
          37.000700770847935,
          3.153468815697267,
          16.608269096005607,
          1.8220042046250875,
          10.371408549404345,
          4.344779257182902,
          10.651716888577436,
          10.091100210231254,
          42.9572529782761,
          3.2235459004905396,
          16.538192011212335,
          2.9432375613174493,
          9.250175192711984,
          5.746320953048353,
          9.250175192711984,
          53.74912403644008,
          211.4926419060967,
          16.18780658724597,
          82.6208829712684,
          14.01541695865452,
          46.951646811492644,
          25.297827610371407,
          49.684653118430276,
          109.25017519271198,
          390.749824807288
         ]
        }
       ],
       "layout": {
        "legend": {
         "tracegroupgap": 0
        },
        "margin": {
         "t": 60
        },
        "template": {
         "data": {
          "bar": [
           {
            "error_x": {
             "color": "#2a3f5f"
            },
            "error_y": {
             "color": "#2a3f5f"
            },
            "marker": {
             "line": {
              "color": "#E5ECF6",
              "width": 0.5
             },
             "pattern": {
              "fillmode": "overlay",
              "size": 10,
              "solidity": 0.2
             }
            },
            "type": "bar"
           }
          ],
          "barpolar": [
           {
            "marker": {
             "line": {
              "color": "#E5ECF6",
              "width": 0.5
             },
             "pattern": {
              "fillmode": "overlay",
              "size": 10,
              "solidity": 0.2
             }
            },
            "type": "barpolar"
           }
          ],
          "carpet": [
           {
            "aaxis": {
             "endlinecolor": "#2a3f5f",
             "gridcolor": "white",
             "linecolor": "white",
             "minorgridcolor": "white",
             "startlinecolor": "#2a3f5f"
            },
            "baxis": {
             "endlinecolor": "#2a3f5f",
             "gridcolor": "white",
             "linecolor": "white",
             "minorgridcolor": "white",
             "startlinecolor": "#2a3f5f"
            },
            "type": "carpet"
           }
          ],
          "choropleth": [
           {
            "colorbar": {
             "outlinewidth": 0,
             "ticks": ""
            },
            "type": "choropleth"
           }
          ],
          "contour": [
           {
            "colorbar": {
             "outlinewidth": 0,
             "ticks": ""
            },
            "colorscale": [
             [
              0,
              "#0d0887"
             ],
             [
              0.1111111111111111,
              "#46039f"
             ],
             [
              0.2222222222222222,
              "#7201a8"
             ],
             [
              0.3333333333333333,
              "#9c179e"
             ],
             [
              0.4444444444444444,
              "#bd3786"
             ],
             [
              0.5555555555555556,
              "#d8576b"
             ],
             [
              0.6666666666666666,
              "#ed7953"
             ],
             [
              0.7777777777777778,
              "#fb9f3a"
             ],
             [
              0.8888888888888888,
              "#fdca26"
             ],
             [
              1,
              "#f0f921"
             ]
            ],
            "type": "contour"
           }
          ],
          "contourcarpet": [
           {
            "colorbar": {
             "outlinewidth": 0,
             "ticks": ""
            },
            "type": "contourcarpet"
           }
          ],
          "heatmap": [
           {
            "colorbar": {
             "outlinewidth": 0,
             "ticks": ""
            },
            "colorscale": [
             [
              0,
              "#0d0887"
             ],
             [
              0.1111111111111111,
              "#46039f"
             ],
             [
              0.2222222222222222,
              "#7201a8"
             ],
             [
              0.3333333333333333,
              "#9c179e"
             ],
             [
              0.4444444444444444,
              "#bd3786"
             ],
             [
              0.5555555555555556,
              "#d8576b"
             ],
             [
              0.6666666666666666,
              "#ed7953"
             ],
             [
              0.7777777777777778,
              "#fb9f3a"
             ],
             [
              0.8888888888888888,
              "#fdca26"
             ],
             [
              1,
              "#f0f921"
             ]
            ],
            "type": "heatmap"
           }
          ],
          "heatmapgl": [
           {
            "colorbar": {
             "outlinewidth": 0,
             "ticks": ""
            },
            "colorscale": [
             [
              0,
              "#0d0887"
             ],
             [
              0.1111111111111111,
              "#46039f"
             ],
             [
              0.2222222222222222,
              "#7201a8"
             ],
             [
              0.3333333333333333,
              "#9c179e"
             ],
             [
              0.4444444444444444,
              "#bd3786"
             ],
             [
              0.5555555555555556,
              "#d8576b"
             ],
             [
              0.6666666666666666,
              "#ed7953"
             ],
             [
              0.7777777777777778,
              "#fb9f3a"
             ],
             [
              0.8888888888888888,
              "#fdca26"
             ],
             [
              1,
              "#f0f921"
             ]
            ],
            "type": "heatmapgl"
           }
          ],
          "histogram": [
           {
            "marker": {
             "pattern": {
              "fillmode": "overlay",
              "size": 10,
              "solidity": 0.2
             }
            },
            "type": "histogram"
           }
          ],
          "histogram2d": [
           {
            "colorbar": {
             "outlinewidth": 0,
             "ticks": ""
            },
            "colorscale": [
             [
              0,
              "#0d0887"
             ],
             [
              0.1111111111111111,
              "#46039f"
             ],
             [
              0.2222222222222222,
              "#7201a8"
             ],
             [
              0.3333333333333333,
              "#9c179e"
             ],
             [
              0.4444444444444444,
              "#bd3786"
             ],
             [
              0.5555555555555556,
              "#d8576b"
             ],
             [
              0.6666666666666666,
              "#ed7953"
             ],
             [
              0.7777777777777778,
              "#fb9f3a"
             ],
             [
              0.8888888888888888,
              "#fdca26"
             ],
             [
              1,
              "#f0f921"
             ]
            ],
            "type": "histogram2d"
           }
          ],
          "histogram2dcontour": [
           {
            "colorbar": {
             "outlinewidth": 0,
             "ticks": ""
            },
            "colorscale": [
             [
              0,
              "#0d0887"
             ],
             [
              0.1111111111111111,
              "#46039f"
             ],
             [
              0.2222222222222222,
              "#7201a8"
             ],
             [
              0.3333333333333333,
              "#9c179e"
             ],
             [
              0.4444444444444444,
              "#bd3786"
             ],
             [
              0.5555555555555556,
              "#d8576b"
             ],
             [
              0.6666666666666666,
              "#ed7953"
             ],
             [
              0.7777777777777778,
              "#fb9f3a"
             ],
             [
              0.8888888888888888,
              "#fdca26"
             ],
             [
              1,
              "#f0f921"
             ]
            ],
            "type": "histogram2dcontour"
           }
          ],
          "mesh3d": [
           {
            "colorbar": {
             "outlinewidth": 0,
             "ticks": ""
            },
            "type": "mesh3d"
           }
          ],
          "parcoords": [
           {
            "line": {
             "colorbar": {
              "outlinewidth": 0,
              "ticks": ""
             }
            },
            "type": "parcoords"
           }
          ],
          "pie": [
           {
            "automargin": true,
            "type": "pie"
           }
          ],
          "scatter": [
           {
            "fillpattern": {
             "fillmode": "overlay",
             "size": 10,
             "solidity": 0.2
            },
            "type": "scatter"
           }
          ],
          "scatter3d": [
           {
            "line": {
             "colorbar": {
              "outlinewidth": 0,
              "ticks": ""
             }
            },
            "marker": {
             "colorbar": {
              "outlinewidth": 0,
              "ticks": ""
             }
            },
            "type": "scatter3d"
           }
          ],
          "scattercarpet": [
           {
            "marker": {
             "colorbar": {
              "outlinewidth": 0,
              "ticks": ""
             }
            },
            "type": "scattercarpet"
           }
          ],
          "scattergeo": [
           {
            "marker": {
             "colorbar": {
              "outlinewidth": 0,
              "ticks": ""
             }
            },
            "type": "scattergeo"
           }
          ],
          "scattergl": [
           {
            "marker": {
             "colorbar": {
              "outlinewidth": 0,
              "ticks": ""
             }
            },
            "type": "scattergl"
           }
          ],
          "scattermapbox": [
           {
            "marker": {
             "colorbar": {
              "outlinewidth": 0,
              "ticks": ""
             }
            },
            "type": "scattermapbox"
           }
          ],
          "scatterpolar": [
           {
            "marker": {
             "colorbar": {
              "outlinewidth": 0,
              "ticks": ""
             }
            },
            "type": "scatterpolar"
           }
          ],
          "scatterpolargl": [
           {
            "marker": {
             "colorbar": {
              "outlinewidth": 0,
              "ticks": ""
             }
            },
            "type": "scatterpolargl"
           }
          ],
          "scatterternary": [
           {
            "marker": {
             "colorbar": {
              "outlinewidth": 0,
              "ticks": ""
             }
            },
            "type": "scatterternary"
           }
          ],
          "surface": [
           {
            "colorbar": {
             "outlinewidth": 0,
             "ticks": ""
            },
            "colorscale": [
             [
              0,
              "#0d0887"
             ],
             [
              0.1111111111111111,
              "#46039f"
             ],
             [
              0.2222222222222222,
              "#7201a8"
             ],
             [
              0.3333333333333333,
              "#9c179e"
             ],
             [
              0.4444444444444444,
              "#bd3786"
             ],
             [
              0.5555555555555556,
              "#d8576b"
             ],
             [
              0.6666666666666666,
              "#ed7953"
             ],
             [
              0.7777777777777778,
              "#fb9f3a"
             ],
             [
              0.8888888888888888,
              "#fdca26"
             ],
             [
              1,
              "#f0f921"
             ]
            ],
            "type": "surface"
           }
          ],
          "table": [
           {
            "cells": {
             "fill": {
              "color": "#EBF0F8"
             },
             "line": {
              "color": "white"
             }
            },
            "header": {
             "fill": {
              "color": "#C8D4E3"
             },
             "line": {
              "color": "white"
             }
            },
            "type": "table"
           }
          ]
         },
         "layout": {
          "annotationdefaults": {
           "arrowcolor": "#2a3f5f",
           "arrowhead": 0,
           "arrowwidth": 1
          },
          "autotypenumbers": "strict",
          "coloraxis": {
           "colorbar": {
            "outlinewidth": 0,
            "ticks": ""
           }
          },
          "colorscale": {
           "diverging": [
            [
             0,
             "#8e0152"
            ],
            [
             0.1,
             "#c51b7d"
            ],
            [
             0.2,
             "#de77ae"
            ],
            [
             0.3,
             "#f1b6da"
            ],
            [
             0.4,
             "#fde0ef"
            ],
            [
             0.5,
             "#f7f7f7"
            ],
            [
             0.6,
             "#e6f5d0"
            ],
            [
             0.7,
             "#b8e186"
            ],
            [
             0.8,
             "#7fbc41"
            ],
            [
             0.9,
             "#4d9221"
            ],
            [
             1,
             "#276419"
            ]
           ],
           "sequential": [
            [
             0,
             "#0d0887"
            ],
            [
             0.1111111111111111,
             "#46039f"
            ],
            [
             0.2222222222222222,
             "#7201a8"
            ],
            [
             0.3333333333333333,
             "#9c179e"
            ],
            [
             0.4444444444444444,
             "#bd3786"
            ],
            [
             0.5555555555555556,
             "#d8576b"
            ],
            [
             0.6666666666666666,
             "#ed7953"
            ],
            [
             0.7777777777777778,
             "#fb9f3a"
            ],
            [
             0.8888888888888888,
             "#fdca26"
            ],
            [
             1,
             "#f0f921"
            ]
           ],
           "sequentialminus": [
            [
             0,
             "#0d0887"
            ],
            [
             0.1111111111111111,
             "#46039f"
            ],
            [
             0.2222222222222222,
             "#7201a8"
            ],
            [
             0.3333333333333333,
             "#9c179e"
            ],
            [
             0.4444444444444444,
             "#bd3786"
            ],
            [
             0.5555555555555556,
             "#d8576b"
            ],
            [
             0.6666666666666666,
             "#ed7953"
            ],
            [
             0.7777777777777778,
             "#fb9f3a"
            ],
            [
             0.8888888888888888,
             "#fdca26"
            ],
            [
             1,
             "#f0f921"
            ]
           ]
          },
          "colorway": [
           "#636efa",
           "#EF553B",
           "#00cc96",
           "#ab63fa",
           "#FFA15A",
           "#19d3f3",
           "#FF6692",
           "#B6E880",
           "#FF97FF",
           "#FECB52"
          ],
          "font": {
           "color": "#2a3f5f"
          },
          "geo": {
           "bgcolor": "white",
           "lakecolor": "white",
           "landcolor": "#E5ECF6",
           "showlakes": true,
           "showland": true,
           "subunitcolor": "white"
          },
          "hoverlabel": {
           "align": "left"
          },
          "hovermode": "closest",
          "mapbox": {
           "style": "light"
          },
          "paper_bgcolor": "white",
          "plot_bgcolor": "#E5ECF6",
          "polar": {
           "angularaxis": {
            "gridcolor": "white",
            "linecolor": "white",
            "ticks": ""
           },
           "bgcolor": "#E5ECF6",
           "radialaxis": {
            "gridcolor": "white",
            "linecolor": "white",
            "ticks": ""
           }
          },
          "scene": {
           "xaxis": {
            "backgroundcolor": "#E5ECF6",
            "gridcolor": "white",
            "gridwidth": 2,
            "linecolor": "white",
            "showbackground": true,
            "ticks": "",
            "zerolinecolor": "white"
           },
           "yaxis": {
            "backgroundcolor": "#E5ECF6",
            "gridcolor": "white",
            "gridwidth": 2,
            "linecolor": "white",
            "showbackground": true,
            "ticks": "",
            "zerolinecolor": "white"
           },
           "zaxis": {
            "backgroundcolor": "#E5ECF6",
            "gridcolor": "white",
            "gridwidth": 2,
            "linecolor": "white",
            "showbackground": true,
            "ticks": "",
            "zerolinecolor": "white"
           }
          },
          "shapedefaults": {
           "line": {
            "color": "#2a3f5f"
           }
          },
          "ternary": {
           "aaxis": {
            "gridcolor": "white",
            "linecolor": "white",
            "ticks": ""
           },
           "baxis": {
            "gridcolor": "white",
            "linecolor": "white",
            "ticks": ""
           },
           "bgcolor": "#E5ECF6",
           "caxis": {
            "gridcolor": "white",
            "linecolor": "white",
            "ticks": ""
           }
          },
          "title": {
           "x": 0.05
          },
          "xaxis": {
           "automargin": true,
           "gridcolor": "white",
           "linecolor": "white",
           "ticks": "",
           "title": {
            "standoff": 15
           },
           "zerolinecolor": "white",
           "zerolinewidth": 2
          },
          "yaxis": {
           "automargin": true,
           "gridcolor": "white",
           "linecolor": "white",
           "ticks": "",
           "title": {
            "standoff": 15
           },
           "zerolinecolor": "white",
           "zerolinewidth": 2
          }
         }
        }
       }
      },
      "text/html": [
       "<div>                            <div id=\"33297658-9000-4b93-b9a2-d453065ac7a6\" class=\"plotly-graph-div\" style=\"height:525px; width:100%;\"></div>            <script type=\"text/javascript\">                require([\"plotly\"], function(Plotly) {                    window.PLOTLYENV=window.PLOTLYENV || {};                                    if (document.getElementById(\"33297658-9000-4b93-b9a2-d453065ac7a6\")) {                    Plotly.newPlot(                        \"33297658-9000-4b93-b9a2-d453065ac7a6\",                        [{\"branchvalues\":\"total\",\"domain\":{\"x\":[0.0,1.0],\"y\":[0.0,1.0]},\"hovertemplate\":\"labels=%{label}<br>value=%{value}<br>parent=%{parent}<br>id=%{id}<extra></extra>\",\"ids\":[\"Fail/Android/Accessibility\",\"Pass/Android/Accessibility\",\"Fail/IOS/Accessibility\",\"Pass/IOS/Accessibility\",\"Fail/IPad/Accessibility\",\"Pass/IPad/Accessibility\",\"Fail/Tablet/Accessibility\",\"Pass/Tablet/Accessibility\",\"Fail/Android/Compatibility\",\"Pass/Android/Compatibility\",\"Fail/IOS/Compatibility\",\"Pass/IOS/Compatibility\",\"Fail/IPad/Compatibility\",\"Pass/IPad/Compatibility\",\"Fail/Tablet/Compatibility\",\"Pass/Tablet/Compatibility\",\"Fail/Android/Functional\",\"Pass/Android/Functional\",\"Fail/IOS/Functional\",\"Pass/IOS/Functional\",\"Fail/IPad/Functional\",\"Pass/IPad/Functional\",\"Fail/Tablet/Functional\",\"Pass/Tablet/Functional\",\"Fail/Android/Performance\",\"Pass/Android/Performance\",\"Fail/IOS/Performance\",\"Pass/IOS/Performance\",\"Fail/IPad/Performance\",\"Pass/IPad/Performance\",\"Fail/Tablet/Performance\",\"Pass/Tablet/Performance\",\"Fail/Android/Visual\",\"Pass/Android/Visual\",\"Fail/IOS/Visual\",\"Pass/IOS/Visual\",\"Fail/IPad/Visual\",\"Pass/IPad/Visual\",\"Fail/Tablet/Visual\",\"Pass/Tablet/Visual\",\"Fail/Android\",\"Pass/Android\",\"Fail/IOS\",\"Pass/IOS\",\"Fail/IPad\",\"Pass/IPad\",\"Fail/Tablet\",\"Pass/Tablet\",\"Fail\",\"Pass\"],\"labels\":[\"Accessibility\",\"Accessibility\",\"Accessibility\",\"Accessibility\",\"Accessibility\",\"Accessibility\",\"Accessibility\",\"Accessibility\",\"Compatibility\",\"Compatibility\",\"Compatibility\",\"Compatibility\",\"Compatibility\",\"Compatibility\",\"Compatibility\",\"Compatibility\",\"Functional\",\"Functional\",\"Functional\",\"Functional\",\"Functional\",\"Functional\",\"Functional\",\"Functional\",\"Performance\",\"Performance\",\"Performance\",\"Performance\",\"Performance\",\"Performance\",\"Performance\",\"Performance\",\"Visual\",\"Visual\",\"Visual\",\"Visual\",\"Visual\",\"Visual\",\"Visual\",\"Visual\",\"Android\",\"Android\",\"IOS\",\"IOS\",\"IPad\",\"IPad\",\"Tablet\",\"Tablet\",\"Fail\",\"Pass\"],\"name\":\"\",\"parents\":[\"Fail/Android\",\"Pass/Android\",\"Fail/IOS\",\"Pass/IOS\",\"Fail/IPad\",\"Pass/IPad\",\"Fail/Tablet\",\"Pass/Tablet\",\"Fail/Android\",\"Pass/Android\",\"Fail/IOS\",\"Pass/IOS\",\"Fail/IPad\",\"Pass/IPad\",\"Fail/Tablet\",\"Pass/Tablet\",\"Fail/Android\",\"Pass/Android\",\"Fail/IOS\",\"Pass/IOS\",\"Fail/IPad\",\"Pass/IPad\",\"Fail/Tablet\",\"Pass/Tablet\",\"Fail/Android\",\"Pass/Android\",\"Fail/IOS\",\"Pass/IOS\",\"Fail/IPad\",\"Pass/IPad\",\"Fail/Tablet\",\"Pass/Tablet\",\"Fail/Android\",\"Pass/Android\",\"Fail/IOS\",\"Pass/IOS\",\"Fail/IPad\",\"Pass/IPad\",\"Fail/Tablet\",\"Pass/Tablet\",\"Fail\",\"Pass\",\"Fail\",\"Pass\",\"Fail\",\"Pass\",\"Fail\",\"Pass\",\"\",\"\"],\"values\":[7.848633496846531,45.199719691660825,2.592852137351086,17.168885774351786,2.242466713384723,9.950946040644709,3.50385423966363,11.492641906096706,12.894183601962158,40.1541695865452,3.2936229852838124,16.468114926419062,2.9432375613174493,9.250175192711984,5.536089698668535,9.4604064470918,6.867554309740715,46.180798878766645,3.9243167484232657,15.837421163279608,4.06447091800981,8.12894183601962,6.166783461807989,8.829712683952348,16.047652417659425,37.000700770847935,3.153468815697267,16.608269096005607,1.8220042046250875,10.371408549404345,4.344779257182902,10.651716888577436,10.091100210231254,42.9572529782761,3.2235459004905396,16.538192011212335,2.9432375613174493,9.250175192711984,5.746320953048353,9.250175192711984,53.74912403644008,211.4926419060967,16.18780658724597,82.6208829712684,14.01541695865452,46.951646811492644,25.297827610371407,49.684653118430276,109.25017519271198,390.749824807288],\"type\":\"sunburst\"}],                        {\"template\":{\"data\":{\"histogram2dcontour\":[{\"type\":\"histogram2dcontour\",\"colorbar\":{\"outlinewidth\":0,\"ticks\":\"\"},\"colorscale\":[[0.0,\"#0d0887\"],[0.1111111111111111,\"#46039f\"],[0.2222222222222222,\"#7201a8\"],[0.3333333333333333,\"#9c179e\"],[0.4444444444444444,\"#bd3786\"],[0.5555555555555556,\"#d8576b\"],[0.6666666666666666,\"#ed7953\"],[0.7777777777777778,\"#fb9f3a\"],[0.8888888888888888,\"#fdca26\"],[1.0,\"#f0f921\"]]}],\"choropleth\":[{\"type\":\"choropleth\",\"colorbar\":{\"outlinewidth\":0,\"ticks\":\"\"}}],\"histogram2d\":[{\"type\":\"histogram2d\",\"colorbar\":{\"outlinewidth\":0,\"ticks\":\"\"},\"colorscale\":[[0.0,\"#0d0887\"],[0.1111111111111111,\"#46039f\"],[0.2222222222222222,\"#7201a8\"],[0.3333333333333333,\"#9c179e\"],[0.4444444444444444,\"#bd3786\"],[0.5555555555555556,\"#d8576b\"],[0.6666666666666666,\"#ed7953\"],[0.7777777777777778,\"#fb9f3a\"],[0.8888888888888888,\"#fdca26\"],[1.0,\"#f0f921\"]]}],\"heatmap\":[{\"type\":\"heatmap\",\"colorbar\":{\"outlinewidth\":0,\"ticks\":\"\"},\"colorscale\":[[0.0,\"#0d0887\"],[0.1111111111111111,\"#46039f\"],[0.2222222222222222,\"#7201a8\"],[0.3333333333333333,\"#9c179e\"],[0.4444444444444444,\"#bd3786\"],[0.5555555555555556,\"#d8576b\"],[0.6666666666666666,\"#ed7953\"],[0.7777777777777778,\"#fb9f3a\"],[0.8888888888888888,\"#fdca26\"],[1.0,\"#f0f921\"]]}],\"heatmapgl\":[{\"type\":\"heatmapgl\",\"colorbar\":{\"outlinewidth\":0,\"ticks\":\"\"},\"colorscale\":[[0.0,\"#0d0887\"],[0.1111111111111111,\"#46039f\"],[0.2222222222222222,\"#7201a8\"],[0.3333333333333333,\"#9c179e\"],[0.4444444444444444,\"#bd3786\"],[0.5555555555555556,\"#d8576b\"],[0.6666666666666666,\"#ed7953\"],[0.7777777777777778,\"#fb9f3a\"],[0.8888888888888888,\"#fdca26\"],[1.0,\"#f0f921\"]]}],\"contourcarpet\":[{\"type\":\"contourcarpet\",\"colorbar\":{\"outlinewidth\":0,\"ticks\":\"\"}}],\"contour\":[{\"type\":\"contour\",\"colorbar\":{\"outlinewidth\":0,\"ticks\":\"\"},\"colorscale\":[[0.0,\"#0d0887\"],[0.1111111111111111,\"#46039f\"],[0.2222222222222222,\"#7201a8\"],[0.3333333333333333,\"#9c179e\"],[0.4444444444444444,\"#bd3786\"],[0.5555555555555556,\"#d8576b\"],[0.6666666666666666,\"#ed7953\"],[0.7777777777777778,\"#fb9f3a\"],[0.8888888888888888,\"#fdca26\"],[1.0,\"#f0f921\"]]}],\"surface\":[{\"type\":\"surface\",\"colorbar\":{\"outlinewidth\":0,\"ticks\":\"\"},\"colorscale\":[[0.0,\"#0d0887\"],[0.1111111111111111,\"#46039f\"],[0.2222222222222222,\"#7201a8\"],[0.3333333333333333,\"#9c179e\"],[0.4444444444444444,\"#bd3786\"],[0.5555555555555556,\"#d8576b\"],[0.6666666666666666,\"#ed7953\"],[0.7777777777777778,\"#fb9f3a\"],[0.8888888888888888,\"#fdca26\"],[1.0,\"#f0f921\"]]}],\"mesh3d\":[{\"type\":\"mesh3d\",\"colorbar\":{\"outlinewidth\":0,\"ticks\":\"\"}}],\"scatter\":[{\"fillpattern\":{\"fillmode\":\"overlay\",\"size\":10,\"solidity\":0.2},\"type\":\"scatter\"}],\"parcoords\":[{\"type\":\"parcoords\",\"line\":{\"colorbar\":{\"outlinewidth\":0,\"ticks\":\"\"}}}],\"scatterpolargl\":[{\"type\":\"scatterpolargl\",\"marker\":{\"colorbar\":{\"outlinewidth\":0,\"ticks\":\"\"}}}],\"bar\":[{\"error_x\":{\"color\":\"#2a3f5f\"},\"error_y\":{\"color\":\"#2a3f5f\"},\"marker\":{\"line\":{\"color\":\"#E5ECF6\",\"width\":0.5},\"pattern\":{\"fillmode\":\"overlay\",\"size\":10,\"solidity\":0.2}},\"type\":\"bar\"}],\"scattergeo\":[{\"type\":\"scattergeo\",\"marker\":{\"colorbar\":{\"outlinewidth\":0,\"ticks\":\"\"}}}],\"scatterpolar\":[{\"type\":\"scatterpolar\",\"marker\":{\"colorbar\":{\"outlinewidth\":0,\"ticks\":\"\"}}}],\"histogram\":[{\"marker\":{\"pattern\":{\"fillmode\":\"overlay\",\"size\":10,\"solidity\":0.2}},\"type\":\"histogram\"}],\"scattergl\":[{\"type\":\"scattergl\",\"marker\":{\"colorbar\":{\"outlinewidth\":0,\"ticks\":\"\"}}}],\"scatter3d\":[{\"type\":\"scatter3d\",\"line\":{\"colorbar\":{\"outlinewidth\":0,\"ticks\":\"\"}},\"marker\":{\"colorbar\":{\"outlinewidth\":0,\"ticks\":\"\"}}}],\"scattermapbox\":[{\"type\":\"scattermapbox\",\"marker\":{\"colorbar\":{\"outlinewidth\":0,\"ticks\":\"\"}}}],\"scatterternary\":[{\"type\":\"scatterternary\",\"marker\":{\"colorbar\":{\"outlinewidth\":0,\"ticks\":\"\"}}}],\"scattercarpet\":[{\"type\":\"scattercarpet\",\"marker\":{\"colorbar\":{\"outlinewidth\":0,\"ticks\":\"\"}}}],\"carpet\":[{\"aaxis\":{\"endlinecolor\":\"#2a3f5f\",\"gridcolor\":\"white\",\"linecolor\":\"white\",\"minorgridcolor\":\"white\",\"startlinecolor\":\"#2a3f5f\"},\"baxis\":{\"endlinecolor\":\"#2a3f5f\",\"gridcolor\":\"white\",\"linecolor\":\"white\",\"minorgridcolor\":\"white\",\"startlinecolor\":\"#2a3f5f\"},\"type\":\"carpet\"}],\"table\":[{\"cells\":{\"fill\":{\"color\":\"#EBF0F8\"},\"line\":{\"color\":\"white\"}},\"header\":{\"fill\":{\"color\":\"#C8D4E3\"},\"line\":{\"color\":\"white\"}},\"type\":\"table\"}],\"barpolar\":[{\"marker\":{\"line\":{\"color\":\"#E5ECF6\",\"width\":0.5},\"pattern\":{\"fillmode\":\"overlay\",\"size\":10,\"solidity\":0.2}},\"type\":\"barpolar\"}],\"pie\":[{\"automargin\":true,\"type\":\"pie\"}]},\"layout\":{\"autotypenumbers\":\"strict\",\"colorway\":[\"#636efa\",\"#EF553B\",\"#00cc96\",\"#ab63fa\",\"#FFA15A\",\"#19d3f3\",\"#FF6692\",\"#B6E880\",\"#FF97FF\",\"#FECB52\"],\"font\":{\"color\":\"#2a3f5f\"},\"hovermode\":\"closest\",\"hoverlabel\":{\"align\":\"left\"},\"paper_bgcolor\":\"white\",\"plot_bgcolor\":\"#E5ECF6\",\"polar\":{\"bgcolor\":\"#E5ECF6\",\"angularaxis\":{\"gridcolor\":\"white\",\"linecolor\":\"white\",\"ticks\":\"\"},\"radialaxis\":{\"gridcolor\":\"white\",\"linecolor\":\"white\",\"ticks\":\"\"}},\"ternary\":{\"bgcolor\":\"#E5ECF6\",\"aaxis\":{\"gridcolor\":\"white\",\"linecolor\":\"white\",\"ticks\":\"\"},\"baxis\":{\"gridcolor\":\"white\",\"linecolor\":\"white\",\"ticks\":\"\"},\"caxis\":{\"gridcolor\":\"white\",\"linecolor\":\"white\",\"ticks\":\"\"}},\"coloraxis\":{\"colorbar\":{\"outlinewidth\":0,\"ticks\":\"\"}},\"colorscale\":{\"sequential\":[[0.0,\"#0d0887\"],[0.1111111111111111,\"#46039f\"],[0.2222222222222222,\"#7201a8\"],[0.3333333333333333,\"#9c179e\"],[0.4444444444444444,\"#bd3786\"],[0.5555555555555556,\"#d8576b\"],[0.6666666666666666,\"#ed7953\"],[0.7777777777777778,\"#fb9f3a\"],[0.8888888888888888,\"#fdca26\"],[1.0,\"#f0f921\"]],\"sequentialminus\":[[0.0,\"#0d0887\"],[0.1111111111111111,\"#46039f\"],[0.2222222222222222,\"#7201a8\"],[0.3333333333333333,\"#9c179e\"],[0.4444444444444444,\"#bd3786\"],[0.5555555555555556,\"#d8576b\"],[0.6666666666666666,\"#ed7953\"],[0.7777777777777778,\"#fb9f3a\"],[0.8888888888888888,\"#fdca26\"],[1.0,\"#f0f921\"]],\"diverging\":[[0,\"#8e0152\"],[0.1,\"#c51b7d\"],[0.2,\"#de77ae\"],[0.3,\"#f1b6da\"],[0.4,\"#fde0ef\"],[0.5,\"#f7f7f7\"],[0.6,\"#e6f5d0\"],[0.7,\"#b8e186\"],[0.8,\"#7fbc41\"],[0.9,\"#4d9221\"],[1,\"#276419\"]]},\"xaxis\":{\"gridcolor\":\"white\",\"linecolor\":\"white\",\"ticks\":\"\",\"title\":{\"standoff\":15},\"zerolinecolor\":\"white\",\"automargin\":true,\"zerolinewidth\":2},\"yaxis\":{\"gridcolor\":\"white\",\"linecolor\":\"white\",\"ticks\":\"\",\"title\":{\"standoff\":15},\"zerolinecolor\":\"white\",\"automargin\":true,\"zerolinewidth\":2},\"scene\":{\"xaxis\":{\"backgroundcolor\":\"#E5ECF6\",\"gridcolor\":\"white\",\"linecolor\":\"white\",\"showbackground\":true,\"ticks\":\"\",\"zerolinecolor\":\"white\",\"gridwidth\":2},\"yaxis\":{\"backgroundcolor\":\"#E5ECF6\",\"gridcolor\":\"white\",\"linecolor\":\"white\",\"showbackground\":true,\"ticks\":\"\",\"zerolinecolor\":\"white\",\"gridwidth\":2},\"zaxis\":{\"backgroundcolor\":\"#E5ECF6\",\"gridcolor\":\"white\",\"linecolor\":\"white\",\"showbackground\":true,\"ticks\":\"\",\"zerolinecolor\":\"white\",\"gridwidth\":2}},\"shapedefaults\":{\"line\":{\"color\":\"#2a3f5f\"}},\"annotationdefaults\":{\"arrowcolor\":\"#2a3f5f\",\"arrowhead\":0,\"arrowwidth\":1},\"geo\":{\"bgcolor\":\"white\",\"landcolor\":\"#E5ECF6\",\"subunitcolor\":\"white\",\"showland\":true,\"showlakes\":true,\"lakecolor\":\"white\"},\"title\":{\"x\":0.05},\"mapbox\":{\"style\":\"light\"}}},\"legend\":{\"tracegroupgap\":0},\"margin\":{\"t\":60}},                        {\"responsive\": true}                    ).then(function(){\n",
       "                            \n",
       "var gd = document.getElementById('33297658-9000-4b93-b9a2-d453065ac7a6');\n",
       "var x = new MutationObserver(function (mutations, observer) {{\n",
       "        var display = window.getComputedStyle(gd).display;\n",
       "        if (!display || display === 'none') {{\n",
       "            console.log([gd, 'removed!']);\n",
       "            Plotly.purge(gd);\n",
       "            observer.disconnect();\n",
       "        }}\n",
       "}});\n",
       "\n",
       "// Listen for the removal of the full notebook cells\n",
       "var notebookContainer = gd.closest('#notebook-container');\n",
       "if (notebookContainer) {{\n",
       "    x.observe(notebookContainer, {childList: true});\n",
       "}}\n",
       "\n",
       "// Listen for the clearing of the current output cell\n",
       "var outputEl = gd.closest('.output');\n",
       "if (outputEl) {{\n",
       "    x.observe(outputEl, {childList: true});\n",
       "}}\n",
       "\n",
       "                        })                };                });            </script>        </div>"
      ]
     },
     "metadata": {},
     "output_type": "display_data"
    }
   ],
   "source": [
    "import plotly.express as px\n",
    "\n",
    "fig = px.sunburst(df7, path=['Status','DeviceId','Testing'], values='value')\n",
    "fig.show()"
   ]
  },
  {
   "cell_type": "code",
   "execution_count": 76,
   "id": "cda59b95",
   "metadata": {},
   "outputs": [],
   "source": [
    "Accessibility=df1.groupby(['DeviceId','Accessibility']).agg({'Accessibility':'count'})\n",
    "Compatibility=df1.groupby(['DeviceId','Compatibility']).agg({'Compatibility':'count'})\n",
    "Functional=df1.groupby(['DeviceId','Functional']).agg({'Functional':'count'})\n",
    "Visual=df1.groupby(['DeviceId','Visual']).agg({'Visual':'count'})\n",
    "Performance=df1.groupby(['DeviceId','Performance']).agg({'Performance':'count'})"
   ]
  },
  {
   "cell_type": "code",
   "execution_count": 77,
   "id": "d71cff91",
   "metadata": {},
   "outputs": [
    {
     "data": {
      "text/html": [
       "<div>\n",
       "<style scoped>\n",
       "    .dataframe tbody tr th:only-of-type {\n",
       "        vertical-align: middle;\n",
       "    }\n",
       "\n",
       "    .dataframe tbody tr th {\n",
       "        vertical-align: top;\n",
       "    }\n",
       "\n",
       "    .dataframe thead th {\n",
       "        text-align: right;\n",
       "    }\n",
       "</style>\n",
       "<table border=\"1\" class=\"dataframe\">\n",
       "  <thead>\n",
       "    <tr style=\"text-align: right;\">\n",
       "      <th></th>\n",
       "      <th></th>\n",
       "      <th>Accessibility</th>\n",
       "      <th>Compatibility</th>\n",
       "      <th>Functional</th>\n",
       "      <th>Visual</th>\n",
       "      <th>Performance</th>\n",
       "    </tr>\n",
       "    <tr>\n",
       "      <th>DeviceId</th>\n",
       "      <th></th>\n",
       "      <th></th>\n",
       "      <th></th>\n",
       "      <th></th>\n",
       "      <th></th>\n",
       "      <th></th>\n",
       "    </tr>\n",
       "  </thead>\n",
       "  <tbody>\n",
       "    <tr>\n",
       "      <th rowspan=\"2\" valign=\"top\">Android</th>\n",
       "      <th>Fail</th>\n",
       "      <td>112</td>\n",
       "      <td>184</td>\n",
       "      <td>98</td>\n",
       "      <td>144</td>\n",
       "      <td>229</td>\n",
       "    </tr>\n",
       "    <tr>\n",
       "      <th>Pass</th>\n",
       "      <td>645</td>\n",
       "      <td>573</td>\n",
       "      <td>659</td>\n",
       "      <td>613</td>\n",
       "      <td>528</td>\n",
       "    </tr>\n",
       "    <tr>\n",
       "      <th rowspan=\"2\" valign=\"top\">IOS</th>\n",
       "      <th>Fail</th>\n",
       "      <td>37</td>\n",
       "      <td>47</td>\n",
       "      <td>56</td>\n",
       "      <td>46</td>\n",
       "      <td>45</td>\n",
       "    </tr>\n",
       "    <tr>\n",
       "      <th>Pass</th>\n",
       "      <td>245</td>\n",
       "      <td>235</td>\n",
       "      <td>226</td>\n",
       "      <td>236</td>\n",
       "      <td>237</td>\n",
       "    </tr>\n",
       "    <tr>\n",
       "      <th rowspan=\"2\" valign=\"top\">IPad</th>\n",
       "      <th>Fail</th>\n",
       "      <td>32</td>\n",
       "      <td>42</td>\n",
       "      <td>58</td>\n",
       "      <td>42</td>\n",
       "      <td>26</td>\n",
       "    </tr>\n",
       "    <tr>\n",
       "      <th>Pass</th>\n",
       "      <td>142</td>\n",
       "      <td>132</td>\n",
       "      <td>116</td>\n",
       "      <td>132</td>\n",
       "      <td>148</td>\n",
       "    </tr>\n",
       "    <tr>\n",
       "      <th rowspan=\"2\" valign=\"top\">Tablet</th>\n",
       "      <th>Fail</th>\n",
       "      <td>50</td>\n",
       "      <td>79</td>\n",
       "      <td>88</td>\n",
       "      <td>82</td>\n",
       "      <td>62</td>\n",
       "    </tr>\n",
       "    <tr>\n",
       "      <th>Pass</th>\n",
       "      <td>164</td>\n",
       "      <td>135</td>\n",
       "      <td>126</td>\n",
       "      <td>132</td>\n",
       "      <td>152</td>\n",
       "    </tr>\n",
       "  </tbody>\n",
       "</table>\n",
       "</div>"
      ],
      "text/plain": [
       "               Accessibility  Compatibility  Functional  Visual  Performance\n",
       "DeviceId                                                                    \n",
       "Android  Fail            112            184          98     144          229\n",
       "         Pass            645            573         659     613          528\n",
       "IOS      Fail             37             47          56      46           45\n",
       "         Pass            245            235         226     236          237\n",
       "IPad     Fail             32             42          58      42           26\n",
       "         Pass            142            132         116     132          148\n",
       "Tablet   Fail             50             79          88      82           62\n",
       "         Pass            164            135         126     132          152"
      ]
     },
     "execution_count": 77,
     "metadata": {},
     "output_type": "execute_result"
    }
   ],
   "source": [
    "df5=pd.concat([Accessibility, Compatibility,Functional,Visual,Performance], axis=1)\n",
    "df5"
   ]
  },
  {
   "cell_type": "code",
   "execution_count": 110,
   "id": "a199bb1a",
   "metadata": {},
   "outputs": [],
   "source": [
    "df6=df5.unstack(0)"
   ]
  },
  {
   "cell_type": "code",
   "execution_count": 111,
   "id": "60bed4dc",
   "metadata": {},
   "outputs": [
    {
     "data": {
      "text/html": [
       "<div>\n",
       "<style scoped>\n",
       "    .dataframe tbody tr th:only-of-type {\n",
       "        vertical-align: middle;\n",
       "    }\n",
       "\n",
       "    .dataframe tbody tr th {\n",
       "        vertical-align: top;\n",
       "    }\n",
       "\n",
       "    .dataframe thead tr th {\n",
       "        text-align: left;\n",
       "    }\n",
       "</style>\n",
       "<table border=\"1\" class=\"dataframe\">\n",
       "  <thead>\n",
       "    <tr>\n",
       "      <th></th>\n",
       "      <th colspan=\"4\" halign=\"left\">Accessibility</th>\n",
       "      <th colspan=\"4\" halign=\"left\">Compatibility</th>\n",
       "      <th colspan=\"4\" halign=\"left\">Functional</th>\n",
       "      <th colspan=\"4\" halign=\"left\">Visual</th>\n",
       "      <th colspan=\"4\" halign=\"left\">Performance</th>\n",
       "    </tr>\n",
       "    <tr>\n",
       "      <th>DeviceId</th>\n",
       "      <th>Android</th>\n",
       "      <th>IOS</th>\n",
       "      <th>IPad</th>\n",
       "      <th>Tablet</th>\n",
       "      <th>Android</th>\n",
       "      <th>IOS</th>\n",
       "      <th>IPad</th>\n",
       "      <th>Tablet</th>\n",
       "      <th>Android</th>\n",
       "      <th>IOS</th>\n",
       "      <th>IPad</th>\n",
       "      <th>Tablet</th>\n",
       "      <th>Android</th>\n",
       "      <th>IOS</th>\n",
       "      <th>IPad</th>\n",
       "      <th>Tablet</th>\n",
       "      <th>Android</th>\n",
       "      <th>IOS</th>\n",
       "      <th>IPad</th>\n",
       "      <th>Tablet</th>\n",
       "    </tr>\n",
       "  </thead>\n",
       "  <tbody>\n",
       "    <tr>\n",
       "      <th>Fail</th>\n",
       "      <td>112</td>\n",
       "      <td>37</td>\n",
       "      <td>32</td>\n",
       "      <td>50</td>\n",
       "      <td>184</td>\n",
       "      <td>47</td>\n",
       "      <td>42</td>\n",
       "      <td>79</td>\n",
       "      <td>98</td>\n",
       "      <td>56</td>\n",
       "      <td>58</td>\n",
       "      <td>88</td>\n",
       "      <td>144</td>\n",
       "      <td>46</td>\n",
       "      <td>42</td>\n",
       "      <td>82</td>\n",
       "      <td>229</td>\n",
       "      <td>45</td>\n",
       "      <td>26</td>\n",
       "      <td>62</td>\n",
       "    </tr>\n",
       "    <tr>\n",
       "      <th>Pass</th>\n",
       "      <td>645</td>\n",
       "      <td>245</td>\n",
       "      <td>142</td>\n",
       "      <td>164</td>\n",
       "      <td>573</td>\n",
       "      <td>235</td>\n",
       "      <td>132</td>\n",
       "      <td>135</td>\n",
       "      <td>659</td>\n",
       "      <td>226</td>\n",
       "      <td>116</td>\n",
       "      <td>126</td>\n",
       "      <td>613</td>\n",
       "      <td>236</td>\n",
       "      <td>132</td>\n",
       "      <td>132</td>\n",
       "      <td>528</td>\n",
       "      <td>237</td>\n",
       "      <td>148</td>\n",
       "      <td>152</td>\n",
       "    </tr>\n",
       "  </tbody>\n",
       "</table>\n",
       "</div>"
      ],
      "text/plain": [
       "         Accessibility                  Compatibility                   \\\n",
       "DeviceId       Android  IOS IPad Tablet       Android  IOS IPad Tablet   \n",
       "Fail               112   37   32     50           184   47   42     79   \n",
       "Pass               645  245  142    164           573  235  132    135   \n",
       "\n",
       "         Functional                   Visual                  Performance  \\\n",
       "DeviceId    Android  IOS IPad Tablet Android  IOS IPad Tablet     Android   \n",
       "Fail             98   56   58     88     144   46   42     82         229   \n",
       "Pass            659  226  116    126     613  236  132    132         528   \n",
       "\n",
       "                           \n",
       "DeviceId  IOS IPad Tablet  \n",
       "Fail       45   26     62  \n",
       "Pass      237  148    152  "
      ]
     },
     "execution_count": 111,
     "metadata": {},
     "output_type": "execute_result"
    }
   ],
   "source": [
    "df6"
   ]
  },
  {
   "cell_type": "code",
   "execution_count": 80,
   "id": "ff22996a",
   "metadata": {},
   "outputs": [
    {
     "data": {
      "text/html": [
       "<div>\n",
       "<style scoped>\n",
       "    .dataframe tbody tr th:only-of-type {\n",
       "        vertical-align: middle;\n",
       "    }\n",
       "\n",
       "    .dataframe tbody tr th {\n",
       "        vertical-align: top;\n",
       "    }\n",
       "\n",
       "    .dataframe thead th {\n",
       "        text-align: right;\n",
       "    }\n",
       "</style>\n",
       "<table border=\"1\" class=\"dataframe\">\n",
       "  <thead>\n",
       "    <tr style=\"text-align: right;\">\n",
       "      <th></th>\n",
       "      <th>DeviceId</th>\n",
       "      <th>Android</th>\n",
       "      <th>IOS</th>\n",
       "      <th>IPad</th>\n",
       "      <th>Tablet</th>\n",
       "    </tr>\n",
       "  </thead>\n",
       "  <tbody>\n",
       "    <tr>\n",
       "      <th rowspan=\"5\" valign=\"top\">Fail</th>\n",
       "      <th>Accessibility</th>\n",
       "      <td>112</td>\n",
       "      <td>37</td>\n",
       "      <td>32</td>\n",
       "      <td>50</td>\n",
       "    </tr>\n",
       "    <tr>\n",
       "      <th>Compatibility</th>\n",
       "      <td>184</td>\n",
       "      <td>47</td>\n",
       "      <td>42</td>\n",
       "      <td>79</td>\n",
       "    </tr>\n",
       "    <tr>\n",
       "      <th>Functional</th>\n",
       "      <td>98</td>\n",
       "      <td>56</td>\n",
       "      <td>58</td>\n",
       "      <td>88</td>\n",
       "    </tr>\n",
       "    <tr>\n",
       "      <th>Performance</th>\n",
       "      <td>229</td>\n",
       "      <td>45</td>\n",
       "      <td>26</td>\n",
       "      <td>62</td>\n",
       "    </tr>\n",
       "    <tr>\n",
       "      <th>Visual</th>\n",
       "      <td>144</td>\n",
       "      <td>46</td>\n",
       "      <td>42</td>\n",
       "      <td>82</td>\n",
       "    </tr>\n",
       "    <tr>\n",
       "      <th rowspan=\"5\" valign=\"top\">Pass</th>\n",
       "      <th>Accessibility</th>\n",
       "      <td>645</td>\n",
       "      <td>245</td>\n",
       "      <td>142</td>\n",
       "      <td>164</td>\n",
       "    </tr>\n",
       "    <tr>\n",
       "      <th>Compatibility</th>\n",
       "      <td>573</td>\n",
       "      <td>235</td>\n",
       "      <td>132</td>\n",
       "      <td>135</td>\n",
       "    </tr>\n",
       "    <tr>\n",
       "      <th>Functional</th>\n",
       "      <td>659</td>\n",
       "      <td>226</td>\n",
       "      <td>116</td>\n",
       "      <td>126</td>\n",
       "    </tr>\n",
       "    <tr>\n",
       "      <th>Performance</th>\n",
       "      <td>528</td>\n",
       "      <td>237</td>\n",
       "      <td>148</td>\n",
       "      <td>152</td>\n",
       "    </tr>\n",
       "    <tr>\n",
       "      <th>Visual</th>\n",
       "      <td>613</td>\n",
       "      <td>236</td>\n",
       "      <td>132</td>\n",
       "      <td>132</td>\n",
       "    </tr>\n",
       "  </tbody>\n",
       "</table>\n",
       "</div>"
      ],
      "text/plain": [
       "DeviceId            Android  IOS  IPad  Tablet\n",
       "Fail Accessibility      112   37    32      50\n",
       "     Compatibility      184   47    42      79\n",
       "     Functional          98   56    58      88\n",
       "     Performance        229   45    26      62\n",
       "     Visual             144   46    42      82\n",
       "Pass Accessibility      645  245   142     164\n",
       "     Compatibility      573  235   132     135\n",
       "     Functional         659  226   116     126\n",
       "     Performance        528  237   148     152\n",
       "     Visual             613  236   132     132"
      ]
     },
     "execution_count": 80,
     "metadata": {},
     "output_type": "execute_result"
    }
   ],
   "source": [
    "df7=df6.stack(0)\n",
    "df7"
   ]
  },
  {
   "cell_type": "code",
   "execution_count": 81,
   "id": "e05ec9f1",
   "metadata": {},
   "outputs": [
    {
     "data": {
      "text/html": [
       "<div>\n",
       "<style scoped>\n",
       "    .dataframe tbody tr th:only-of-type {\n",
       "        vertical-align: middle;\n",
       "    }\n",
       "\n",
       "    .dataframe tbody tr th {\n",
       "        vertical-align: top;\n",
       "    }\n",
       "\n",
       "    .dataframe thead th {\n",
       "        text-align: right;\n",
       "    }\n",
       "</style>\n",
       "<table border=\"1\" class=\"dataframe\">\n",
       "  <thead>\n",
       "    <tr style=\"text-align: right;\">\n",
       "      <th>DeviceId</th>\n",
       "      <th>level_0</th>\n",
       "      <th>Android</th>\n",
       "      <th>IOS</th>\n",
       "      <th>IPad</th>\n",
       "      <th>Tablet</th>\n",
       "    </tr>\n",
       "  </thead>\n",
       "  <tbody>\n",
       "    <tr>\n",
       "      <th>Accessibility</th>\n",
       "      <td>Fail</td>\n",
       "      <td>112</td>\n",
       "      <td>37</td>\n",
       "      <td>32</td>\n",
       "      <td>50</td>\n",
       "    </tr>\n",
       "    <tr>\n",
       "      <th>Compatibility</th>\n",
       "      <td>Fail</td>\n",
       "      <td>184</td>\n",
       "      <td>47</td>\n",
       "      <td>42</td>\n",
       "      <td>79</td>\n",
       "    </tr>\n",
       "    <tr>\n",
       "      <th>Functional</th>\n",
       "      <td>Fail</td>\n",
       "      <td>98</td>\n",
       "      <td>56</td>\n",
       "      <td>58</td>\n",
       "      <td>88</td>\n",
       "    </tr>\n",
       "    <tr>\n",
       "      <th>Performance</th>\n",
       "      <td>Fail</td>\n",
       "      <td>229</td>\n",
       "      <td>45</td>\n",
       "      <td>26</td>\n",
       "      <td>62</td>\n",
       "    </tr>\n",
       "    <tr>\n",
       "      <th>Visual</th>\n",
       "      <td>Fail</td>\n",
       "      <td>144</td>\n",
       "      <td>46</td>\n",
       "      <td>42</td>\n",
       "      <td>82</td>\n",
       "    </tr>\n",
       "    <tr>\n",
       "      <th>Accessibility</th>\n",
       "      <td>Pass</td>\n",
       "      <td>645</td>\n",
       "      <td>245</td>\n",
       "      <td>142</td>\n",
       "      <td>164</td>\n",
       "    </tr>\n",
       "    <tr>\n",
       "      <th>Compatibility</th>\n",
       "      <td>Pass</td>\n",
       "      <td>573</td>\n",
       "      <td>235</td>\n",
       "      <td>132</td>\n",
       "      <td>135</td>\n",
       "    </tr>\n",
       "    <tr>\n",
       "      <th>Functional</th>\n",
       "      <td>Pass</td>\n",
       "      <td>659</td>\n",
       "      <td>226</td>\n",
       "      <td>116</td>\n",
       "      <td>126</td>\n",
       "    </tr>\n",
       "    <tr>\n",
       "      <th>Performance</th>\n",
       "      <td>Pass</td>\n",
       "      <td>528</td>\n",
       "      <td>237</td>\n",
       "      <td>148</td>\n",
       "      <td>152</td>\n",
       "    </tr>\n",
       "    <tr>\n",
       "      <th>Visual</th>\n",
       "      <td>Pass</td>\n",
       "      <td>613</td>\n",
       "      <td>236</td>\n",
       "      <td>132</td>\n",
       "      <td>132</td>\n",
       "    </tr>\n",
       "  </tbody>\n",
       "</table>\n",
       "</div>"
      ],
      "text/plain": [
       "DeviceId      level_0  Android  IOS  IPad  Tablet\n",
       "Accessibility    Fail      112   37    32      50\n",
       "Compatibility    Fail      184   47    42      79\n",
       "Functional       Fail       98   56    58      88\n",
       "Performance      Fail      229   45    26      62\n",
       "Visual           Fail      144   46    42      82\n",
       "Accessibility    Pass      645  245   142     164\n",
       "Compatibility    Pass      573  235   132     135\n",
       "Functional       Pass      659  226   116     126\n",
       "Performance      Pass      528  237   148     152\n",
       "Visual           Pass      613  236   132     132"
      ]
     },
     "execution_count": 81,
     "metadata": {},
     "output_type": "execute_result"
    }
   ],
   "source": [
    "df7.reset_index(level=0, inplace=True)\n",
    "df7"
   ]
  },
  {
   "cell_type": "code",
   "execution_count": 82,
   "id": "1634815a",
   "metadata": {},
   "outputs": [
    {
     "data": {
      "text/html": [
       "<div>\n",
       "<style scoped>\n",
       "    .dataframe tbody tr th:only-of-type {\n",
       "        vertical-align: middle;\n",
       "    }\n",
       "\n",
       "    .dataframe tbody tr th {\n",
       "        vertical-align: top;\n",
       "    }\n",
       "\n",
       "    .dataframe thead th {\n",
       "        text-align: right;\n",
       "    }\n",
       "</style>\n",
       "<table border=\"1\" class=\"dataframe\">\n",
       "  <thead>\n",
       "    <tr style=\"text-align: right;\">\n",
       "      <th>DeviceId</th>\n",
       "      <th>index</th>\n",
       "      <th>level_0</th>\n",
       "      <th>Android</th>\n",
       "      <th>IOS</th>\n",
       "      <th>IPad</th>\n",
       "      <th>Tablet</th>\n",
       "    </tr>\n",
       "  </thead>\n",
       "  <tbody>\n",
       "    <tr>\n",
       "      <th>0</th>\n",
       "      <td>Accessibility</td>\n",
       "      <td>Fail</td>\n",
       "      <td>112</td>\n",
       "      <td>37</td>\n",
       "      <td>32</td>\n",
       "      <td>50</td>\n",
       "    </tr>\n",
       "    <tr>\n",
       "      <th>1</th>\n",
       "      <td>Compatibility</td>\n",
       "      <td>Fail</td>\n",
       "      <td>184</td>\n",
       "      <td>47</td>\n",
       "      <td>42</td>\n",
       "      <td>79</td>\n",
       "    </tr>\n",
       "    <tr>\n",
       "      <th>2</th>\n",
       "      <td>Functional</td>\n",
       "      <td>Fail</td>\n",
       "      <td>98</td>\n",
       "      <td>56</td>\n",
       "      <td>58</td>\n",
       "      <td>88</td>\n",
       "    </tr>\n",
       "    <tr>\n",
       "      <th>3</th>\n",
       "      <td>Performance</td>\n",
       "      <td>Fail</td>\n",
       "      <td>229</td>\n",
       "      <td>45</td>\n",
       "      <td>26</td>\n",
       "      <td>62</td>\n",
       "    </tr>\n",
       "    <tr>\n",
       "      <th>4</th>\n",
       "      <td>Visual</td>\n",
       "      <td>Fail</td>\n",
       "      <td>144</td>\n",
       "      <td>46</td>\n",
       "      <td>42</td>\n",
       "      <td>82</td>\n",
       "    </tr>\n",
       "    <tr>\n",
       "      <th>5</th>\n",
       "      <td>Accessibility</td>\n",
       "      <td>Pass</td>\n",
       "      <td>645</td>\n",
       "      <td>245</td>\n",
       "      <td>142</td>\n",
       "      <td>164</td>\n",
       "    </tr>\n",
       "    <tr>\n",
       "      <th>6</th>\n",
       "      <td>Compatibility</td>\n",
       "      <td>Pass</td>\n",
       "      <td>573</td>\n",
       "      <td>235</td>\n",
       "      <td>132</td>\n",
       "      <td>135</td>\n",
       "    </tr>\n",
       "    <tr>\n",
       "      <th>7</th>\n",
       "      <td>Functional</td>\n",
       "      <td>Pass</td>\n",
       "      <td>659</td>\n",
       "      <td>226</td>\n",
       "      <td>116</td>\n",
       "      <td>126</td>\n",
       "    </tr>\n",
       "    <tr>\n",
       "      <th>8</th>\n",
       "      <td>Performance</td>\n",
       "      <td>Pass</td>\n",
       "      <td>528</td>\n",
       "      <td>237</td>\n",
       "      <td>148</td>\n",
       "      <td>152</td>\n",
       "    </tr>\n",
       "    <tr>\n",
       "      <th>9</th>\n",
       "      <td>Visual</td>\n",
       "      <td>Pass</td>\n",
       "      <td>613</td>\n",
       "      <td>236</td>\n",
       "      <td>132</td>\n",
       "      <td>132</td>\n",
       "    </tr>\n",
       "  </tbody>\n",
       "</table>\n",
       "</div>"
      ],
      "text/plain": [
       "DeviceId          index level_0  Android  IOS  IPad  Tablet\n",
       "0         Accessibility    Fail      112   37    32      50\n",
       "1         Compatibility    Fail      184   47    42      79\n",
       "2            Functional    Fail       98   56    58      88\n",
       "3           Performance    Fail      229   45    26      62\n",
       "4                Visual    Fail      144   46    42      82\n",
       "5         Accessibility    Pass      645  245   142     164\n",
       "6         Compatibility    Pass      573  235   132     135\n",
       "7            Functional    Pass      659  226   116     126\n",
       "8           Performance    Pass      528  237   148     152\n",
       "9                Visual    Pass      613  236   132     132"
      ]
     },
     "execution_count": 82,
     "metadata": {},
     "output_type": "execute_result"
    }
   ],
   "source": [
    "df7.reset_index(level=0, inplace=True)\n",
    "df7"
   ]
  },
  {
   "cell_type": "code",
   "execution_count": 84,
   "id": "64882dab",
   "metadata": {},
   "outputs": [
    {
     "data": {
      "text/plain": [
       "Index(['Testing', 'Status', 'Android', 'IOS', 'IPad', 'Tablet'], dtype='object', name='DeviceId')"
      ]
     },
     "execution_count": 84,
     "metadata": {},
     "output_type": "execute_result"
    }
   ],
   "source": [
    "df7.rename(columns = {'index':'Testing', 'level_0':'Status'}, inplace = True)\n",
    "df7.columns"
   ]
  },
  {
   "cell_type": "code",
   "execution_count": null,
   "id": "46b46aca",
   "metadata": {},
   "outputs": [],
   "source": [
    "df6=df5.unstack(0)\n",
    "df7=df6.stack(0)\n",
    "df7.reset_index(level=0, inplace=True)\n",
    "df7.reset_index(level=0, inplace=True)\n",
    "df7.rename(columns = {'index':'Testing', 'level_0':'Status'}, inplace = True)\n",
    "df7.fillna(0)"
   ]
  },
  {
   "cell_type": "code",
   "execution_count": 85,
   "id": "3b07a838",
   "metadata": {},
   "outputs": [
    {
     "data": {
      "text/html": [
       "<div>\n",
       "<style scoped>\n",
       "    .dataframe tbody tr th:only-of-type {\n",
       "        vertical-align: middle;\n",
       "    }\n",
       "\n",
       "    .dataframe tbody tr th {\n",
       "        vertical-align: top;\n",
       "    }\n",
       "\n",
       "    .dataframe thead th {\n",
       "        text-align: right;\n",
       "    }\n",
       "</style>\n",
       "<table border=\"1\" class=\"dataframe\">\n",
       "  <thead>\n",
       "    <tr style=\"text-align: right;\">\n",
       "      <th>DeviceId</th>\n",
       "      <th>Testing</th>\n",
       "      <th>Status</th>\n",
       "      <th>Android</th>\n",
       "      <th>IOS</th>\n",
       "      <th>IPad</th>\n",
       "      <th>Tablet</th>\n",
       "    </tr>\n",
       "  </thead>\n",
       "  <tbody>\n",
       "    <tr>\n",
       "      <th>0</th>\n",
       "      <td>Accessibility</td>\n",
       "      <td>Fail</td>\n",
       "      <td>112</td>\n",
       "      <td>37</td>\n",
       "      <td>32</td>\n",
       "      <td>50</td>\n",
       "    </tr>\n",
       "    <tr>\n",
       "      <th>1</th>\n",
       "      <td>Compatibility</td>\n",
       "      <td>Fail</td>\n",
       "      <td>184</td>\n",
       "      <td>47</td>\n",
       "      <td>42</td>\n",
       "      <td>79</td>\n",
       "    </tr>\n",
       "    <tr>\n",
       "      <th>2</th>\n",
       "      <td>Functional</td>\n",
       "      <td>Fail</td>\n",
       "      <td>98</td>\n",
       "      <td>56</td>\n",
       "      <td>58</td>\n",
       "      <td>88</td>\n",
       "    </tr>\n",
       "    <tr>\n",
       "      <th>3</th>\n",
       "      <td>Performance</td>\n",
       "      <td>Fail</td>\n",
       "      <td>229</td>\n",
       "      <td>45</td>\n",
       "      <td>26</td>\n",
       "      <td>62</td>\n",
       "    </tr>\n",
       "    <tr>\n",
       "      <th>4</th>\n",
       "      <td>Visual</td>\n",
       "      <td>Fail</td>\n",
       "      <td>144</td>\n",
       "      <td>46</td>\n",
       "      <td>42</td>\n",
       "      <td>82</td>\n",
       "    </tr>\n",
       "    <tr>\n",
       "      <th>5</th>\n",
       "      <td>Accessibility</td>\n",
       "      <td>Pass</td>\n",
       "      <td>645</td>\n",
       "      <td>245</td>\n",
       "      <td>142</td>\n",
       "      <td>164</td>\n",
       "    </tr>\n",
       "    <tr>\n",
       "      <th>6</th>\n",
       "      <td>Compatibility</td>\n",
       "      <td>Pass</td>\n",
       "      <td>573</td>\n",
       "      <td>235</td>\n",
       "      <td>132</td>\n",
       "      <td>135</td>\n",
       "    </tr>\n",
       "    <tr>\n",
       "      <th>7</th>\n",
       "      <td>Functional</td>\n",
       "      <td>Pass</td>\n",
       "      <td>659</td>\n",
       "      <td>226</td>\n",
       "      <td>116</td>\n",
       "      <td>126</td>\n",
       "    </tr>\n",
       "    <tr>\n",
       "      <th>8</th>\n",
       "      <td>Performance</td>\n",
       "      <td>Pass</td>\n",
       "      <td>528</td>\n",
       "      <td>237</td>\n",
       "      <td>148</td>\n",
       "      <td>152</td>\n",
       "    </tr>\n",
       "    <tr>\n",
       "      <th>9</th>\n",
       "      <td>Visual</td>\n",
       "      <td>Pass</td>\n",
       "      <td>613</td>\n",
       "      <td>236</td>\n",
       "      <td>132</td>\n",
       "      <td>132</td>\n",
       "    </tr>\n",
       "  </tbody>\n",
       "</table>\n",
       "</div>"
      ],
      "text/plain": [
       "DeviceId        Testing Status  Android  IOS  IPad  Tablet\n",
       "0         Accessibility   Fail      112   37    32      50\n",
       "1         Compatibility   Fail      184   47    42      79\n",
       "2            Functional   Fail       98   56    58      88\n",
       "3           Performance   Fail      229   45    26      62\n",
       "4                Visual   Fail      144   46    42      82\n",
       "5         Accessibility   Pass      645  245   142     164\n",
       "6         Compatibility   Pass      573  235   132     135\n",
       "7            Functional   Pass      659  226   116     126\n",
       "8           Performance   Pass      528  237   148     152\n",
       "9                Visual   Pass      613  236   132     132"
      ]
     },
     "execution_count": 85,
     "metadata": {},
     "output_type": "execute_result"
    }
   ],
   "source": [
    "df7"
   ]
  },
  {
   "cell_type": "code",
   "execution_count": 97,
   "id": "8316fe84",
   "metadata": {},
   "outputs": [
    {
     "name": "stderr",
     "output_type": "stream",
     "text": [
      "C:\\Users\\kaviarasu.gm\\AppData\\Local\\Temp\\ipykernel_11252\\2160285067.py:15: SettingWithCopyWarning:\n",
      "\n",
      "\n",
      "A value is trying to be set on a copy of a slice from a DataFrame\n",
      "\n",
      "See the caveats in the documentation: https://pandas.pydata.org/pandas-docs/stable/user_guide/indexing.html#returning-a-view-versus-a-copy\n",
      "\n",
      "C:\\Users\\kaviarasu.gm\\AppData\\Local\\Temp\\ipykernel_11252\\2160285067.py:16: SettingWithCopyWarning:\n",
      "\n",
      "\n",
      "A value is trying to be set on a copy of a slice from a DataFrame\n",
      "\n",
      "See the caveats in the documentation: https://pandas.pydata.org/pandas-docs/stable/user_guide/indexing.html#returning-a-view-versus-a-copy\n",
      "\n",
      "C:\\Users\\kaviarasu.gm\\AppData\\Local\\Temp\\ipykernel_11252\\2160285067.py:17: SettingWithCopyWarning:\n",
      "\n",
      "\n",
      "A value is trying to be set on a copy of a slice from a DataFrame\n",
      "\n",
      "See the caveats in the documentation: https://pandas.pydata.org/pandas-docs/stable/user_guide/indexing.html#returning-a-view-versus-a-copy\n",
      "\n",
      "C:\\Users\\kaviarasu.gm\\AppData\\Local\\Temp\\ipykernel_11252\\2160285067.py:18: SettingWithCopyWarning:\n",
      "\n",
      "\n",
      "A value is trying to be set on a copy of a slice from a DataFrame\n",
      "\n",
      "See the caveats in the documentation: https://pandas.pydata.org/pandas-docs/stable/user_guide/indexing.html#returning-a-view-versus-a-copy\n",
      "\n",
      "C:\\Users\\kaviarasu.gm\\AppData\\Local\\Temp\\ipykernel_11252\\2160285067.py:19: FutureWarning:\n",
      "\n",
      "The frame.append method is deprecated and will be removed from pandas in a future version. Use pandas.concat instead.\n",
      "\n",
      "C:\\Users\\kaviarasu.gm\\AppData\\Local\\Temp\\ipykernel_11252\\2160285067.py:15: SettingWithCopyWarning:\n",
      "\n",
      "\n",
      "A value is trying to be set on a copy of a slice from a DataFrame\n",
      "\n",
      "See the caveats in the documentation: https://pandas.pydata.org/pandas-docs/stable/user_guide/indexing.html#returning-a-view-versus-a-copy\n",
      "\n",
      "C:\\Users\\kaviarasu.gm\\AppData\\Local\\Temp\\ipykernel_11252\\2160285067.py:16: SettingWithCopyWarning:\n",
      "\n",
      "\n",
      "A value is trying to be set on a copy of a slice from a DataFrame\n",
      "\n",
      "See the caveats in the documentation: https://pandas.pydata.org/pandas-docs/stable/user_guide/indexing.html#returning-a-view-versus-a-copy\n",
      "\n",
      "C:\\Users\\kaviarasu.gm\\AppData\\Local\\Temp\\ipykernel_11252\\2160285067.py:17: SettingWithCopyWarning:\n",
      "\n",
      "\n",
      "A value is trying to be set on a copy of a slice from a DataFrame\n",
      "\n",
      "See the caveats in the documentation: https://pandas.pydata.org/pandas-docs/stable/user_guide/indexing.html#returning-a-view-versus-a-copy\n",
      "\n",
      "C:\\Users\\kaviarasu.gm\\AppData\\Local\\Temp\\ipykernel_11252\\2160285067.py:18: SettingWithCopyWarning:\n",
      "\n",
      "\n",
      "A value is trying to be set on a copy of a slice from a DataFrame\n",
      "\n",
      "See the caveats in the documentation: https://pandas.pydata.org/pandas-docs/stable/user_guide/indexing.html#returning-a-view-versus-a-copy\n",
      "\n",
      "C:\\Users\\kaviarasu.gm\\AppData\\Local\\Temp\\ipykernel_11252\\2160285067.py:19: FutureWarning:\n",
      "\n",
      "The frame.append method is deprecated and will be removed from pandas in a future version. Use pandas.concat instead.\n",
      "\n",
      "C:\\Users\\kaviarasu.gm\\AppData\\Local\\Temp\\ipykernel_11252\\2160285067.py:15: SettingWithCopyWarning:\n",
      "\n",
      "\n",
      "A value is trying to be set on a copy of a slice from a DataFrame\n",
      "\n",
      "See the caveats in the documentation: https://pandas.pydata.org/pandas-docs/stable/user_guide/indexing.html#returning-a-view-versus-a-copy\n",
      "\n",
      "C:\\Users\\kaviarasu.gm\\AppData\\Local\\Temp\\ipykernel_11252\\2160285067.py:16: SettingWithCopyWarning:\n",
      "\n",
      "\n",
      "A value is trying to be set on a copy of a slice from a DataFrame\n",
      "\n",
      "See the caveats in the documentation: https://pandas.pydata.org/pandas-docs/stable/user_guide/indexing.html#returning-a-view-versus-a-copy\n",
      "\n",
      "C:\\Users\\kaviarasu.gm\\AppData\\Local\\Temp\\ipykernel_11252\\2160285067.py:17: SettingWithCopyWarning:\n",
      "\n",
      "\n",
      "A value is trying to be set on a copy of a slice from a DataFrame\n",
      "\n",
      "See the caveats in the documentation: https://pandas.pydata.org/pandas-docs/stable/user_guide/indexing.html#returning-a-view-versus-a-copy\n",
      "\n",
      "C:\\Users\\kaviarasu.gm\\AppData\\Local\\Temp\\ipykernel_11252\\2160285067.py:18: SettingWithCopyWarning:\n",
      "\n",
      "\n",
      "A value is trying to be set on a copy of a slice from a DataFrame\n",
      "\n",
      "See the caveats in the documentation: https://pandas.pydata.org/pandas-docs/stable/user_guide/indexing.html#returning-a-view-versus-a-copy\n",
      "\n",
      "C:\\Users\\kaviarasu.gm\\AppData\\Local\\Temp\\ipykernel_11252\\2160285067.py:19: FutureWarning:\n",
      "\n",
      "The frame.append method is deprecated and will be removed from pandas in a future version. Use pandas.concat instead.\n",
      "\n",
      "C:\\Users\\kaviarasu.gm\\AppData\\Local\\Temp\\ipykernel_11252\\2160285067.py:15: SettingWithCopyWarning:\n",
      "\n",
      "\n",
      "A value is trying to be set on a copy of a slice from a DataFrame\n",
      "\n",
      "See the caveats in the documentation: https://pandas.pydata.org/pandas-docs/stable/user_guide/indexing.html#returning-a-view-versus-a-copy\n",
      "\n",
      "C:\\Users\\kaviarasu.gm\\AppData\\Local\\Temp\\ipykernel_11252\\2160285067.py:16: SettingWithCopyWarning:\n",
      "\n",
      "\n",
      "A value is trying to be set on a copy of a slice from a DataFrame\n",
      "\n",
      "See the caveats in the documentation: https://pandas.pydata.org/pandas-docs/stable/user_guide/indexing.html#returning-a-view-versus-a-copy\n",
      "\n",
      "C:\\Users\\kaviarasu.gm\\AppData\\Local\\Temp\\ipykernel_11252\\2160285067.py:17: SettingWithCopyWarning:\n",
      "\n",
      "\n",
      "A value is trying to be set on a copy of a slice from a DataFrame\n",
      "\n",
      "See the caveats in the documentation: https://pandas.pydata.org/pandas-docs/stable/user_guide/indexing.html#returning-a-view-versus-a-copy\n",
      "\n",
      "C:\\Users\\kaviarasu.gm\\AppData\\Local\\Temp\\ipykernel_11252\\2160285067.py:18: SettingWithCopyWarning:\n",
      "\n",
      "\n",
      "A value is trying to be set on a copy of a slice from a DataFrame\n",
      "\n",
      "See the caveats in the documentation: https://pandas.pydata.org/pandas-docs/stable/user_guide/indexing.html#returning-a-view-versus-a-copy\n",
      "\n",
      "C:\\Users\\kaviarasu.gm\\AppData\\Local\\Temp\\ipykernel_11252\\2160285067.py:19: FutureWarning:\n",
      "\n",
      "The frame.append method is deprecated and will be removed from pandas in a future version. Use pandas.concat instead.\n",
      "\n",
      "C:\\Users\\kaviarasu.gm\\AppData\\Local\\Temp\\ipykernel_11252\\2160285067.py:15: SettingWithCopyWarning:\n",
      "\n",
      "\n",
      "A value is trying to be set on a copy of a slice from a DataFrame\n",
      "\n",
      "See the caveats in the documentation: https://pandas.pydata.org/pandas-docs/stable/user_guide/indexing.html#returning-a-view-versus-a-copy\n",
      "\n",
      "C:\\Users\\kaviarasu.gm\\AppData\\Local\\Temp\\ipykernel_11252\\2160285067.py:16: SettingWithCopyWarning:\n",
      "\n",
      "\n",
      "A value is trying to be set on a copy of a slice from a DataFrame\n",
      "\n",
      "See the caveats in the documentation: https://pandas.pydata.org/pandas-docs/stable/user_guide/indexing.html#returning-a-view-versus-a-copy\n",
      "\n",
      "C:\\Users\\kaviarasu.gm\\AppData\\Local\\Temp\\ipykernel_11252\\2160285067.py:17: SettingWithCopyWarning:\n",
      "\n",
      "\n",
      "A value is trying to be set on a copy of a slice from a DataFrame\n",
      "\n",
      "See the caveats in the documentation: https://pandas.pydata.org/pandas-docs/stable/user_guide/indexing.html#returning-a-view-versus-a-copy\n",
      "\n",
      "C:\\Users\\kaviarasu.gm\\AppData\\Local\\Temp\\ipykernel_11252\\2160285067.py:18: SettingWithCopyWarning:\n",
      "\n",
      "\n",
      "A value is trying to be set on a copy of a slice from a DataFrame\n",
      "\n",
      "See the caveats in the documentation: https://pandas.pydata.org/pandas-docs/stable/user_guide/indexing.html#returning-a-view-versus-a-copy\n",
      "\n",
      "C:\\Users\\kaviarasu.gm\\AppData\\Local\\Temp\\ipykernel_11252\\2160285067.py:19: FutureWarning:\n",
      "\n",
      "The frame.append method is deprecated and will be removed from pandas in a future version. Use pandas.concat instead.\n",
      "\n"
     ]
    }
   ],
   "source": [
    "df7['An_per']=None\n",
    "df7['ios_per']=None\n",
    "df7['iPad_per']=None\n",
    "df7['Tab_per']=None\n",
    "\n",
    "df_per=pd.DataFrame()\n",
    "\n",
    "for i in df7['Testing'].unique():\n",
    "    d=df7[df7['Testing']==i]\n",
    "    length = len(d)\n",
    "    d.reset_index(inplace=True)\n",
    "    for j in range(length):\n",
    "#         print(j)\n",
    "        if i==i:\n",
    "            d['An_per'][j]=d['Android'][j]/d['Android'].sum()*100\n",
    "            d['ios_per'][j]=d['IOS'][j]/d['IOS'].sum()*100\n",
    "            d['iPad_per'][j]=d['IPad'][j]/d['IPad'].sum()*100\n",
    "            d['Tab_per'][j]=d['Tablet'][j]/d['Tablet'].sum()*100\n",
    "    df_per=df_per.append(d)\n",
    "\n",
    "    df_per"
   ]
  },
  {
   "cell_type": "code",
   "execution_count": 102,
   "id": "c1eff506",
   "metadata": {},
   "outputs": [
    {
     "data": {
      "text/html": [
       "<div>\n",
       "<style scoped>\n",
       "    .dataframe tbody tr th:only-of-type {\n",
       "        vertical-align: middle;\n",
       "    }\n",
       "\n",
       "    .dataframe tbody tr th {\n",
       "        vertical-align: top;\n",
       "    }\n",
       "\n",
       "    .dataframe thead th {\n",
       "        text-align: right;\n",
       "    }\n",
       "</style>\n",
       "<table border=\"1\" class=\"dataframe\">\n",
       "  <thead>\n",
       "    <tr style=\"text-align: right;\">\n",
       "      <th>DeviceId</th>\n",
       "      <th>index</th>\n",
       "      <th>Testing</th>\n",
       "      <th>Status</th>\n",
       "      <th>Android</th>\n",
       "      <th>IOS</th>\n",
       "      <th>IPad</th>\n",
       "      <th>Tablet</th>\n",
       "      <th>An_per</th>\n",
       "      <th>ios_per</th>\n",
       "      <th>iPad_per</th>\n",
       "      <th>Tab_per</th>\n",
       "    </tr>\n",
       "  </thead>\n",
       "  <tbody>\n",
       "    <tr>\n",
       "      <th>0</th>\n",
       "      <td>0</td>\n",
       "      <td>Accessibility</td>\n",
       "      <td>Fail</td>\n",
       "      <td>112</td>\n",
       "      <td>37</td>\n",
       "      <td>32</td>\n",
       "      <td>50</td>\n",
       "      <td>14.795244</td>\n",
       "      <td>13.120567</td>\n",
       "      <td>18.390805</td>\n",
       "      <td>23.364486</td>\n",
       "    </tr>\n",
       "    <tr>\n",
       "      <th>1</th>\n",
       "      <td>5</td>\n",
       "      <td>Accessibility</td>\n",
       "      <td>Pass</td>\n",
       "      <td>645</td>\n",
       "      <td>245</td>\n",
       "      <td>142</td>\n",
       "      <td>164</td>\n",
       "      <td>85.204756</td>\n",
       "      <td>86.879433</td>\n",
       "      <td>81.609195</td>\n",
       "      <td>76.635514</td>\n",
       "    </tr>\n",
       "    <tr>\n",
       "      <th>0</th>\n",
       "      <td>1</td>\n",
       "      <td>Compatibility</td>\n",
       "      <td>Fail</td>\n",
       "      <td>184</td>\n",
       "      <td>47</td>\n",
       "      <td>42</td>\n",
       "      <td>79</td>\n",
       "      <td>24.306473</td>\n",
       "      <td>16.666667</td>\n",
       "      <td>24.137931</td>\n",
       "      <td>36.915888</td>\n",
       "    </tr>\n",
       "    <tr>\n",
       "      <th>1</th>\n",
       "      <td>6</td>\n",
       "      <td>Compatibility</td>\n",
       "      <td>Pass</td>\n",
       "      <td>573</td>\n",
       "      <td>235</td>\n",
       "      <td>132</td>\n",
       "      <td>135</td>\n",
       "      <td>75.693527</td>\n",
       "      <td>83.333333</td>\n",
       "      <td>75.862069</td>\n",
       "      <td>63.084112</td>\n",
       "    </tr>\n",
       "    <tr>\n",
       "      <th>0</th>\n",
       "      <td>2</td>\n",
       "      <td>Functional</td>\n",
       "      <td>Fail</td>\n",
       "      <td>98</td>\n",
       "      <td>56</td>\n",
       "      <td>58</td>\n",
       "      <td>88</td>\n",
       "      <td>12.945839</td>\n",
       "      <td>19.858156</td>\n",
       "      <td>33.333333</td>\n",
       "      <td>41.121495</td>\n",
       "    </tr>\n",
       "    <tr>\n",
       "      <th>1</th>\n",
       "      <td>7</td>\n",
       "      <td>Functional</td>\n",
       "      <td>Pass</td>\n",
       "      <td>659</td>\n",
       "      <td>226</td>\n",
       "      <td>116</td>\n",
       "      <td>126</td>\n",
       "      <td>87.054161</td>\n",
       "      <td>80.141844</td>\n",
       "      <td>66.666667</td>\n",
       "      <td>58.878505</td>\n",
       "    </tr>\n",
       "    <tr>\n",
       "      <th>0</th>\n",
       "      <td>3</td>\n",
       "      <td>Performance</td>\n",
       "      <td>Fail</td>\n",
       "      <td>229</td>\n",
       "      <td>45</td>\n",
       "      <td>26</td>\n",
       "      <td>62</td>\n",
       "      <td>30.250991</td>\n",
       "      <td>15.957447</td>\n",
       "      <td>14.942529</td>\n",
       "      <td>28.971963</td>\n",
       "    </tr>\n",
       "    <tr>\n",
       "      <th>1</th>\n",
       "      <td>8</td>\n",
       "      <td>Performance</td>\n",
       "      <td>Pass</td>\n",
       "      <td>528</td>\n",
       "      <td>237</td>\n",
       "      <td>148</td>\n",
       "      <td>152</td>\n",
       "      <td>69.749009</td>\n",
       "      <td>84.042553</td>\n",
       "      <td>85.057471</td>\n",
       "      <td>71.028037</td>\n",
       "    </tr>\n",
       "    <tr>\n",
       "      <th>0</th>\n",
       "      <td>4</td>\n",
       "      <td>Visual</td>\n",
       "      <td>Fail</td>\n",
       "      <td>144</td>\n",
       "      <td>46</td>\n",
       "      <td>42</td>\n",
       "      <td>82</td>\n",
       "      <td>19.022457</td>\n",
       "      <td>16.312057</td>\n",
       "      <td>24.137931</td>\n",
       "      <td>38.317757</td>\n",
       "    </tr>\n",
       "    <tr>\n",
       "      <th>1</th>\n",
       "      <td>9</td>\n",
       "      <td>Visual</td>\n",
       "      <td>Pass</td>\n",
       "      <td>613</td>\n",
       "      <td>236</td>\n",
       "      <td>132</td>\n",
       "      <td>132</td>\n",
       "      <td>80.977543</td>\n",
       "      <td>83.687943</td>\n",
       "      <td>75.862069</td>\n",
       "      <td>61.682243</td>\n",
       "    </tr>\n",
       "  </tbody>\n",
       "</table>\n",
       "</div>"
      ],
      "text/plain": [
       "DeviceId  index        Testing Status  Android  IOS  IPad  Tablet     An_per  \\\n",
       "0             0  Accessibility   Fail      112   37    32      50  14.795244   \n",
       "1             5  Accessibility   Pass      645  245   142     164  85.204756   \n",
       "0             1  Compatibility   Fail      184   47    42      79  24.306473   \n",
       "1             6  Compatibility   Pass      573  235   132     135  75.693527   \n",
       "0             2     Functional   Fail       98   56    58      88  12.945839   \n",
       "1             7     Functional   Pass      659  226   116     126  87.054161   \n",
       "0             3    Performance   Fail      229   45    26      62  30.250991   \n",
       "1             8    Performance   Pass      528  237   148     152  69.749009   \n",
       "0             4         Visual   Fail      144   46    42      82  19.022457   \n",
       "1             9         Visual   Pass      613  236   132     132  80.977543   \n",
       "\n",
       "DeviceId    ios_per   iPad_per    Tab_per  \n",
       "0         13.120567  18.390805  23.364486  \n",
       "1         86.879433  81.609195  76.635514  \n",
       "0         16.666667  24.137931  36.915888  \n",
       "1         83.333333  75.862069  63.084112  \n",
       "0         19.858156  33.333333  41.121495  \n",
       "1         80.141844  66.666667  58.878505  \n",
       "0         15.957447  14.942529  28.971963  \n",
       "1         84.042553  85.057471  71.028037  \n",
       "0         16.312057  24.137931  38.317757  \n",
       "1         83.687943  75.862069  61.682243  "
      ]
     },
     "execution_count": 102,
     "metadata": {},
     "output_type": "execute_result"
    }
   ],
   "source": [
    "df_per"
   ]
  },
  {
   "cell_type": "code",
   "execution_count": 103,
   "id": "e225ad43",
   "metadata": {},
   "outputs": [
    {
     "data": {
      "text/html": [
       "<div>\n",
       "<style scoped>\n",
       "    .dataframe tbody tr th:only-of-type {\n",
       "        vertical-align: middle;\n",
       "    }\n",
       "\n",
       "    .dataframe tbody tr th {\n",
       "        vertical-align: top;\n",
       "    }\n",
       "\n",
       "    .dataframe thead th {\n",
       "        text-align: right;\n",
       "    }\n",
       "</style>\n",
       "<table border=\"1\" class=\"dataframe\">\n",
       "  <thead>\n",
       "    <tr style=\"text-align: right;\">\n",
       "      <th></th>\n",
       "      <th>Testing</th>\n",
       "      <th>Status</th>\n",
       "      <th>DeviceId</th>\n",
       "      <th>value</th>\n",
       "    </tr>\n",
       "  </thead>\n",
       "  <tbody>\n",
       "    <tr>\n",
       "      <th>0</th>\n",
       "      <td>Accessibility</td>\n",
       "      <td>Fail</td>\n",
       "      <td>An_per</td>\n",
       "      <td>14.795244</td>\n",
       "    </tr>\n",
       "    <tr>\n",
       "      <th>1</th>\n",
       "      <td>Accessibility</td>\n",
       "      <td>Pass</td>\n",
       "      <td>An_per</td>\n",
       "      <td>85.204756</td>\n",
       "    </tr>\n",
       "    <tr>\n",
       "      <th>2</th>\n",
       "      <td>Compatibility</td>\n",
       "      <td>Fail</td>\n",
       "      <td>An_per</td>\n",
       "      <td>24.306473</td>\n",
       "    </tr>\n",
       "    <tr>\n",
       "      <th>3</th>\n",
       "      <td>Compatibility</td>\n",
       "      <td>Pass</td>\n",
       "      <td>An_per</td>\n",
       "      <td>75.693527</td>\n",
       "    </tr>\n",
       "    <tr>\n",
       "      <th>4</th>\n",
       "      <td>Functional</td>\n",
       "      <td>Fail</td>\n",
       "      <td>An_per</td>\n",
       "      <td>12.945839</td>\n",
       "    </tr>\n",
       "    <tr>\n",
       "      <th>5</th>\n",
       "      <td>Functional</td>\n",
       "      <td>Pass</td>\n",
       "      <td>An_per</td>\n",
       "      <td>87.054161</td>\n",
       "    </tr>\n",
       "    <tr>\n",
       "      <th>6</th>\n",
       "      <td>Performance</td>\n",
       "      <td>Fail</td>\n",
       "      <td>An_per</td>\n",
       "      <td>30.250991</td>\n",
       "    </tr>\n",
       "    <tr>\n",
       "      <th>7</th>\n",
       "      <td>Performance</td>\n",
       "      <td>Pass</td>\n",
       "      <td>An_per</td>\n",
       "      <td>69.749009</td>\n",
       "    </tr>\n",
       "    <tr>\n",
       "      <th>8</th>\n",
       "      <td>Visual</td>\n",
       "      <td>Fail</td>\n",
       "      <td>An_per</td>\n",
       "      <td>19.022457</td>\n",
       "    </tr>\n",
       "    <tr>\n",
       "      <th>9</th>\n",
       "      <td>Visual</td>\n",
       "      <td>Pass</td>\n",
       "      <td>An_per</td>\n",
       "      <td>80.977543</td>\n",
       "    </tr>\n",
       "    <tr>\n",
       "      <th>10</th>\n",
       "      <td>Accessibility</td>\n",
       "      <td>Fail</td>\n",
       "      <td>ios_per</td>\n",
       "      <td>13.120567</td>\n",
       "    </tr>\n",
       "    <tr>\n",
       "      <th>11</th>\n",
       "      <td>Accessibility</td>\n",
       "      <td>Pass</td>\n",
       "      <td>ios_per</td>\n",
       "      <td>86.879433</td>\n",
       "    </tr>\n",
       "    <tr>\n",
       "      <th>12</th>\n",
       "      <td>Compatibility</td>\n",
       "      <td>Fail</td>\n",
       "      <td>ios_per</td>\n",
       "      <td>16.666667</td>\n",
       "    </tr>\n",
       "    <tr>\n",
       "      <th>13</th>\n",
       "      <td>Compatibility</td>\n",
       "      <td>Pass</td>\n",
       "      <td>ios_per</td>\n",
       "      <td>83.333333</td>\n",
       "    </tr>\n",
       "    <tr>\n",
       "      <th>14</th>\n",
       "      <td>Functional</td>\n",
       "      <td>Fail</td>\n",
       "      <td>ios_per</td>\n",
       "      <td>19.858156</td>\n",
       "    </tr>\n",
       "    <tr>\n",
       "      <th>15</th>\n",
       "      <td>Functional</td>\n",
       "      <td>Pass</td>\n",
       "      <td>ios_per</td>\n",
       "      <td>80.141844</td>\n",
       "    </tr>\n",
       "    <tr>\n",
       "      <th>16</th>\n",
       "      <td>Performance</td>\n",
       "      <td>Fail</td>\n",
       "      <td>ios_per</td>\n",
       "      <td>15.957447</td>\n",
       "    </tr>\n",
       "    <tr>\n",
       "      <th>17</th>\n",
       "      <td>Performance</td>\n",
       "      <td>Pass</td>\n",
       "      <td>ios_per</td>\n",
       "      <td>84.042553</td>\n",
       "    </tr>\n",
       "    <tr>\n",
       "      <th>18</th>\n",
       "      <td>Visual</td>\n",
       "      <td>Fail</td>\n",
       "      <td>ios_per</td>\n",
       "      <td>16.312057</td>\n",
       "    </tr>\n",
       "    <tr>\n",
       "      <th>19</th>\n",
       "      <td>Visual</td>\n",
       "      <td>Pass</td>\n",
       "      <td>ios_per</td>\n",
       "      <td>83.687943</td>\n",
       "    </tr>\n",
       "    <tr>\n",
       "      <th>20</th>\n",
       "      <td>Accessibility</td>\n",
       "      <td>Fail</td>\n",
       "      <td>iPad_per</td>\n",
       "      <td>18.390805</td>\n",
       "    </tr>\n",
       "    <tr>\n",
       "      <th>21</th>\n",
       "      <td>Accessibility</td>\n",
       "      <td>Pass</td>\n",
       "      <td>iPad_per</td>\n",
       "      <td>81.609195</td>\n",
       "    </tr>\n",
       "    <tr>\n",
       "      <th>22</th>\n",
       "      <td>Compatibility</td>\n",
       "      <td>Fail</td>\n",
       "      <td>iPad_per</td>\n",
       "      <td>24.137931</td>\n",
       "    </tr>\n",
       "    <tr>\n",
       "      <th>23</th>\n",
       "      <td>Compatibility</td>\n",
       "      <td>Pass</td>\n",
       "      <td>iPad_per</td>\n",
       "      <td>75.862069</td>\n",
       "    </tr>\n",
       "    <tr>\n",
       "      <th>24</th>\n",
       "      <td>Functional</td>\n",
       "      <td>Fail</td>\n",
       "      <td>iPad_per</td>\n",
       "      <td>33.333333</td>\n",
       "    </tr>\n",
       "    <tr>\n",
       "      <th>25</th>\n",
       "      <td>Functional</td>\n",
       "      <td>Pass</td>\n",
       "      <td>iPad_per</td>\n",
       "      <td>66.666667</td>\n",
       "    </tr>\n",
       "    <tr>\n",
       "      <th>26</th>\n",
       "      <td>Performance</td>\n",
       "      <td>Fail</td>\n",
       "      <td>iPad_per</td>\n",
       "      <td>14.942529</td>\n",
       "    </tr>\n",
       "    <tr>\n",
       "      <th>27</th>\n",
       "      <td>Performance</td>\n",
       "      <td>Pass</td>\n",
       "      <td>iPad_per</td>\n",
       "      <td>85.057471</td>\n",
       "    </tr>\n",
       "    <tr>\n",
       "      <th>28</th>\n",
       "      <td>Visual</td>\n",
       "      <td>Fail</td>\n",
       "      <td>iPad_per</td>\n",
       "      <td>24.137931</td>\n",
       "    </tr>\n",
       "    <tr>\n",
       "      <th>29</th>\n",
       "      <td>Visual</td>\n",
       "      <td>Pass</td>\n",
       "      <td>iPad_per</td>\n",
       "      <td>75.862069</td>\n",
       "    </tr>\n",
       "    <tr>\n",
       "      <th>30</th>\n",
       "      <td>Accessibility</td>\n",
       "      <td>Fail</td>\n",
       "      <td>Tab_per</td>\n",
       "      <td>23.364486</td>\n",
       "    </tr>\n",
       "    <tr>\n",
       "      <th>31</th>\n",
       "      <td>Accessibility</td>\n",
       "      <td>Pass</td>\n",
       "      <td>Tab_per</td>\n",
       "      <td>76.635514</td>\n",
       "    </tr>\n",
       "    <tr>\n",
       "      <th>32</th>\n",
       "      <td>Compatibility</td>\n",
       "      <td>Fail</td>\n",
       "      <td>Tab_per</td>\n",
       "      <td>36.915888</td>\n",
       "    </tr>\n",
       "    <tr>\n",
       "      <th>33</th>\n",
       "      <td>Compatibility</td>\n",
       "      <td>Pass</td>\n",
       "      <td>Tab_per</td>\n",
       "      <td>63.084112</td>\n",
       "    </tr>\n",
       "    <tr>\n",
       "      <th>34</th>\n",
       "      <td>Functional</td>\n",
       "      <td>Fail</td>\n",
       "      <td>Tab_per</td>\n",
       "      <td>41.121495</td>\n",
       "    </tr>\n",
       "    <tr>\n",
       "      <th>35</th>\n",
       "      <td>Functional</td>\n",
       "      <td>Pass</td>\n",
       "      <td>Tab_per</td>\n",
       "      <td>58.878505</td>\n",
       "    </tr>\n",
       "    <tr>\n",
       "      <th>36</th>\n",
       "      <td>Performance</td>\n",
       "      <td>Fail</td>\n",
       "      <td>Tab_per</td>\n",
       "      <td>28.971963</td>\n",
       "    </tr>\n",
       "    <tr>\n",
       "      <th>37</th>\n",
       "      <td>Performance</td>\n",
       "      <td>Pass</td>\n",
       "      <td>Tab_per</td>\n",
       "      <td>71.028037</td>\n",
       "    </tr>\n",
       "    <tr>\n",
       "      <th>38</th>\n",
       "      <td>Visual</td>\n",
       "      <td>Fail</td>\n",
       "      <td>Tab_per</td>\n",
       "      <td>38.317757</td>\n",
       "    </tr>\n",
       "    <tr>\n",
       "      <th>39</th>\n",
       "      <td>Visual</td>\n",
       "      <td>Pass</td>\n",
       "      <td>Tab_per</td>\n",
       "      <td>61.682243</td>\n",
       "    </tr>\n",
       "  </tbody>\n",
       "</table>\n",
       "</div>"
      ],
      "text/plain": [
       "          Testing Status  DeviceId      value\n",
       "0   Accessibility   Fail    An_per  14.795244\n",
       "1   Accessibility   Pass    An_per  85.204756\n",
       "2   Compatibility   Fail    An_per  24.306473\n",
       "3   Compatibility   Pass    An_per  75.693527\n",
       "4      Functional   Fail    An_per  12.945839\n",
       "5      Functional   Pass    An_per  87.054161\n",
       "6     Performance   Fail    An_per  30.250991\n",
       "7     Performance   Pass    An_per  69.749009\n",
       "8          Visual   Fail    An_per  19.022457\n",
       "9          Visual   Pass    An_per  80.977543\n",
       "10  Accessibility   Fail   ios_per  13.120567\n",
       "11  Accessibility   Pass   ios_per  86.879433\n",
       "12  Compatibility   Fail   ios_per  16.666667\n",
       "13  Compatibility   Pass   ios_per  83.333333\n",
       "14     Functional   Fail   ios_per  19.858156\n",
       "15     Functional   Pass   ios_per  80.141844\n",
       "16    Performance   Fail   ios_per  15.957447\n",
       "17    Performance   Pass   ios_per  84.042553\n",
       "18         Visual   Fail   ios_per  16.312057\n",
       "19         Visual   Pass   ios_per  83.687943\n",
       "20  Accessibility   Fail  iPad_per  18.390805\n",
       "21  Accessibility   Pass  iPad_per  81.609195\n",
       "22  Compatibility   Fail  iPad_per  24.137931\n",
       "23  Compatibility   Pass  iPad_per  75.862069\n",
       "24     Functional   Fail  iPad_per  33.333333\n",
       "25     Functional   Pass  iPad_per  66.666667\n",
       "26    Performance   Fail  iPad_per  14.942529\n",
       "27    Performance   Pass  iPad_per  85.057471\n",
       "28         Visual   Fail  iPad_per  24.137931\n",
       "29         Visual   Pass  iPad_per  75.862069\n",
       "30  Accessibility   Fail   Tab_per  23.364486\n",
       "31  Accessibility   Pass   Tab_per  76.635514\n",
       "32  Compatibility   Fail   Tab_per  36.915888\n",
       "33  Compatibility   Pass   Tab_per  63.084112\n",
       "34     Functional   Fail   Tab_per  41.121495\n",
       "35     Functional   Pass   Tab_per  58.878505\n",
       "36    Performance   Fail   Tab_per  28.971963\n",
       "37    Performance   Pass   Tab_per  71.028037\n",
       "38         Visual   Fail   Tab_per  38.317757\n",
       "39         Visual   Pass   Tab_per  61.682243"
      ]
     },
     "execution_count": 103,
     "metadata": {},
     "output_type": "execute_result"
    }
   ],
   "source": [
    "df7=df_per.melt(id_vars=['Testing','Status'], value_vars=['An_per','ios_per','iPad_per','Tab_per'])\n",
    "df7"
   ]
  },
  {
   "cell_type": "code",
   "execution_count": 100,
   "id": "aef3778b",
   "metadata": {},
   "outputs": [
    {
     "name": "stderr",
     "output_type": "stream",
     "text": [
      "C:\\Users\\kaviarasu.gm\\.conda\\envs\\kavi\\lib\\site-packages\\plotly\\express\\_core.py:1637: FutureWarning:\n",
      "\n",
      "The frame.append method is deprecated and will be removed from pandas in a future version. Use pandas.concat instead.\n",
      "\n",
      "C:\\Users\\kaviarasu.gm\\.conda\\envs\\kavi\\lib\\site-packages\\plotly\\express\\_core.py:1637: FutureWarning:\n",
      "\n",
      "The frame.append method is deprecated and will be removed from pandas in a future version. Use pandas.concat instead.\n",
      "\n",
      "C:\\Users\\kaviarasu.gm\\.conda\\envs\\kavi\\lib\\site-packages\\plotly\\express\\_core.py:1637: FutureWarning:\n",
      "\n",
      "The frame.append method is deprecated and will be removed from pandas in a future version. Use pandas.concat instead.\n",
      "\n"
     ]
    },
    {
     "data": {
      "application/vnd.plotly.v1+json": {
       "config": {
        "plotlyServerURL": "https://plot.ly"
       },
       "data": [
        {
         "branchvalues": "total",
         "domain": {
          "x": [
           0,
           1
          ],
          "y": [
           0,
           1
          ]
         },
         "hovertemplate": "labels=%{label}<br>value=%{value}<br>parent=%{parent}<br>id=%{id}<extra></extra>",
         "ids": [
          "Fail/An_per/Accessibility",
          "Pass/An_per/Accessibility",
          "Fail/Tab_per/Accessibility",
          "Pass/Tab_per/Accessibility",
          "Fail/iPad_per/Accessibility",
          "Pass/iPad_per/Accessibility",
          "Fail/ios_per/Accessibility",
          "Pass/ios_per/Accessibility",
          "Fail/An_per/Compatibility",
          "Pass/An_per/Compatibility",
          "Fail/Tab_per/Compatibility",
          "Pass/Tab_per/Compatibility",
          "Fail/iPad_per/Compatibility",
          "Pass/iPad_per/Compatibility",
          "Fail/ios_per/Compatibility",
          "Pass/ios_per/Compatibility",
          "Fail/An_per/Functional",
          "Pass/An_per/Functional",
          "Fail/Tab_per/Functional",
          "Pass/Tab_per/Functional",
          "Fail/iPad_per/Functional",
          "Pass/iPad_per/Functional",
          "Fail/ios_per/Functional",
          "Pass/ios_per/Functional",
          "Fail/An_per/Performance",
          "Pass/An_per/Performance",
          "Fail/Tab_per/Performance",
          "Pass/Tab_per/Performance",
          "Fail/iPad_per/Performance",
          "Pass/iPad_per/Performance",
          "Fail/ios_per/Performance",
          "Pass/ios_per/Performance",
          "Fail/An_per/Visual",
          "Pass/An_per/Visual",
          "Fail/Tab_per/Visual",
          "Pass/Tab_per/Visual",
          "Fail/iPad_per/Visual",
          "Pass/iPad_per/Visual",
          "Fail/ios_per/Visual",
          "Pass/ios_per/Visual",
          "Fail/An_per",
          "Pass/An_per",
          "Fail/Tab_per",
          "Pass/Tab_per",
          "Fail/iPad_per",
          "Pass/iPad_per",
          "Fail/ios_per",
          "Pass/ios_per",
          "Fail",
          "Pass"
         ],
         "labels": [
          "Accessibility",
          "Accessibility",
          "Accessibility",
          "Accessibility",
          "Accessibility",
          "Accessibility",
          "Accessibility",
          "Accessibility",
          "Compatibility",
          "Compatibility",
          "Compatibility",
          "Compatibility",
          "Compatibility",
          "Compatibility",
          "Compatibility",
          "Compatibility",
          "Functional",
          "Functional",
          "Functional",
          "Functional",
          "Functional",
          "Functional",
          "Functional",
          "Functional",
          "Performance",
          "Performance",
          "Performance",
          "Performance",
          "Performance",
          "Performance",
          "Performance",
          "Performance",
          "Visual",
          "Visual",
          "Visual",
          "Visual",
          "Visual",
          "Visual",
          "Visual",
          "Visual",
          "An_per",
          "An_per",
          "Tab_per",
          "Tab_per",
          "iPad_per",
          "iPad_per",
          "ios_per",
          "ios_per",
          "Fail",
          "Pass"
         ],
         "name": "",
         "parents": [
          "Fail/An_per",
          "Pass/An_per",
          "Fail/Tab_per",
          "Pass/Tab_per",
          "Fail/iPad_per",
          "Pass/iPad_per",
          "Fail/ios_per",
          "Pass/ios_per",
          "Fail/An_per",
          "Pass/An_per",
          "Fail/Tab_per",
          "Pass/Tab_per",
          "Fail/iPad_per",
          "Pass/iPad_per",
          "Fail/ios_per",
          "Pass/ios_per",
          "Fail/An_per",
          "Pass/An_per",
          "Fail/Tab_per",
          "Pass/Tab_per",
          "Fail/iPad_per",
          "Pass/iPad_per",
          "Fail/ios_per",
          "Pass/ios_per",
          "Fail/An_per",
          "Pass/An_per",
          "Fail/Tab_per",
          "Pass/Tab_per",
          "Fail/iPad_per",
          "Pass/iPad_per",
          "Fail/ios_per",
          "Pass/ios_per",
          "Fail/An_per",
          "Pass/An_per",
          "Fail/Tab_per",
          "Pass/Tab_per",
          "Fail/iPad_per",
          "Pass/iPad_per",
          "Fail/ios_per",
          "Pass/ios_per",
          "Fail",
          "Pass",
          "Fail",
          "Pass",
          "Fail",
          "Pass",
          "Fail",
          "Pass",
          "",
          ""
         ],
         "type": "sunburst",
         "values": [
          14.795244385733158,
          85.20475561426684,
          23.364485981308412,
          76.63551401869158,
          18.39080459770115,
          81.60919540229885,
          13.120567375886525,
          86.87943262411348,
          24.30647291941876,
          75.69352708058125,
          36.915887850467286,
          63.084112149532714,
          24.137931034482758,
          75.86206896551724,
          16.666666666666664,
          83.33333333333334,
          12.945838837516513,
          87.0541611624835,
          41.1214953271028,
          58.87850467289719,
          33.33333333333333,
          66.66666666666666,
          19.858156028368796,
          80.1418439716312,
          30.250990752972257,
          69.74900924702774,
          28.971962616822427,
          71.02803738317756,
          14.942528735632186,
          85.0574712643678,
          15.957446808510639,
          84.04255319148936,
          19.0224570673712,
          80.9775429326288,
          38.31775700934579,
          61.6822429906542,
          24.137931034482758,
          75.86206896551724,
          16.312056737588655,
          83.68794326241135,
          101.32100396301189,
          398.6789960369881,
          168.69158878504672,
          331.30841121495325,
          114.94252873563218,
          385.0574712643678,
          81.91489361702128,
          418.0851063829787,
          466.87001510071207,
          1533.1299848992878
         ]
        }
       ],
       "layout": {
        "legend": {
         "tracegroupgap": 0
        },
        "margin": {
         "t": 60
        },
        "template": {
         "data": {
          "bar": [
           {
            "error_x": {
             "color": "#2a3f5f"
            },
            "error_y": {
             "color": "#2a3f5f"
            },
            "marker": {
             "line": {
              "color": "#E5ECF6",
              "width": 0.5
             },
             "pattern": {
              "fillmode": "overlay",
              "size": 10,
              "solidity": 0.2
             }
            },
            "type": "bar"
           }
          ],
          "barpolar": [
           {
            "marker": {
             "line": {
              "color": "#E5ECF6",
              "width": 0.5
             },
             "pattern": {
              "fillmode": "overlay",
              "size": 10,
              "solidity": 0.2
             }
            },
            "type": "barpolar"
           }
          ],
          "carpet": [
           {
            "aaxis": {
             "endlinecolor": "#2a3f5f",
             "gridcolor": "white",
             "linecolor": "white",
             "minorgridcolor": "white",
             "startlinecolor": "#2a3f5f"
            },
            "baxis": {
             "endlinecolor": "#2a3f5f",
             "gridcolor": "white",
             "linecolor": "white",
             "minorgridcolor": "white",
             "startlinecolor": "#2a3f5f"
            },
            "type": "carpet"
           }
          ],
          "choropleth": [
           {
            "colorbar": {
             "outlinewidth": 0,
             "ticks": ""
            },
            "type": "choropleth"
           }
          ],
          "contour": [
           {
            "colorbar": {
             "outlinewidth": 0,
             "ticks": ""
            },
            "colorscale": [
             [
              0,
              "#0d0887"
             ],
             [
              0.1111111111111111,
              "#46039f"
             ],
             [
              0.2222222222222222,
              "#7201a8"
             ],
             [
              0.3333333333333333,
              "#9c179e"
             ],
             [
              0.4444444444444444,
              "#bd3786"
             ],
             [
              0.5555555555555556,
              "#d8576b"
             ],
             [
              0.6666666666666666,
              "#ed7953"
             ],
             [
              0.7777777777777778,
              "#fb9f3a"
             ],
             [
              0.8888888888888888,
              "#fdca26"
             ],
             [
              1,
              "#f0f921"
             ]
            ],
            "type": "contour"
           }
          ],
          "contourcarpet": [
           {
            "colorbar": {
             "outlinewidth": 0,
             "ticks": ""
            },
            "type": "contourcarpet"
           }
          ],
          "heatmap": [
           {
            "colorbar": {
             "outlinewidth": 0,
             "ticks": ""
            },
            "colorscale": [
             [
              0,
              "#0d0887"
             ],
             [
              0.1111111111111111,
              "#46039f"
             ],
             [
              0.2222222222222222,
              "#7201a8"
             ],
             [
              0.3333333333333333,
              "#9c179e"
             ],
             [
              0.4444444444444444,
              "#bd3786"
             ],
             [
              0.5555555555555556,
              "#d8576b"
             ],
             [
              0.6666666666666666,
              "#ed7953"
             ],
             [
              0.7777777777777778,
              "#fb9f3a"
             ],
             [
              0.8888888888888888,
              "#fdca26"
             ],
             [
              1,
              "#f0f921"
             ]
            ],
            "type": "heatmap"
           }
          ],
          "heatmapgl": [
           {
            "colorbar": {
             "outlinewidth": 0,
             "ticks": ""
            },
            "colorscale": [
             [
              0,
              "#0d0887"
             ],
             [
              0.1111111111111111,
              "#46039f"
             ],
             [
              0.2222222222222222,
              "#7201a8"
             ],
             [
              0.3333333333333333,
              "#9c179e"
             ],
             [
              0.4444444444444444,
              "#bd3786"
             ],
             [
              0.5555555555555556,
              "#d8576b"
             ],
             [
              0.6666666666666666,
              "#ed7953"
             ],
             [
              0.7777777777777778,
              "#fb9f3a"
             ],
             [
              0.8888888888888888,
              "#fdca26"
             ],
             [
              1,
              "#f0f921"
             ]
            ],
            "type": "heatmapgl"
           }
          ],
          "histogram": [
           {
            "marker": {
             "pattern": {
              "fillmode": "overlay",
              "size": 10,
              "solidity": 0.2
             }
            },
            "type": "histogram"
           }
          ],
          "histogram2d": [
           {
            "colorbar": {
             "outlinewidth": 0,
             "ticks": ""
            },
            "colorscale": [
             [
              0,
              "#0d0887"
             ],
             [
              0.1111111111111111,
              "#46039f"
             ],
             [
              0.2222222222222222,
              "#7201a8"
             ],
             [
              0.3333333333333333,
              "#9c179e"
             ],
             [
              0.4444444444444444,
              "#bd3786"
             ],
             [
              0.5555555555555556,
              "#d8576b"
             ],
             [
              0.6666666666666666,
              "#ed7953"
             ],
             [
              0.7777777777777778,
              "#fb9f3a"
             ],
             [
              0.8888888888888888,
              "#fdca26"
             ],
             [
              1,
              "#f0f921"
             ]
            ],
            "type": "histogram2d"
           }
          ],
          "histogram2dcontour": [
           {
            "colorbar": {
             "outlinewidth": 0,
             "ticks": ""
            },
            "colorscale": [
             [
              0,
              "#0d0887"
             ],
             [
              0.1111111111111111,
              "#46039f"
             ],
             [
              0.2222222222222222,
              "#7201a8"
             ],
             [
              0.3333333333333333,
              "#9c179e"
             ],
             [
              0.4444444444444444,
              "#bd3786"
             ],
             [
              0.5555555555555556,
              "#d8576b"
             ],
             [
              0.6666666666666666,
              "#ed7953"
             ],
             [
              0.7777777777777778,
              "#fb9f3a"
             ],
             [
              0.8888888888888888,
              "#fdca26"
             ],
             [
              1,
              "#f0f921"
             ]
            ],
            "type": "histogram2dcontour"
           }
          ],
          "mesh3d": [
           {
            "colorbar": {
             "outlinewidth": 0,
             "ticks": ""
            },
            "type": "mesh3d"
           }
          ],
          "parcoords": [
           {
            "line": {
             "colorbar": {
              "outlinewidth": 0,
              "ticks": ""
             }
            },
            "type": "parcoords"
           }
          ],
          "pie": [
           {
            "automargin": true,
            "type": "pie"
           }
          ],
          "scatter": [
           {
            "fillpattern": {
             "fillmode": "overlay",
             "size": 10,
             "solidity": 0.2
            },
            "type": "scatter"
           }
          ],
          "scatter3d": [
           {
            "line": {
             "colorbar": {
              "outlinewidth": 0,
              "ticks": ""
             }
            },
            "marker": {
             "colorbar": {
              "outlinewidth": 0,
              "ticks": ""
             }
            },
            "type": "scatter3d"
           }
          ],
          "scattercarpet": [
           {
            "marker": {
             "colorbar": {
              "outlinewidth": 0,
              "ticks": ""
             }
            },
            "type": "scattercarpet"
           }
          ],
          "scattergeo": [
           {
            "marker": {
             "colorbar": {
              "outlinewidth": 0,
              "ticks": ""
             }
            },
            "type": "scattergeo"
           }
          ],
          "scattergl": [
           {
            "marker": {
             "colorbar": {
              "outlinewidth": 0,
              "ticks": ""
             }
            },
            "type": "scattergl"
           }
          ],
          "scattermapbox": [
           {
            "marker": {
             "colorbar": {
              "outlinewidth": 0,
              "ticks": ""
             }
            },
            "type": "scattermapbox"
           }
          ],
          "scatterpolar": [
           {
            "marker": {
             "colorbar": {
              "outlinewidth": 0,
              "ticks": ""
             }
            },
            "type": "scatterpolar"
           }
          ],
          "scatterpolargl": [
           {
            "marker": {
             "colorbar": {
              "outlinewidth": 0,
              "ticks": ""
             }
            },
            "type": "scatterpolargl"
           }
          ],
          "scatterternary": [
           {
            "marker": {
             "colorbar": {
              "outlinewidth": 0,
              "ticks": ""
             }
            },
            "type": "scatterternary"
           }
          ],
          "surface": [
           {
            "colorbar": {
             "outlinewidth": 0,
             "ticks": ""
            },
            "colorscale": [
             [
              0,
              "#0d0887"
             ],
             [
              0.1111111111111111,
              "#46039f"
             ],
             [
              0.2222222222222222,
              "#7201a8"
             ],
             [
              0.3333333333333333,
              "#9c179e"
             ],
             [
              0.4444444444444444,
              "#bd3786"
             ],
             [
              0.5555555555555556,
              "#d8576b"
             ],
             [
              0.6666666666666666,
              "#ed7953"
             ],
             [
              0.7777777777777778,
              "#fb9f3a"
             ],
             [
              0.8888888888888888,
              "#fdca26"
             ],
             [
              1,
              "#f0f921"
             ]
            ],
            "type": "surface"
           }
          ],
          "table": [
           {
            "cells": {
             "fill": {
              "color": "#EBF0F8"
             },
             "line": {
              "color": "white"
             }
            },
            "header": {
             "fill": {
              "color": "#C8D4E3"
             },
             "line": {
              "color": "white"
             }
            },
            "type": "table"
           }
          ]
         },
         "layout": {
          "annotationdefaults": {
           "arrowcolor": "#2a3f5f",
           "arrowhead": 0,
           "arrowwidth": 1
          },
          "autotypenumbers": "strict",
          "coloraxis": {
           "colorbar": {
            "outlinewidth": 0,
            "ticks": ""
           }
          },
          "colorscale": {
           "diverging": [
            [
             0,
             "#8e0152"
            ],
            [
             0.1,
             "#c51b7d"
            ],
            [
             0.2,
             "#de77ae"
            ],
            [
             0.3,
             "#f1b6da"
            ],
            [
             0.4,
             "#fde0ef"
            ],
            [
             0.5,
             "#f7f7f7"
            ],
            [
             0.6,
             "#e6f5d0"
            ],
            [
             0.7,
             "#b8e186"
            ],
            [
             0.8,
             "#7fbc41"
            ],
            [
             0.9,
             "#4d9221"
            ],
            [
             1,
             "#276419"
            ]
           ],
           "sequential": [
            [
             0,
             "#0d0887"
            ],
            [
             0.1111111111111111,
             "#46039f"
            ],
            [
             0.2222222222222222,
             "#7201a8"
            ],
            [
             0.3333333333333333,
             "#9c179e"
            ],
            [
             0.4444444444444444,
             "#bd3786"
            ],
            [
             0.5555555555555556,
             "#d8576b"
            ],
            [
             0.6666666666666666,
             "#ed7953"
            ],
            [
             0.7777777777777778,
             "#fb9f3a"
            ],
            [
             0.8888888888888888,
             "#fdca26"
            ],
            [
             1,
             "#f0f921"
            ]
           ],
           "sequentialminus": [
            [
             0,
             "#0d0887"
            ],
            [
             0.1111111111111111,
             "#46039f"
            ],
            [
             0.2222222222222222,
             "#7201a8"
            ],
            [
             0.3333333333333333,
             "#9c179e"
            ],
            [
             0.4444444444444444,
             "#bd3786"
            ],
            [
             0.5555555555555556,
             "#d8576b"
            ],
            [
             0.6666666666666666,
             "#ed7953"
            ],
            [
             0.7777777777777778,
             "#fb9f3a"
            ],
            [
             0.8888888888888888,
             "#fdca26"
            ],
            [
             1,
             "#f0f921"
            ]
           ]
          },
          "colorway": [
           "#636efa",
           "#EF553B",
           "#00cc96",
           "#ab63fa",
           "#FFA15A",
           "#19d3f3",
           "#FF6692",
           "#B6E880",
           "#FF97FF",
           "#FECB52"
          ],
          "font": {
           "color": "#2a3f5f"
          },
          "geo": {
           "bgcolor": "white",
           "lakecolor": "white",
           "landcolor": "#E5ECF6",
           "showlakes": true,
           "showland": true,
           "subunitcolor": "white"
          },
          "hoverlabel": {
           "align": "left"
          },
          "hovermode": "closest",
          "mapbox": {
           "style": "light"
          },
          "paper_bgcolor": "white",
          "plot_bgcolor": "#E5ECF6",
          "polar": {
           "angularaxis": {
            "gridcolor": "white",
            "linecolor": "white",
            "ticks": ""
           },
           "bgcolor": "#E5ECF6",
           "radialaxis": {
            "gridcolor": "white",
            "linecolor": "white",
            "ticks": ""
           }
          },
          "scene": {
           "xaxis": {
            "backgroundcolor": "#E5ECF6",
            "gridcolor": "white",
            "gridwidth": 2,
            "linecolor": "white",
            "showbackground": true,
            "ticks": "",
            "zerolinecolor": "white"
           },
           "yaxis": {
            "backgroundcolor": "#E5ECF6",
            "gridcolor": "white",
            "gridwidth": 2,
            "linecolor": "white",
            "showbackground": true,
            "ticks": "",
            "zerolinecolor": "white"
           },
           "zaxis": {
            "backgroundcolor": "#E5ECF6",
            "gridcolor": "white",
            "gridwidth": 2,
            "linecolor": "white",
            "showbackground": true,
            "ticks": "",
            "zerolinecolor": "white"
           }
          },
          "shapedefaults": {
           "line": {
            "color": "#2a3f5f"
           }
          },
          "ternary": {
           "aaxis": {
            "gridcolor": "white",
            "linecolor": "white",
            "ticks": ""
           },
           "baxis": {
            "gridcolor": "white",
            "linecolor": "white",
            "ticks": ""
           },
           "bgcolor": "#E5ECF6",
           "caxis": {
            "gridcolor": "white",
            "linecolor": "white",
            "ticks": ""
           }
          },
          "title": {
           "x": 0.05
          },
          "xaxis": {
           "automargin": true,
           "gridcolor": "white",
           "linecolor": "white",
           "ticks": "",
           "title": {
            "standoff": 15
           },
           "zerolinecolor": "white",
           "zerolinewidth": 2
          },
          "yaxis": {
           "automargin": true,
           "gridcolor": "white",
           "linecolor": "white",
           "ticks": "",
           "title": {
            "standoff": 15
           },
           "zerolinecolor": "white",
           "zerolinewidth": 2
          }
         }
        }
       }
      },
      "text/html": [
       "<div>                            <div id=\"a75be6c6-b657-461c-9430-53b2b0c49494\" class=\"plotly-graph-div\" style=\"height:525px; width:100%;\"></div>            <script type=\"text/javascript\">                require([\"plotly\"], function(Plotly) {                    window.PLOTLYENV=window.PLOTLYENV || {};                                    if (document.getElementById(\"a75be6c6-b657-461c-9430-53b2b0c49494\")) {                    Plotly.newPlot(                        \"a75be6c6-b657-461c-9430-53b2b0c49494\",                        [{\"branchvalues\":\"total\",\"domain\":{\"x\":[0.0,1.0],\"y\":[0.0,1.0]},\"hovertemplate\":\"labels=%{label}<br>value=%{value}<br>parent=%{parent}<br>id=%{id}<extra></extra>\",\"ids\":[\"Fail/An_per/Accessibility\",\"Pass/An_per/Accessibility\",\"Fail/Tab_per/Accessibility\",\"Pass/Tab_per/Accessibility\",\"Fail/iPad_per/Accessibility\",\"Pass/iPad_per/Accessibility\",\"Fail/ios_per/Accessibility\",\"Pass/ios_per/Accessibility\",\"Fail/An_per/Compatibility\",\"Pass/An_per/Compatibility\",\"Fail/Tab_per/Compatibility\",\"Pass/Tab_per/Compatibility\",\"Fail/iPad_per/Compatibility\",\"Pass/iPad_per/Compatibility\",\"Fail/ios_per/Compatibility\",\"Pass/ios_per/Compatibility\",\"Fail/An_per/Functional\",\"Pass/An_per/Functional\",\"Fail/Tab_per/Functional\",\"Pass/Tab_per/Functional\",\"Fail/iPad_per/Functional\",\"Pass/iPad_per/Functional\",\"Fail/ios_per/Functional\",\"Pass/ios_per/Functional\",\"Fail/An_per/Performance\",\"Pass/An_per/Performance\",\"Fail/Tab_per/Performance\",\"Pass/Tab_per/Performance\",\"Fail/iPad_per/Performance\",\"Pass/iPad_per/Performance\",\"Fail/ios_per/Performance\",\"Pass/ios_per/Performance\",\"Fail/An_per/Visual\",\"Pass/An_per/Visual\",\"Fail/Tab_per/Visual\",\"Pass/Tab_per/Visual\",\"Fail/iPad_per/Visual\",\"Pass/iPad_per/Visual\",\"Fail/ios_per/Visual\",\"Pass/ios_per/Visual\",\"Fail/An_per\",\"Pass/An_per\",\"Fail/Tab_per\",\"Pass/Tab_per\",\"Fail/iPad_per\",\"Pass/iPad_per\",\"Fail/ios_per\",\"Pass/ios_per\",\"Fail\",\"Pass\"],\"labels\":[\"Accessibility\",\"Accessibility\",\"Accessibility\",\"Accessibility\",\"Accessibility\",\"Accessibility\",\"Accessibility\",\"Accessibility\",\"Compatibility\",\"Compatibility\",\"Compatibility\",\"Compatibility\",\"Compatibility\",\"Compatibility\",\"Compatibility\",\"Compatibility\",\"Functional\",\"Functional\",\"Functional\",\"Functional\",\"Functional\",\"Functional\",\"Functional\",\"Functional\",\"Performance\",\"Performance\",\"Performance\",\"Performance\",\"Performance\",\"Performance\",\"Performance\",\"Performance\",\"Visual\",\"Visual\",\"Visual\",\"Visual\",\"Visual\",\"Visual\",\"Visual\",\"Visual\",\"An_per\",\"An_per\",\"Tab_per\",\"Tab_per\",\"iPad_per\",\"iPad_per\",\"ios_per\",\"ios_per\",\"Fail\",\"Pass\"],\"name\":\"\",\"parents\":[\"Fail/An_per\",\"Pass/An_per\",\"Fail/Tab_per\",\"Pass/Tab_per\",\"Fail/iPad_per\",\"Pass/iPad_per\",\"Fail/ios_per\",\"Pass/ios_per\",\"Fail/An_per\",\"Pass/An_per\",\"Fail/Tab_per\",\"Pass/Tab_per\",\"Fail/iPad_per\",\"Pass/iPad_per\",\"Fail/ios_per\",\"Pass/ios_per\",\"Fail/An_per\",\"Pass/An_per\",\"Fail/Tab_per\",\"Pass/Tab_per\",\"Fail/iPad_per\",\"Pass/iPad_per\",\"Fail/ios_per\",\"Pass/ios_per\",\"Fail/An_per\",\"Pass/An_per\",\"Fail/Tab_per\",\"Pass/Tab_per\",\"Fail/iPad_per\",\"Pass/iPad_per\",\"Fail/ios_per\",\"Pass/ios_per\",\"Fail/An_per\",\"Pass/An_per\",\"Fail/Tab_per\",\"Pass/Tab_per\",\"Fail/iPad_per\",\"Pass/iPad_per\",\"Fail/ios_per\",\"Pass/ios_per\",\"Fail\",\"Pass\",\"Fail\",\"Pass\",\"Fail\",\"Pass\",\"Fail\",\"Pass\",\"\",\"\"],\"values\":[14.795244385733158,85.20475561426684,23.364485981308412,76.63551401869158,18.39080459770115,81.60919540229885,13.120567375886525,86.87943262411348,24.30647291941876,75.69352708058125,36.915887850467286,63.084112149532714,24.137931034482758,75.86206896551724,16.666666666666664,83.33333333333334,12.945838837516513,87.0541611624835,41.1214953271028,58.87850467289719,33.33333333333333,66.66666666666666,19.858156028368796,80.1418439716312,30.250990752972257,69.74900924702774,28.971962616822427,71.02803738317756,14.942528735632186,85.0574712643678,15.957446808510639,84.04255319148936,19.0224570673712,80.9775429326288,38.31775700934579,61.6822429906542,24.137931034482758,75.86206896551724,16.312056737588655,83.68794326241135,101.32100396301189,398.6789960369881,168.69158878504672,331.30841121495325,114.94252873563218,385.0574712643678,81.91489361702128,418.0851063829787,466.87001510071207,1533.1299848992878],\"type\":\"sunburst\"}],                        {\"template\":{\"data\":{\"histogram2dcontour\":[{\"type\":\"histogram2dcontour\",\"colorbar\":{\"outlinewidth\":0,\"ticks\":\"\"},\"colorscale\":[[0.0,\"#0d0887\"],[0.1111111111111111,\"#46039f\"],[0.2222222222222222,\"#7201a8\"],[0.3333333333333333,\"#9c179e\"],[0.4444444444444444,\"#bd3786\"],[0.5555555555555556,\"#d8576b\"],[0.6666666666666666,\"#ed7953\"],[0.7777777777777778,\"#fb9f3a\"],[0.8888888888888888,\"#fdca26\"],[1.0,\"#f0f921\"]]}],\"choropleth\":[{\"type\":\"choropleth\",\"colorbar\":{\"outlinewidth\":0,\"ticks\":\"\"}}],\"histogram2d\":[{\"type\":\"histogram2d\",\"colorbar\":{\"outlinewidth\":0,\"ticks\":\"\"},\"colorscale\":[[0.0,\"#0d0887\"],[0.1111111111111111,\"#46039f\"],[0.2222222222222222,\"#7201a8\"],[0.3333333333333333,\"#9c179e\"],[0.4444444444444444,\"#bd3786\"],[0.5555555555555556,\"#d8576b\"],[0.6666666666666666,\"#ed7953\"],[0.7777777777777778,\"#fb9f3a\"],[0.8888888888888888,\"#fdca26\"],[1.0,\"#f0f921\"]]}],\"heatmap\":[{\"type\":\"heatmap\",\"colorbar\":{\"outlinewidth\":0,\"ticks\":\"\"},\"colorscale\":[[0.0,\"#0d0887\"],[0.1111111111111111,\"#46039f\"],[0.2222222222222222,\"#7201a8\"],[0.3333333333333333,\"#9c179e\"],[0.4444444444444444,\"#bd3786\"],[0.5555555555555556,\"#d8576b\"],[0.6666666666666666,\"#ed7953\"],[0.7777777777777778,\"#fb9f3a\"],[0.8888888888888888,\"#fdca26\"],[1.0,\"#f0f921\"]]}],\"heatmapgl\":[{\"type\":\"heatmapgl\",\"colorbar\":{\"outlinewidth\":0,\"ticks\":\"\"},\"colorscale\":[[0.0,\"#0d0887\"],[0.1111111111111111,\"#46039f\"],[0.2222222222222222,\"#7201a8\"],[0.3333333333333333,\"#9c179e\"],[0.4444444444444444,\"#bd3786\"],[0.5555555555555556,\"#d8576b\"],[0.6666666666666666,\"#ed7953\"],[0.7777777777777778,\"#fb9f3a\"],[0.8888888888888888,\"#fdca26\"],[1.0,\"#f0f921\"]]}],\"contourcarpet\":[{\"type\":\"contourcarpet\",\"colorbar\":{\"outlinewidth\":0,\"ticks\":\"\"}}],\"contour\":[{\"type\":\"contour\",\"colorbar\":{\"outlinewidth\":0,\"ticks\":\"\"},\"colorscale\":[[0.0,\"#0d0887\"],[0.1111111111111111,\"#46039f\"],[0.2222222222222222,\"#7201a8\"],[0.3333333333333333,\"#9c179e\"],[0.4444444444444444,\"#bd3786\"],[0.5555555555555556,\"#d8576b\"],[0.6666666666666666,\"#ed7953\"],[0.7777777777777778,\"#fb9f3a\"],[0.8888888888888888,\"#fdca26\"],[1.0,\"#f0f921\"]]}],\"surface\":[{\"type\":\"surface\",\"colorbar\":{\"outlinewidth\":0,\"ticks\":\"\"},\"colorscale\":[[0.0,\"#0d0887\"],[0.1111111111111111,\"#46039f\"],[0.2222222222222222,\"#7201a8\"],[0.3333333333333333,\"#9c179e\"],[0.4444444444444444,\"#bd3786\"],[0.5555555555555556,\"#d8576b\"],[0.6666666666666666,\"#ed7953\"],[0.7777777777777778,\"#fb9f3a\"],[0.8888888888888888,\"#fdca26\"],[1.0,\"#f0f921\"]]}],\"mesh3d\":[{\"type\":\"mesh3d\",\"colorbar\":{\"outlinewidth\":0,\"ticks\":\"\"}}],\"scatter\":[{\"fillpattern\":{\"fillmode\":\"overlay\",\"size\":10,\"solidity\":0.2},\"type\":\"scatter\"}],\"parcoords\":[{\"type\":\"parcoords\",\"line\":{\"colorbar\":{\"outlinewidth\":0,\"ticks\":\"\"}}}],\"scatterpolargl\":[{\"type\":\"scatterpolargl\",\"marker\":{\"colorbar\":{\"outlinewidth\":0,\"ticks\":\"\"}}}],\"bar\":[{\"error_x\":{\"color\":\"#2a3f5f\"},\"error_y\":{\"color\":\"#2a3f5f\"},\"marker\":{\"line\":{\"color\":\"#E5ECF6\",\"width\":0.5},\"pattern\":{\"fillmode\":\"overlay\",\"size\":10,\"solidity\":0.2}},\"type\":\"bar\"}],\"scattergeo\":[{\"type\":\"scattergeo\",\"marker\":{\"colorbar\":{\"outlinewidth\":0,\"ticks\":\"\"}}}],\"scatterpolar\":[{\"type\":\"scatterpolar\",\"marker\":{\"colorbar\":{\"outlinewidth\":0,\"ticks\":\"\"}}}],\"histogram\":[{\"marker\":{\"pattern\":{\"fillmode\":\"overlay\",\"size\":10,\"solidity\":0.2}},\"type\":\"histogram\"}],\"scattergl\":[{\"type\":\"scattergl\",\"marker\":{\"colorbar\":{\"outlinewidth\":0,\"ticks\":\"\"}}}],\"scatter3d\":[{\"type\":\"scatter3d\",\"line\":{\"colorbar\":{\"outlinewidth\":0,\"ticks\":\"\"}},\"marker\":{\"colorbar\":{\"outlinewidth\":0,\"ticks\":\"\"}}}],\"scattermapbox\":[{\"type\":\"scattermapbox\",\"marker\":{\"colorbar\":{\"outlinewidth\":0,\"ticks\":\"\"}}}],\"scatterternary\":[{\"type\":\"scatterternary\",\"marker\":{\"colorbar\":{\"outlinewidth\":0,\"ticks\":\"\"}}}],\"scattercarpet\":[{\"type\":\"scattercarpet\",\"marker\":{\"colorbar\":{\"outlinewidth\":0,\"ticks\":\"\"}}}],\"carpet\":[{\"aaxis\":{\"endlinecolor\":\"#2a3f5f\",\"gridcolor\":\"white\",\"linecolor\":\"white\",\"minorgridcolor\":\"white\",\"startlinecolor\":\"#2a3f5f\"},\"baxis\":{\"endlinecolor\":\"#2a3f5f\",\"gridcolor\":\"white\",\"linecolor\":\"white\",\"minorgridcolor\":\"white\",\"startlinecolor\":\"#2a3f5f\"},\"type\":\"carpet\"}],\"table\":[{\"cells\":{\"fill\":{\"color\":\"#EBF0F8\"},\"line\":{\"color\":\"white\"}},\"header\":{\"fill\":{\"color\":\"#C8D4E3\"},\"line\":{\"color\":\"white\"}},\"type\":\"table\"}],\"barpolar\":[{\"marker\":{\"line\":{\"color\":\"#E5ECF6\",\"width\":0.5},\"pattern\":{\"fillmode\":\"overlay\",\"size\":10,\"solidity\":0.2}},\"type\":\"barpolar\"}],\"pie\":[{\"automargin\":true,\"type\":\"pie\"}]},\"layout\":{\"autotypenumbers\":\"strict\",\"colorway\":[\"#636efa\",\"#EF553B\",\"#00cc96\",\"#ab63fa\",\"#FFA15A\",\"#19d3f3\",\"#FF6692\",\"#B6E880\",\"#FF97FF\",\"#FECB52\"],\"font\":{\"color\":\"#2a3f5f\"},\"hovermode\":\"closest\",\"hoverlabel\":{\"align\":\"left\"},\"paper_bgcolor\":\"white\",\"plot_bgcolor\":\"#E5ECF6\",\"polar\":{\"bgcolor\":\"#E5ECF6\",\"angularaxis\":{\"gridcolor\":\"white\",\"linecolor\":\"white\",\"ticks\":\"\"},\"radialaxis\":{\"gridcolor\":\"white\",\"linecolor\":\"white\",\"ticks\":\"\"}},\"ternary\":{\"bgcolor\":\"#E5ECF6\",\"aaxis\":{\"gridcolor\":\"white\",\"linecolor\":\"white\",\"ticks\":\"\"},\"baxis\":{\"gridcolor\":\"white\",\"linecolor\":\"white\",\"ticks\":\"\"},\"caxis\":{\"gridcolor\":\"white\",\"linecolor\":\"white\",\"ticks\":\"\"}},\"coloraxis\":{\"colorbar\":{\"outlinewidth\":0,\"ticks\":\"\"}},\"colorscale\":{\"sequential\":[[0.0,\"#0d0887\"],[0.1111111111111111,\"#46039f\"],[0.2222222222222222,\"#7201a8\"],[0.3333333333333333,\"#9c179e\"],[0.4444444444444444,\"#bd3786\"],[0.5555555555555556,\"#d8576b\"],[0.6666666666666666,\"#ed7953\"],[0.7777777777777778,\"#fb9f3a\"],[0.8888888888888888,\"#fdca26\"],[1.0,\"#f0f921\"]],\"sequentialminus\":[[0.0,\"#0d0887\"],[0.1111111111111111,\"#46039f\"],[0.2222222222222222,\"#7201a8\"],[0.3333333333333333,\"#9c179e\"],[0.4444444444444444,\"#bd3786\"],[0.5555555555555556,\"#d8576b\"],[0.6666666666666666,\"#ed7953\"],[0.7777777777777778,\"#fb9f3a\"],[0.8888888888888888,\"#fdca26\"],[1.0,\"#f0f921\"]],\"diverging\":[[0,\"#8e0152\"],[0.1,\"#c51b7d\"],[0.2,\"#de77ae\"],[0.3,\"#f1b6da\"],[0.4,\"#fde0ef\"],[0.5,\"#f7f7f7\"],[0.6,\"#e6f5d0\"],[0.7,\"#b8e186\"],[0.8,\"#7fbc41\"],[0.9,\"#4d9221\"],[1,\"#276419\"]]},\"xaxis\":{\"gridcolor\":\"white\",\"linecolor\":\"white\",\"ticks\":\"\",\"title\":{\"standoff\":15},\"zerolinecolor\":\"white\",\"automargin\":true,\"zerolinewidth\":2},\"yaxis\":{\"gridcolor\":\"white\",\"linecolor\":\"white\",\"ticks\":\"\",\"title\":{\"standoff\":15},\"zerolinecolor\":\"white\",\"automargin\":true,\"zerolinewidth\":2},\"scene\":{\"xaxis\":{\"backgroundcolor\":\"#E5ECF6\",\"gridcolor\":\"white\",\"linecolor\":\"white\",\"showbackground\":true,\"ticks\":\"\",\"zerolinecolor\":\"white\",\"gridwidth\":2},\"yaxis\":{\"backgroundcolor\":\"#E5ECF6\",\"gridcolor\":\"white\",\"linecolor\":\"white\",\"showbackground\":true,\"ticks\":\"\",\"zerolinecolor\":\"white\",\"gridwidth\":2},\"zaxis\":{\"backgroundcolor\":\"#E5ECF6\",\"gridcolor\":\"white\",\"linecolor\":\"white\",\"showbackground\":true,\"ticks\":\"\",\"zerolinecolor\":\"white\",\"gridwidth\":2}},\"shapedefaults\":{\"line\":{\"color\":\"#2a3f5f\"}},\"annotationdefaults\":{\"arrowcolor\":\"#2a3f5f\",\"arrowhead\":0,\"arrowwidth\":1},\"geo\":{\"bgcolor\":\"white\",\"landcolor\":\"#E5ECF6\",\"subunitcolor\":\"white\",\"showland\":true,\"showlakes\":true,\"lakecolor\":\"white\"},\"title\":{\"x\":0.05},\"mapbox\":{\"style\":\"light\"}}},\"legend\":{\"tracegroupgap\":0},\"margin\":{\"t\":60}},                        {\"responsive\": true}                    ).then(function(){\n",
       "                            \n",
       "var gd = document.getElementById('a75be6c6-b657-461c-9430-53b2b0c49494');\n",
       "var x = new MutationObserver(function (mutations, observer) {{\n",
       "        var display = window.getComputedStyle(gd).display;\n",
       "        if (!display || display === 'none') {{\n",
       "            console.log([gd, 'removed!']);\n",
       "            Plotly.purge(gd);\n",
       "            observer.disconnect();\n",
       "        }}\n",
       "}});\n",
       "\n",
       "// Listen for the removal of the full notebook cells\n",
       "var notebookContainer = gd.closest('#notebook-container');\n",
       "if (notebookContainer) {{\n",
       "    x.observe(notebookContainer, {childList: true});\n",
       "}}\n",
       "\n",
       "// Listen for the clearing of the current output cell\n",
       "var outputEl = gd.closest('.output');\n",
       "if (outputEl) {{\n",
       "    x.observe(outputEl, {childList: true});\n",
       "}}\n",
       "\n",
       "                        })                };                });            </script>        </div>"
      ]
     },
     "metadata": {},
     "output_type": "display_data"
    }
   ],
   "source": [
    "import plotly.express as px\n",
    "\n",
    "fig = px.sunburst(df7, path=['Status','DeviceId','Testing'], values='value')\n",
    "fig.show()"
   ]
  },
  {
   "cell_type": "code",
   "execution_count": 101,
   "id": "3a32b4ee",
   "metadata": {},
   "outputs": [
    {
     "name": "stderr",
     "output_type": "stream",
     "text": [
      "C:\\Users\\kaviarasu.gm\\.conda\\envs\\kavi\\lib\\site-packages\\plotly\\express\\_core.py:1637: FutureWarning:\n",
      "\n",
      "The frame.append method is deprecated and will be removed from pandas in a future version. Use pandas.concat instead.\n",
      "\n",
      "C:\\Users\\kaviarasu.gm\\.conda\\envs\\kavi\\lib\\site-packages\\plotly\\express\\_core.py:1637: FutureWarning:\n",
      "\n",
      "The frame.append method is deprecated and will be removed from pandas in a future version. Use pandas.concat instead.\n",
      "\n",
      "C:\\Users\\kaviarasu.gm\\.conda\\envs\\kavi\\lib\\site-packages\\plotly\\express\\_core.py:1637: FutureWarning:\n",
      "\n",
      "The frame.append method is deprecated and will be removed from pandas in a future version. Use pandas.concat instead.\n",
      "\n"
     ]
    },
    {
     "data": {
      "application/vnd.plotly.v1+json": {
       "config": {
        "plotlyServerURL": "https://plot.ly"
       },
       "data": [
        {
         "branchvalues": "total",
         "domain": {
          "x": [
           0,
           1
          ],
          "y": [
           0,
           1
          ]
         },
         "hovertemplate": "labels=%{label}<br>value=%{value}<br>parent=%{parent}<br>id=%{id}<extra></extra>",
         "ids": [
          "An_per/Accessibility/Fail",
          "Tab_per/Accessibility/Fail",
          "iPad_per/Accessibility/Fail",
          "ios_per/Accessibility/Fail",
          "An_per/Compatibility/Fail",
          "Tab_per/Compatibility/Fail",
          "iPad_per/Compatibility/Fail",
          "ios_per/Compatibility/Fail",
          "An_per/Functional/Fail",
          "Tab_per/Functional/Fail",
          "iPad_per/Functional/Fail",
          "ios_per/Functional/Fail",
          "An_per/Performance/Fail",
          "Tab_per/Performance/Fail",
          "iPad_per/Performance/Fail",
          "ios_per/Performance/Fail",
          "An_per/Visual/Fail",
          "Tab_per/Visual/Fail",
          "iPad_per/Visual/Fail",
          "ios_per/Visual/Fail",
          "An_per/Accessibility/Pass",
          "Tab_per/Accessibility/Pass",
          "iPad_per/Accessibility/Pass",
          "ios_per/Accessibility/Pass",
          "An_per/Compatibility/Pass",
          "Tab_per/Compatibility/Pass",
          "iPad_per/Compatibility/Pass",
          "ios_per/Compatibility/Pass",
          "An_per/Functional/Pass",
          "Tab_per/Functional/Pass",
          "iPad_per/Functional/Pass",
          "ios_per/Functional/Pass",
          "An_per/Performance/Pass",
          "Tab_per/Performance/Pass",
          "iPad_per/Performance/Pass",
          "ios_per/Performance/Pass",
          "An_per/Visual/Pass",
          "Tab_per/Visual/Pass",
          "iPad_per/Visual/Pass",
          "ios_per/Visual/Pass",
          "An_per/Accessibility",
          "Tab_per/Accessibility",
          "iPad_per/Accessibility",
          "ios_per/Accessibility",
          "An_per/Compatibility",
          "Tab_per/Compatibility",
          "iPad_per/Compatibility",
          "ios_per/Compatibility",
          "An_per/Functional",
          "Tab_per/Functional",
          "iPad_per/Functional",
          "ios_per/Functional",
          "An_per/Performance",
          "Tab_per/Performance",
          "iPad_per/Performance",
          "ios_per/Performance",
          "An_per/Visual",
          "Tab_per/Visual",
          "iPad_per/Visual",
          "ios_per/Visual",
          "An_per",
          "Tab_per",
          "iPad_per",
          "ios_per"
         ],
         "labels": [
          "Fail",
          "Fail",
          "Fail",
          "Fail",
          "Fail",
          "Fail",
          "Fail",
          "Fail",
          "Fail",
          "Fail",
          "Fail",
          "Fail",
          "Fail",
          "Fail",
          "Fail",
          "Fail",
          "Fail",
          "Fail",
          "Fail",
          "Fail",
          "Pass",
          "Pass",
          "Pass",
          "Pass",
          "Pass",
          "Pass",
          "Pass",
          "Pass",
          "Pass",
          "Pass",
          "Pass",
          "Pass",
          "Pass",
          "Pass",
          "Pass",
          "Pass",
          "Pass",
          "Pass",
          "Pass",
          "Pass",
          "Accessibility",
          "Accessibility",
          "Accessibility",
          "Accessibility",
          "Compatibility",
          "Compatibility",
          "Compatibility",
          "Compatibility",
          "Functional",
          "Functional",
          "Functional",
          "Functional",
          "Performance",
          "Performance",
          "Performance",
          "Performance",
          "Visual",
          "Visual",
          "Visual",
          "Visual",
          "An_per",
          "Tab_per",
          "iPad_per",
          "ios_per"
         ],
         "name": "",
         "parents": [
          "An_per/Accessibility",
          "Tab_per/Accessibility",
          "iPad_per/Accessibility",
          "ios_per/Accessibility",
          "An_per/Compatibility",
          "Tab_per/Compatibility",
          "iPad_per/Compatibility",
          "ios_per/Compatibility",
          "An_per/Functional",
          "Tab_per/Functional",
          "iPad_per/Functional",
          "ios_per/Functional",
          "An_per/Performance",
          "Tab_per/Performance",
          "iPad_per/Performance",
          "ios_per/Performance",
          "An_per/Visual",
          "Tab_per/Visual",
          "iPad_per/Visual",
          "ios_per/Visual",
          "An_per/Accessibility",
          "Tab_per/Accessibility",
          "iPad_per/Accessibility",
          "ios_per/Accessibility",
          "An_per/Compatibility",
          "Tab_per/Compatibility",
          "iPad_per/Compatibility",
          "ios_per/Compatibility",
          "An_per/Functional",
          "Tab_per/Functional",
          "iPad_per/Functional",
          "ios_per/Functional",
          "An_per/Performance",
          "Tab_per/Performance",
          "iPad_per/Performance",
          "ios_per/Performance",
          "An_per/Visual",
          "Tab_per/Visual",
          "iPad_per/Visual",
          "ios_per/Visual",
          "An_per",
          "Tab_per",
          "iPad_per",
          "ios_per",
          "An_per",
          "Tab_per",
          "iPad_per",
          "ios_per",
          "An_per",
          "Tab_per",
          "iPad_per",
          "ios_per",
          "An_per",
          "Tab_per",
          "iPad_per",
          "ios_per",
          "An_per",
          "Tab_per",
          "iPad_per",
          "ios_per",
          "",
          "",
          "",
          ""
         ],
         "type": "sunburst",
         "values": [
          14.795244385733158,
          23.364485981308412,
          18.39080459770115,
          13.120567375886525,
          24.30647291941876,
          36.915887850467286,
          24.137931034482758,
          16.666666666666664,
          12.945838837516513,
          41.1214953271028,
          33.33333333333333,
          19.858156028368796,
          30.250990752972257,
          28.971962616822427,
          14.942528735632186,
          15.957446808510639,
          19.0224570673712,
          38.31775700934579,
          24.137931034482758,
          16.312056737588655,
          85.20475561426684,
          76.63551401869158,
          81.60919540229885,
          86.87943262411348,
          75.69352708058125,
          63.084112149532714,
          75.86206896551724,
          83.33333333333334,
          87.0541611624835,
          58.87850467289719,
          66.66666666666666,
          80.1418439716312,
          69.74900924702774,
          71.02803738317756,
          85.0574712643678,
          84.04255319148936,
          80.9775429326288,
          61.6822429906542,
          75.86206896551724,
          83.68794326241135,
          100,
          100,
          100,
          100,
          100,
          100,
          100,
          100,
          100.00000000000001,
          100,
          99.99999999999999,
          100,
          100,
          99.99999999999999,
          99.99999999999999,
          100,
          100,
          100,
          100,
          100,
          500,
          499.99999999999994,
          500,
          500
         ]
        }
       ],
       "layout": {
        "legend": {
         "tracegroupgap": 0
        },
        "margin": {
         "t": 60
        },
        "template": {
         "data": {
          "bar": [
           {
            "error_x": {
             "color": "#2a3f5f"
            },
            "error_y": {
             "color": "#2a3f5f"
            },
            "marker": {
             "line": {
              "color": "#E5ECF6",
              "width": 0.5
             },
             "pattern": {
              "fillmode": "overlay",
              "size": 10,
              "solidity": 0.2
             }
            },
            "type": "bar"
           }
          ],
          "barpolar": [
           {
            "marker": {
             "line": {
              "color": "#E5ECF6",
              "width": 0.5
             },
             "pattern": {
              "fillmode": "overlay",
              "size": 10,
              "solidity": 0.2
             }
            },
            "type": "barpolar"
           }
          ],
          "carpet": [
           {
            "aaxis": {
             "endlinecolor": "#2a3f5f",
             "gridcolor": "white",
             "linecolor": "white",
             "minorgridcolor": "white",
             "startlinecolor": "#2a3f5f"
            },
            "baxis": {
             "endlinecolor": "#2a3f5f",
             "gridcolor": "white",
             "linecolor": "white",
             "minorgridcolor": "white",
             "startlinecolor": "#2a3f5f"
            },
            "type": "carpet"
           }
          ],
          "choropleth": [
           {
            "colorbar": {
             "outlinewidth": 0,
             "ticks": ""
            },
            "type": "choropleth"
           }
          ],
          "contour": [
           {
            "colorbar": {
             "outlinewidth": 0,
             "ticks": ""
            },
            "colorscale": [
             [
              0,
              "#0d0887"
             ],
             [
              0.1111111111111111,
              "#46039f"
             ],
             [
              0.2222222222222222,
              "#7201a8"
             ],
             [
              0.3333333333333333,
              "#9c179e"
             ],
             [
              0.4444444444444444,
              "#bd3786"
             ],
             [
              0.5555555555555556,
              "#d8576b"
             ],
             [
              0.6666666666666666,
              "#ed7953"
             ],
             [
              0.7777777777777778,
              "#fb9f3a"
             ],
             [
              0.8888888888888888,
              "#fdca26"
             ],
             [
              1,
              "#f0f921"
             ]
            ],
            "type": "contour"
           }
          ],
          "contourcarpet": [
           {
            "colorbar": {
             "outlinewidth": 0,
             "ticks": ""
            },
            "type": "contourcarpet"
           }
          ],
          "heatmap": [
           {
            "colorbar": {
             "outlinewidth": 0,
             "ticks": ""
            },
            "colorscale": [
             [
              0,
              "#0d0887"
             ],
             [
              0.1111111111111111,
              "#46039f"
             ],
             [
              0.2222222222222222,
              "#7201a8"
             ],
             [
              0.3333333333333333,
              "#9c179e"
             ],
             [
              0.4444444444444444,
              "#bd3786"
             ],
             [
              0.5555555555555556,
              "#d8576b"
             ],
             [
              0.6666666666666666,
              "#ed7953"
             ],
             [
              0.7777777777777778,
              "#fb9f3a"
             ],
             [
              0.8888888888888888,
              "#fdca26"
             ],
             [
              1,
              "#f0f921"
             ]
            ],
            "type": "heatmap"
           }
          ],
          "heatmapgl": [
           {
            "colorbar": {
             "outlinewidth": 0,
             "ticks": ""
            },
            "colorscale": [
             [
              0,
              "#0d0887"
             ],
             [
              0.1111111111111111,
              "#46039f"
             ],
             [
              0.2222222222222222,
              "#7201a8"
             ],
             [
              0.3333333333333333,
              "#9c179e"
             ],
             [
              0.4444444444444444,
              "#bd3786"
             ],
             [
              0.5555555555555556,
              "#d8576b"
             ],
             [
              0.6666666666666666,
              "#ed7953"
             ],
             [
              0.7777777777777778,
              "#fb9f3a"
             ],
             [
              0.8888888888888888,
              "#fdca26"
             ],
             [
              1,
              "#f0f921"
             ]
            ],
            "type": "heatmapgl"
           }
          ],
          "histogram": [
           {
            "marker": {
             "pattern": {
              "fillmode": "overlay",
              "size": 10,
              "solidity": 0.2
             }
            },
            "type": "histogram"
           }
          ],
          "histogram2d": [
           {
            "colorbar": {
             "outlinewidth": 0,
             "ticks": ""
            },
            "colorscale": [
             [
              0,
              "#0d0887"
             ],
             [
              0.1111111111111111,
              "#46039f"
             ],
             [
              0.2222222222222222,
              "#7201a8"
             ],
             [
              0.3333333333333333,
              "#9c179e"
             ],
             [
              0.4444444444444444,
              "#bd3786"
             ],
             [
              0.5555555555555556,
              "#d8576b"
             ],
             [
              0.6666666666666666,
              "#ed7953"
             ],
             [
              0.7777777777777778,
              "#fb9f3a"
             ],
             [
              0.8888888888888888,
              "#fdca26"
             ],
             [
              1,
              "#f0f921"
             ]
            ],
            "type": "histogram2d"
           }
          ],
          "histogram2dcontour": [
           {
            "colorbar": {
             "outlinewidth": 0,
             "ticks": ""
            },
            "colorscale": [
             [
              0,
              "#0d0887"
             ],
             [
              0.1111111111111111,
              "#46039f"
             ],
             [
              0.2222222222222222,
              "#7201a8"
             ],
             [
              0.3333333333333333,
              "#9c179e"
             ],
             [
              0.4444444444444444,
              "#bd3786"
             ],
             [
              0.5555555555555556,
              "#d8576b"
             ],
             [
              0.6666666666666666,
              "#ed7953"
             ],
             [
              0.7777777777777778,
              "#fb9f3a"
             ],
             [
              0.8888888888888888,
              "#fdca26"
             ],
             [
              1,
              "#f0f921"
             ]
            ],
            "type": "histogram2dcontour"
           }
          ],
          "mesh3d": [
           {
            "colorbar": {
             "outlinewidth": 0,
             "ticks": ""
            },
            "type": "mesh3d"
           }
          ],
          "parcoords": [
           {
            "line": {
             "colorbar": {
              "outlinewidth": 0,
              "ticks": ""
             }
            },
            "type": "parcoords"
           }
          ],
          "pie": [
           {
            "automargin": true,
            "type": "pie"
           }
          ],
          "scatter": [
           {
            "fillpattern": {
             "fillmode": "overlay",
             "size": 10,
             "solidity": 0.2
            },
            "type": "scatter"
           }
          ],
          "scatter3d": [
           {
            "line": {
             "colorbar": {
              "outlinewidth": 0,
              "ticks": ""
             }
            },
            "marker": {
             "colorbar": {
              "outlinewidth": 0,
              "ticks": ""
             }
            },
            "type": "scatter3d"
           }
          ],
          "scattercarpet": [
           {
            "marker": {
             "colorbar": {
              "outlinewidth": 0,
              "ticks": ""
             }
            },
            "type": "scattercarpet"
           }
          ],
          "scattergeo": [
           {
            "marker": {
             "colorbar": {
              "outlinewidth": 0,
              "ticks": ""
             }
            },
            "type": "scattergeo"
           }
          ],
          "scattergl": [
           {
            "marker": {
             "colorbar": {
              "outlinewidth": 0,
              "ticks": ""
             }
            },
            "type": "scattergl"
           }
          ],
          "scattermapbox": [
           {
            "marker": {
             "colorbar": {
              "outlinewidth": 0,
              "ticks": ""
             }
            },
            "type": "scattermapbox"
           }
          ],
          "scatterpolar": [
           {
            "marker": {
             "colorbar": {
              "outlinewidth": 0,
              "ticks": ""
             }
            },
            "type": "scatterpolar"
           }
          ],
          "scatterpolargl": [
           {
            "marker": {
             "colorbar": {
              "outlinewidth": 0,
              "ticks": ""
             }
            },
            "type": "scatterpolargl"
           }
          ],
          "scatterternary": [
           {
            "marker": {
             "colorbar": {
              "outlinewidth": 0,
              "ticks": ""
             }
            },
            "type": "scatterternary"
           }
          ],
          "surface": [
           {
            "colorbar": {
             "outlinewidth": 0,
             "ticks": ""
            },
            "colorscale": [
             [
              0,
              "#0d0887"
             ],
             [
              0.1111111111111111,
              "#46039f"
             ],
             [
              0.2222222222222222,
              "#7201a8"
             ],
             [
              0.3333333333333333,
              "#9c179e"
             ],
             [
              0.4444444444444444,
              "#bd3786"
             ],
             [
              0.5555555555555556,
              "#d8576b"
             ],
             [
              0.6666666666666666,
              "#ed7953"
             ],
             [
              0.7777777777777778,
              "#fb9f3a"
             ],
             [
              0.8888888888888888,
              "#fdca26"
             ],
             [
              1,
              "#f0f921"
             ]
            ],
            "type": "surface"
           }
          ],
          "table": [
           {
            "cells": {
             "fill": {
              "color": "#EBF0F8"
             },
             "line": {
              "color": "white"
             }
            },
            "header": {
             "fill": {
              "color": "#C8D4E3"
             },
             "line": {
              "color": "white"
             }
            },
            "type": "table"
           }
          ]
         },
         "layout": {
          "annotationdefaults": {
           "arrowcolor": "#2a3f5f",
           "arrowhead": 0,
           "arrowwidth": 1
          },
          "autotypenumbers": "strict",
          "coloraxis": {
           "colorbar": {
            "outlinewidth": 0,
            "ticks": ""
           }
          },
          "colorscale": {
           "diverging": [
            [
             0,
             "#8e0152"
            ],
            [
             0.1,
             "#c51b7d"
            ],
            [
             0.2,
             "#de77ae"
            ],
            [
             0.3,
             "#f1b6da"
            ],
            [
             0.4,
             "#fde0ef"
            ],
            [
             0.5,
             "#f7f7f7"
            ],
            [
             0.6,
             "#e6f5d0"
            ],
            [
             0.7,
             "#b8e186"
            ],
            [
             0.8,
             "#7fbc41"
            ],
            [
             0.9,
             "#4d9221"
            ],
            [
             1,
             "#276419"
            ]
           ],
           "sequential": [
            [
             0,
             "#0d0887"
            ],
            [
             0.1111111111111111,
             "#46039f"
            ],
            [
             0.2222222222222222,
             "#7201a8"
            ],
            [
             0.3333333333333333,
             "#9c179e"
            ],
            [
             0.4444444444444444,
             "#bd3786"
            ],
            [
             0.5555555555555556,
             "#d8576b"
            ],
            [
             0.6666666666666666,
             "#ed7953"
            ],
            [
             0.7777777777777778,
             "#fb9f3a"
            ],
            [
             0.8888888888888888,
             "#fdca26"
            ],
            [
             1,
             "#f0f921"
            ]
           ],
           "sequentialminus": [
            [
             0,
             "#0d0887"
            ],
            [
             0.1111111111111111,
             "#46039f"
            ],
            [
             0.2222222222222222,
             "#7201a8"
            ],
            [
             0.3333333333333333,
             "#9c179e"
            ],
            [
             0.4444444444444444,
             "#bd3786"
            ],
            [
             0.5555555555555556,
             "#d8576b"
            ],
            [
             0.6666666666666666,
             "#ed7953"
            ],
            [
             0.7777777777777778,
             "#fb9f3a"
            ],
            [
             0.8888888888888888,
             "#fdca26"
            ],
            [
             1,
             "#f0f921"
            ]
           ]
          },
          "colorway": [
           "#636efa",
           "#EF553B",
           "#00cc96",
           "#ab63fa",
           "#FFA15A",
           "#19d3f3",
           "#FF6692",
           "#B6E880",
           "#FF97FF",
           "#FECB52"
          ],
          "font": {
           "color": "#2a3f5f"
          },
          "geo": {
           "bgcolor": "white",
           "lakecolor": "white",
           "landcolor": "#E5ECF6",
           "showlakes": true,
           "showland": true,
           "subunitcolor": "white"
          },
          "hoverlabel": {
           "align": "left"
          },
          "hovermode": "closest",
          "mapbox": {
           "style": "light"
          },
          "paper_bgcolor": "white",
          "plot_bgcolor": "#E5ECF6",
          "polar": {
           "angularaxis": {
            "gridcolor": "white",
            "linecolor": "white",
            "ticks": ""
           },
           "bgcolor": "#E5ECF6",
           "radialaxis": {
            "gridcolor": "white",
            "linecolor": "white",
            "ticks": ""
           }
          },
          "scene": {
           "xaxis": {
            "backgroundcolor": "#E5ECF6",
            "gridcolor": "white",
            "gridwidth": 2,
            "linecolor": "white",
            "showbackground": true,
            "ticks": "",
            "zerolinecolor": "white"
           },
           "yaxis": {
            "backgroundcolor": "#E5ECF6",
            "gridcolor": "white",
            "gridwidth": 2,
            "linecolor": "white",
            "showbackground": true,
            "ticks": "",
            "zerolinecolor": "white"
           },
           "zaxis": {
            "backgroundcolor": "#E5ECF6",
            "gridcolor": "white",
            "gridwidth": 2,
            "linecolor": "white",
            "showbackground": true,
            "ticks": "",
            "zerolinecolor": "white"
           }
          },
          "shapedefaults": {
           "line": {
            "color": "#2a3f5f"
           }
          },
          "ternary": {
           "aaxis": {
            "gridcolor": "white",
            "linecolor": "white",
            "ticks": ""
           },
           "baxis": {
            "gridcolor": "white",
            "linecolor": "white",
            "ticks": ""
           },
           "bgcolor": "#E5ECF6",
           "caxis": {
            "gridcolor": "white",
            "linecolor": "white",
            "ticks": ""
           }
          },
          "title": {
           "x": 0.05
          },
          "xaxis": {
           "automargin": true,
           "gridcolor": "white",
           "linecolor": "white",
           "ticks": "",
           "title": {
            "standoff": 15
           },
           "zerolinecolor": "white",
           "zerolinewidth": 2
          },
          "yaxis": {
           "automargin": true,
           "gridcolor": "white",
           "linecolor": "white",
           "ticks": "",
           "title": {
            "standoff": 15
           },
           "zerolinecolor": "white",
           "zerolinewidth": 2
          }
         }
        }
       }
      },
      "text/html": [
       "<div>                            <div id=\"75dc02dc-1985-49dd-89f4-b4a1d0761982\" class=\"plotly-graph-div\" style=\"height:525px; width:100%;\"></div>            <script type=\"text/javascript\">                require([\"plotly\"], function(Plotly) {                    window.PLOTLYENV=window.PLOTLYENV || {};                                    if (document.getElementById(\"75dc02dc-1985-49dd-89f4-b4a1d0761982\")) {                    Plotly.newPlot(                        \"75dc02dc-1985-49dd-89f4-b4a1d0761982\",                        [{\"branchvalues\":\"total\",\"domain\":{\"x\":[0.0,1.0],\"y\":[0.0,1.0]},\"hovertemplate\":\"labels=%{label}<br>value=%{value}<br>parent=%{parent}<br>id=%{id}<extra></extra>\",\"ids\":[\"An_per/Accessibility/Fail\",\"Tab_per/Accessibility/Fail\",\"iPad_per/Accessibility/Fail\",\"ios_per/Accessibility/Fail\",\"An_per/Compatibility/Fail\",\"Tab_per/Compatibility/Fail\",\"iPad_per/Compatibility/Fail\",\"ios_per/Compatibility/Fail\",\"An_per/Functional/Fail\",\"Tab_per/Functional/Fail\",\"iPad_per/Functional/Fail\",\"ios_per/Functional/Fail\",\"An_per/Performance/Fail\",\"Tab_per/Performance/Fail\",\"iPad_per/Performance/Fail\",\"ios_per/Performance/Fail\",\"An_per/Visual/Fail\",\"Tab_per/Visual/Fail\",\"iPad_per/Visual/Fail\",\"ios_per/Visual/Fail\",\"An_per/Accessibility/Pass\",\"Tab_per/Accessibility/Pass\",\"iPad_per/Accessibility/Pass\",\"ios_per/Accessibility/Pass\",\"An_per/Compatibility/Pass\",\"Tab_per/Compatibility/Pass\",\"iPad_per/Compatibility/Pass\",\"ios_per/Compatibility/Pass\",\"An_per/Functional/Pass\",\"Tab_per/Functional/Pass\",\"iPad_per/Functional/Pass\",\"ios_per/Functional/Pass\",\"An_per/Performance/Pass\",\"Tab_per/Performance/Pass\",\"iPad_per/Performance/Pass\",\"ios_per/Performance/Pass\",\"An_per/Visual/Pass\",\"Tab_per/Visual/Pass\",\"iPad_per/Visual/Pass\",\"ios_per/Visual/Pass\",\"An_per/Accessibility\",\"Tab_per/Accessibility\",\"iPad_per/Accessibility\",\"ios_per/Accessibility\",\"An_per/Compatibility\",\"Tab_per/Compatibility\",\"iPad_per/Compatibility\",\"ios_per/Compatibility\",\"An_per/Functional\",\"Tab_per/Functional\",\"iPad_per/Functional\",\"ios_per/Functional\",\"An_per/Performance\",\"Tab_per/Performance\",\"iPad_per/Performance\",\"ios_per/Performance\",\"An_per/Visual\",\"Tab_per/Visual\",\"iPad_per/Visual\",\"ios_per/Visual\",\"An_per\",\"Tab_per\",\"iPad_per\",\"ios_per\"],\"labels\":[\"Fail\",\"Fail\",\"Fail\",\"Fail\",\"Fail\",\"Fail\",\"Fail\",\"Fail\",\"Fail\",\"Fail\",\"Fail\",\"Fail\",\"Fail\",\"Fail\",\"Fail\",\"Fail\",\"Fail\",\"Fail\",\"Fail\",\"Fail\",\"Pass\",\"Pass\",\"Pass\",\"Pass\",\"Pass\",\"Pass\",\"Pass\",\"Pass\",\"Pass\",\"Pass\",\"Pass\",\"Pass\",\"Pass\",\"Pass\",\"Pass\",\"Pass\",\"Pass\",\"Pass\",\"Pass\",\"Pass\",\"Accessibility\",\"Accessibility\",\"Accessibility\",\"Accessibility\",\"Compatibility\",\"Compatibility\",\"Compatibility\",\"Compatibility\",\"Functional\",\"Functional\",\"Functional\",\"Functional\",\"Performance\",\"Performance\",\"Performance\",\"Performance\",\"Visual\",\"Visual\",\"Visual\",\"Visual\",\"An_per\",\"Tab_per\",\"iPad_per\",\"ios_per\"],\"name\":\"\",\"parents\":[\"An_per/Accessibility\",\"Tab_per/Accessibility\",\"iPad_per/Accessibility\",\"ios_per/Accessibility\",\"An_per/Compatibility\",\"Tab_per/Compatibility\",\"iPad_per/Compatibility\",\"ios_per/Compatibility\",\"An_per/Functional\",\"Tab_per/Functional\",\"iPad_per/Functional\",\"ios_per/Functional\",\"An_per/Performance\",\"Tab_per/Performance\",\"iPad_per/Performance\",\"ios_per/Performance\",\"An_per/Visual\",\"Tab_per/Visual\",\"iPad_per/Visual\",\"ios_per/Visual\",\"An_per/Accessibility\",\"Tab_per/Accessibility\",\"iPad_per/Accessibility\",\"ios_per/Accessibility\",\"An_per/Compatibility\",\"Tab_per/Compatibility\",\"iPad_per/Compatibility\",\"ios_per/Compatibility\",\"An_per/Functional\",\"Tab_per/Functional\",\"iPad_per/Functional\",\"ios_per/Functional\",\"An_per/Performance\",\"Tab_per/Performance\",\"iPad_per/Performance\",\"ios_per/Performance\",\"An_per/Visual\",\"Tab_per/Visual\",\"iPad_per/Visual\",\"ios_per/Visual\",\"An_per\",\"Tab_per\",\"iPad_per\",\"ios_per\",\"An_per\",\"Tab_per\",\"iPad_per\",\"ios_per\",\"An_per\",\"Tab_per\",\"iPad_per\",\"ios_per\",\"An_per\",\"Tab_per\",\"iPad_per\",\"ios_per\",\"An_per\",\"Tab_per\",\"iPad_per\",\"ios_per\",\"\",\"\",\"\",\"\"],\"values\":[14.795244385733158,23.364485981308412,18.39080459770115,13.120567375886525,24.30647291941876,36.915887850467286,24.137931034482758,16.666666666666664,12.945838837516513,41.1214953271028,33.33333333333333,19.858156028368796,30.250990752972257,28.971962616822427,14.942528735632186,15.957446808510639,19.0224570673712,38.31775700934579,24.137931034482758,16.312056737588655,85.20475561426684,76.63551401869158,81.60919540229885,86.87943262411348,75.69352708058125,63.084112149532714,75.86206896551724,83.33333333333334,87.0541611624835,58.87850467289719,66.66666666666666,80.1418439716312,69.74900924702774,71.02803738317756,85.0574712643678,84.04255319148936,80.9775429326288,61.6822429906542,75.86206896551724,83.68794326241135,100.0,100.0,100.0,100.0,100.0,100.0,100.0,100.0,100.00000000000001,100.0,99.99999999999999,100.0,100.0,99.99999999999999,99.99999999999999,100.0,100.0,100.0,100.0,100.0,500.0,499.99999999999994,500.0,500.0],\"type\":\"sunburst\"}],                        {\"template\":{\"data\":{\"histogram2dcontour\":[{\"type\":\"histogram2dcontour\",\"colorbar\":{\"outlinewidth\":0,\"ticks\":\"\"},\"colorscale\":[[0.0,\"#0d0887\"],[0.1111111111111111,\"#46039f\"],[0.2222222222222222,\"#7201a8\"],[0.3333333333333333,\"#9c179e\"],[0.4444444444444444,\"#bd3786\"],[0.5555555555555556,\"#d8576b\"],[0.6666666666666666,\"#ed7953\"],[0.7777777777777778,\"#fb9f3a\"],[0.8888888888888888,\"#fdca26\"],[1.0,\"#f0f921\"]]}],\"choropleth\":[{\"type\":\"choropleth\",\"colorbar\":{\"outlinewidth\":0,\"ticks\":\"\"}}],\"histogram2d\":[{\"type\":\"histogram2d\",\"colorbar\":{\"outlinewidth\":0,\"ticks\":\"\"},\"colorscale\":[[0.0,\"#0d0887\"],[0.1111111111111111,\"#46039f\"],[0.2222222222222222,\"#7201a8\"],[0.3333333333333333,\"#9c179e\"],[0.4444444444444444,\"#bd3786\"],[0.5555555555555556,\"#d8576b\"],[0.6666666666666666,\"#ed7953\"],[0.7777777777777778,\"#fb9f3a\"],[0.8888888888888888,\"#fdca26\"],[1.0,\"#f0f921\"]]}],\"heatmap\":[{\"type\":\"heatmap\",\"colorbar\":{\"outlinewidth\":0,\"ticks\":\"\"},\"colorscale\":[[0.0,\"#0d0887\"],[0.1111111111111111,\"#46039f\"],[0.2222222222222222,\"#7201a8\"],[0.3333333333333333,\"#9c179e\"],[0.4444444444444444,\"#bd3786\"],[0.5555555555555556,\"#d8576b\"],[0.6666666666666666,\"#ed7953\"],[0.7777777777777778,\"#fb9f3a\"],[0.8888888888888888,\"#fdca26\"],[1.0,\"#f0f921\"]]}],\"heatmapgl\":[{\"type\":\"heatmapgl\",\"colorbar\":{\"outlinewidth\":0,\"ticks\":\"\"},\"colorscale\":[[0.0,\"#0d0887\"],[0.1111111111111111,\"#46039f\"],[0.2222222222222222,\"#7201a8\"],[0.3333333333333333,\"#9c179e\"],[0.4444444444444444,\"#bd3786\"],[0.5555555555555556,\"#d8576b\"],[0.6666666666666666,\"#ed7953\"],[0.7777777777777778,\"#fb9f3a\"],[0.8888888888888888,\"#fdca26\"],[1.0,\"#f0f921\"]]}],\"contourcarpet\":[{\"type\":\"contourcarpet\",\"colorbar\":{\"outlinewidth\":0,\"ticks\":\"\"}}],\"contour\":[{\"type\":\"contour\",\"colorbar\":{\"outlinewidth\":0,\"ticks\":\"\"},\"colorscale\":[[0.0,\"#0d0887\"],[0.1111111111111111,\"#46039f\"],[0.2222222222222222,\"#7201a8\"],[0.3333333333333333,\"#9c179e\"],[0.4444444444444444,\"#bd3786\"],[0.5555555555555556,\"#d8576b\"],[0.6666666666666666,\"#ed7953\"],[0.7777777777777778,\"#fb9f3a\"],[0.8888888888888888,\"#fdca26\"],[1.0,\"#f0f921\"]]}],\"surface\":[{\"type\":\"surface\",\"colorbar\":{\"outlinewidth\":0,\"ticks\":\"\"},\"colorscale\":[[0.0,\"#0d0887\"],[0.1111111111111111,\"#46039f\"],[0.2222222222222222,\"#7201a8\"],[0.3333333333333333,\"#9c179e\"],[0.4444444444444444,\"#bd3786\"],[0.5555555555555556,\"#d8576b\"],[0.6666666666666666,\"#ed7953\"],[0.7777777777777778,\"#fb9f3a\"],[0.8888888888888888,\"#fdca26\"],[1.0,\"#f0f921\"]]}],\"mesh3d\":[{\"type\":\"mesh3d\",\"colorbar\":{\"outlinewidth\":0,\"ticks\":\"\"}}],\"scatter\":[{\"fillpattern\":{\"fillmode\":\"overlay\",\"size\":10,\"solidity\":0.2},\"type\":\"scatter\"}],\"parcoords\":[{\"type\":\"parcoords\",\"line\":{\"colorbar\":{\"outlinewidth\":0,\"ticks\":\"\"}}}],\"scatterpolargl\":[{\"type\":\"scatterpolargl\",\"marker\":{\"colorbar\":{\"outlinewidth\":0,\"ticks\":\"\"}}}],\"bar\":[{\"error_x\":{\"color\":\"#2a3f5f\"},\"error_y\":{\"color\":\"#2a3f5f\"},\"marker\":{\"line\":{\"color\":\"#E5ECF6\",\"width\":0.5},\"pattern\":{\"fillmode\":\"overlay\",\"size\":10,\"solidity\":0.2}},\"type\":\"bar\"}],\"scattergeo\":[{\"type\":\"scattergeo\",\"marker\":{\"colorbar\":{\"outlinewidth\":0,\"ticks\":\"\"}}}],\"scatterpolar\":[{\"type\":\"scatterpolar\",\"marker\":{\"colorbar\":{\"outlinewidth\":0,\"ticks\":\"\"}}}],\"histogram\":[{\"marker\":{\"pattern\":{\"fillmode\":\"overlay\",\"size\":10,\"solidity\":0.2}},\"type\":\"histogram\"}],\"scattergl\":[{\"type\":\"scattergl\",\"marker\":{\"colorbar\":{\"outlinewidth\":0,\"ticks\":\"\"}}}],\"scatter3d\":[{\"type\":\"scatter3d\",\"line\":{\"colorbar\":{\"outlinewidth\":0,\"ticks\":\"\"}},\"marker\":{\"colorbar\":{\"outlinewidth\":0,\"ticks\":\"\"}}}],\"scattermapbox\":[{\"type\":\"scattermapbox\",\"marker\":{\"colorbar\":{\"outlinewidth\":0,\"ticks\":\"\"}}}],\"scatterternary\":[{\"type\":\"scatterternary\",\"marker\":{\"colorbar\":{\"outlinewidth\":0,\"ticks\":\"\"}}}],\"scattercarpet\":[{\"type\":\"scattercarpet\",\"marker\":{\"colorbar\":{\"outlinewidth\":0,\"ticks\":\"\"}}}],\"carpet\":[{\"aaxis\":{\"endlinecolor\":\"#2a3f5f\",\"gridcolor\":\"white\",\"linecolor\":\"white\",\"minorgridcolor\":\"white\",\"startlinecolor\":\"#2a3f5f\"},\"baxis\":{\"endlinecolor\":\"#2a3f5f\",\"gridcolor\":\"white\",\"linecolor\":\"white\",\"minorgridcolor\":\"white\",\"startlinecolor\":\"#2a3f5f\"},\"type\":\"carpet\"}],\"table\":[{\"cells\":{\"fill\":{\"color\":\"#EBF0F8\"},\"line\":{\"color\":\"white\"}},\"header\":{\"fill\":{\"color\":\"#C8D4E3\"},\"line\":{\"color\":\"white\"}},\"type\":\"table\"}],\"barpolar\":[{\"marker\":{\"line\":{\"color\":\"#E5ECF6\",\"width\":0.5},\"pattern\":{\"fillmode\":\"overlay\",\"size\":10,\"solidity\":0.2}},\"type\":\"barpolar\"}],\"pie\":[{\"automargin\":true,\"type\":\"pie\"}]},\"layout\":{\"autotypenumbers\":\"strict\",\"colorway\":[\"#636efa\",\"#EF553B\",\"#00cc96\",\"#ab63fa\",\"#FFA15A\",\"#19d3f3\",\"#FF6692\",\"#B6E880\",\"#FF97FF\",\"#FECB52\"],\"font\":{\"color\":\"#2a3f5f\"},\"hovermode\":\"closest\",\"hoverlabel\":{\"align\":\"left\"},\"paper_bgcolor\":\"white\",\"plot_bgcolor\":\"#E5ECF6\",\"polar\":{\"bgcolor\":\"#E5ECF6\",\"angularaxis\":{\"gridcolor\":\"white\",\"linecolor\":\"white\",\"ticks\":\"\"},\"radialaxis\":{\"gridcolor\":\"white\",\"linecolor\":\"white\",\"ticks\":\"\"}},\"ternary\":{\"bgcolor\":\"#E5ECF6\",\"aaxis\":{\"gridcolor\":\"white\",\"linecolor\":\"white\",\"ticks\":\"\"},\"baxis\":{\"gridcolor\":\"white\",\"linecolor\":\"white\",\"ticks\":\"\"},\"caxis\":{\"gridcolor\":\"white\",\"linecolor\":\"white\",\"ticks\":\"\"}},\"coloraxis\":{\"colorbar\":{\"outlinewidth\":0,\"ticks\":\"\"}},\"colorscale\":{\"sequential\":[[0.0,\"#0d0887\"],[0.1111111111111111,\"#46039f\"],[0.2222222222222222,\"#7201a8\"],[0.3333333333333333,\"#9c179e\"],[0.4444444444444444,\"#bd3786\"],[0.5555555555555556,\"#d8576b\"],[0.6666666666666666,\"#ed7953\"],[0.7777777777777778,\"#fb9f3a\"],[0.8888888888888888,\"#fdca26\"],[1.0,\"#f0f921\"]],\"sequentialminus\":[[0.0,\"#0d0887\"],[0.1111111111111111,\"#46039f\"],[0.2222222222222222,\"#7201a8\"],[0.3333333333333333,\"#9c179e\"],[0.4444444444444444,\"#bd3786\"],[0.5555555555555556,\"#d8576b\"],[0.6666666666666666,\"#ed7953\"],[0.7777777777777778,\"#fb9f3a\"],[0.8888888888888888,\"#fdca26\"],[1.0,\"#f0f921\"]],\"diverging\":[[0,\"#8e0152\"],[0.1,\"#c51b7d\"],[0.2,\"#de77ae\"],[0.3,\"#f1b6da\"],[0.4,\"#fde0ef\"],[0.5,\"#f7f7f7\"],[0.6,\"#e6f5d0\"],[0.7,\"#b8e186\"],[0.8,\"#7fbc41\"],[0.9,\"#4d9221\"],[1,\"#276419\"]]},\"xaxis\":{\"gridcolor\":\"white\",\"linecolor\":\"white\",\"ticks\":\"\",\"title\":{\"standoff\":15},\"zerolinecolor\":\"white\",\"automargin\":true,\"zerolinewidth\":2},\"yaxis\":{\"gridcolor\":\"white\",\"linecolor\":\"white\",\"ticks\":\"\",\"title\":{\"standoff\":15},\"zerolinecolor\":\"white\",\"automargin\":true,\"zerolinewidth\":2},\"scene\":{\"xaxis\":{\"backgroundcolor\":\"#E5ECF6\",\"gridcolor\":\"white\",\"linecolor\":\"white\",\"showbackground\":true,\"ticks\":\"\",\"zerolinecolor\":\"white\",\"gridwidth\":2},\"yaxis\":{\"backgroundcolor\":\"#E5ECF6\",\"gridcolor\":\"white\",\"linecolor\":\"white\",\"showbackground\":true,\"ticks\":\"\",\"zerolinecolor\":\"white\",\"gridwidth\":2},\"zaxis\":{\"backgroundcolor\":\"#E5ECF6\",\"gridcolor\":\"white\",\"linecolor\":\"white\",\"showbackground\":true,\"ticks\":\"\",\"zerolinecolor\":\"white\",\"gridwidth\":2}},\"shapedefaults\":{\"line\":{\"color\":\"#2a3f5f\"}},\"annotationdefaults\":{\"arrowcolor\":\"#2a3f5f\",\"arrowhead\":0,\"arrowwidth\":1},\"geo\":{\"bgcolor\":\"white\",\"landcolor\":\"#E5ECF6\",\"subunitcolor\":\"white\",\"showland\":true,\"showlakes\":true,\"lakecolor\":\"white\"},\"title\":{\"x\":0.05},\"mapbox\":{\"style\":\"light\"}}},\"legend\":{\"tracegroupgap\":0},\"margin\":{\"t\":60}},                        {\"responsive\": true}                    ).then(function(){\n",
       "                            \n",
       "var gd = document.getElementById('75dc02dc-1985-49dd-89f4-b4a1d0761982');\n",
       "var x = new MutationObserver(function (mutations, observer) {{\n",
       "        var display = window.getComputedStyle(gd).display;\n",
       "        if (!display || display === 'none') {{\n",
       "            console.log([gd, 'removed!']);\n",
       "            Plotly.purge(gd);\n",
       "            observer.disconnect();\n",
       "        }}\n",
       "}});\n",
       "\n",
       "// Listen for the removal of the full notebook cells\n",
       "var notebookContainer = gd.closest('#notebook-container');\n",
       "if (notebookContainer) {{\n",
       "    x.observe(notebookContainer, {childList: true});\n",
       "}}\n",
       "\n",
       "// Listen for the clearing of the current output cell\n",
       "var outputEl = gd.closest('.output');\n",
       "if (outputEl) {{\n",
       "    x.observe(outputEl, {childList: true});\n",
       "}}\n",
       "\n",
       "                        })                };                });            </script>        </div>"
      ]
     },
     "metadata": {},
     "output_type": "display_data"
    }
   ],
   "source": [
    "import plotly.express as px\n",
    "\n",
    "fig = px.sunburst(df7, path=['DeviceId','Testing', 'Status'], values='value')\n",
    "fig.show()"
   ]
  },
  {
   "cell_type": "code",
   "execution_count": null,
   "id": "99e74e25",
   "metadata": {},
   "outputs": [],
   "source": []
  }
 ],
 "metadata": {
  "kernelspec": {
   "display_name": "Python 3 (ipykernel)",
   "language": "python",
   "name": "python3"
  },
  "language_info": {
   "codemirror_mode": {
    "name": "ipython",
    "version": 3
   },
   "file_extension": ".py",
   "mimetype": "text/x-python",
   "name": "python",
   "nbconvert_exporter": "python",
   "pygments_lexer": "ipython3",
   "version": "3.7.11"
  }
 },
 "nbformat": 4,
 "nbformat_minor": 5
}
